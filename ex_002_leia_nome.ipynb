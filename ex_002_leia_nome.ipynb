{
  "nbformat": 4,
  "nbformat_minor": 0,
  "metadata": {
    "colab": {
      "name": "Untitled1.ipynb",
      "provenance": [],
      "authorship_tag": "ABX9TyMm3TKc5xY6OZy9SNVbxxPk",
      "include_colab_link": true
    },
    "kernelspec": {
      "name": "python3",
      "display_name": "Python 3"
    }
  },
  "cells": [
    {
      "cell_type": "markdown",
      "metadata": {
        "id": "view-in-github",
        "colab_type": "text"
      },
      "source": [
        "<a href=\"https://colab.research.google.com/github/rochinha23/Exercicios_Curso_em_video/blob/main/ex_02_leia_nome.ipynb\" target=\"_parent\"><img src=\"https://colab.research.google.com/assets/colab-badge.svg\" alt=\"Open In Colab\"/></a>"
      ]
    },
    {
      "cell_type": "code",
      "metadata": {
        "id": "tbfNfeUEbJaz",
        "outputId": "3550a40c-a10c-4b0b-f373-812fb894687c",
        "colab": {
          "base_uri": "https://localhost:8080/"
        }
      },
      "source": [
        "'''\n",
        "ex_002\n",
        "Faça um programa que leia o nome de uma pessoa e mostre uma mensagem de boas-vindas.\n",
        "'''\n",
        "\n",
        "nome = input(\"qual é seu nome? \")\n",
        "print(\"Seja bem vinda(o) {}\".format(nome))\n"
      ],
      "execution_count": 1,
      "outputs": [
        {
          "output_type": "stream",
          "text": [
            "qual é seu nome? Lucas\n",
            "Seja bem vinda(o) Lucas\n"
          ],
          "name": "stdout"
        }
      ]
    }
  ]
}
