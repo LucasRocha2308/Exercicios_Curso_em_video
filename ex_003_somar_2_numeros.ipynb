{
  "nbformat": 4,
  "nbformat_minor": 0,
  "metadata": {
    "colab": {
      "name": "ex_003_somar_2_numeros.ipynb",
      "provenance": [],
      "authorship_tag": "ABX9TyN2ccB9ged4hnNr80/auy9U",
      "include_colab_link": true
    },
    "kernelspec": {
      "name": "python3",
      "display_name": "Python 3"
    }
  },
  "cells": [
    {
      "cell_type": "markdown",
      "metadata": {
        "id": "view-in-github",
        "colab_type": "text"
      },
      "source": [
        "<a href=\"https://colab.research.google.com/github/rochinha23/Exercicios_Curso_em_video/blob/main/ex_003_somar_2_numeros.ipynb\" target=\"_parent\"><img src=\"https://colab.research.google.com/assets/colab-badge.svg\" alt=\"Open In Colab\"/></a>"
      ]
    },
    {
      "cell_type": "code",
      "metadata": {
        "id": "-I--LbyzfDqf",
        "outputId": "41a48711-ac23-48aa-8e1f-9dd2d48bf9e9",
        "colab": {
          "base_uri": "https://localhost:8080/"
        }
      },
      "source": [
        "'''\n",
        "ex_003\n",
        "Crie um programa que leia dois números e mostre a soma entre eles\n",
        "'''\n",
        "\n",
        "num1 = int(input(\"Digite um número: \"))\n",
        "num2 = int(input(\"Digite outro número: \"))\n",
        "\n",
        "soma = num1 + num2\n",
        "\n",
        "print(\"A soma entre {} e {} é igual a {}\".format(num1, num2, soma))"
      ],
      "execution_count": 1,
      "outputs": [
        {
          "output_type": "stream",
          "text": [
            "Digite um número: 5\n",
            "Digite outro número: 6\n",
            "A soma entre 5 e 6 é igual a 11\n"
          ],
          "name": "stdout"
        }
      ]
    }
  ]
}