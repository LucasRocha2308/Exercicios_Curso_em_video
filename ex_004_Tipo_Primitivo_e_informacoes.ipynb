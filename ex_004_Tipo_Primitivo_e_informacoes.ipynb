{
  "nbformat": 4,
  "nbformat_minor": 0,
  "metadata": {
    "colab": {
      "name": "ex_004_Tipo_Primitivo_e_informacoes.ipynb",
      "provenance": [],
      "collapsed_sections": [],
      "authorship_tag": "ABX9TyPyXFlXWqrmuj+ZqyklOm6i",
      "include_colab_link": true
    },
    "kernelspec": {
      "name": "python3",
      "display_name": "Python 3"
    }
  },
  "cells": [
    {
      "cell_type": "markdown",
      "metadata": {
        "id": "view-in-github",
        "colab_type": "text"
      },
      "source": [
        "<a href=\"https://colab.research.google.com/github/rochinha23/Exercicios_Curso_em_video/blob/main/ex_004_Tipo_Primitivo_e_informacoes.ipynb\" target=\"_parent\"><img src=\"https://colab.research.google.com/assets/colab-badge.svg\" alt=\"Open In Colab\"/></a>"
      ]
    },
    {
      "cell_type": "code",
      "metadata": {
        "id": "-N7ssksigNSG",
        "outputId": "c752d8ef-985e-47d8-9e89-5f77c206375a",
        "colab": {
          "base_uri": "https://localhost:8080/"
        }
      },
      "source": [
        "\"\"\"\n",
        "ex_004\n",
        "Faça um programa que leia algo pelo teclado e\n",
        "mostra na tela o seu tipo primitivo e todas as informações possiveis sobre ele.\n",
        "\"\"\"\n",
        "\n",
        "a = input(\"Digite algo:\")\n",
        "print(\"O tipo primitivo deste valor é: \",type(a))\n",
        "print(\"Só tem espaços? {}\".format(a.isspace()))\n",
        "print(\"É um número? {}\".format(a.isnumeric()))\n",
        "print(\"É alfabético? {}\".format(a.isalpha()))\n",
        "print(\"É alfanumérico? {}\".format(a.isalnum()))\n",
        "print(\"Está em maiúsculas? {}\".format(a.isupper()))\n",
        "print(\"Está em minúsculas? {}\".format(a.islower()))\n",
        "print(\"Está capitalizada? {}\".format(a.istitle()))\n"
      ],
      "execution_count": 1,
      "outputs": [
        {
          "output_type": "stream",
          "text": [
            "Digite algo:lucas rocha\n",
            "O tipo primitivo deste valor é:  <class 'str'>\n",
            "Só tem espaços? False\n",
            "É um número? False\n",
            "É alfabético? False\n",
            "É alfanumérico? False\n",
            "Está em maiúsculas? False\n",
            "Está em minúsculas? True\n",
            "Está capitalizada? False\n"
          ],
          "name": "stdout"
        }
      ]
    }
  ]
}