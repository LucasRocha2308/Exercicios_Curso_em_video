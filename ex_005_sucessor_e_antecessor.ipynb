{
  "nbformat": 4,
  "nbformat_minor": 0,
  "metadata": {
    "colab": {
      "name": "ex_005_sucessor_e_antecessor.ipynb",
      "provenance": [],
      "collapsed_sections": [],
      "authorship_tag": "ABX9TyPbfR6nnhtWU/clwsuh7Z0Y",
      "include_colab_link": true
    },
    "kernelspec": {
      "name": "python3",
      "display_name": "Python 3"
    }
  },
  "cells": [
    {
      "cell_type": "markdown",
      "metadata": {
        "id": "view-in-github",
        "colab_type": "text"
      },
      "source": [
        "<a href=\"https://colab.research.google.com/github/rochinha23/Exercicios_Curso_em_video/blob/main/ex_005_sucessor_e_antecessor.ipynb\" target=\"_parent\"><img src=\"https://colab.research.google.com/assets/colab-badge.svg\" alt=\"Open In Colab\"/></a>"
      ]
    },
    {
      "cell_type": "code",
      "metadata": {
        "id": "sd2ETWoJiNNU",
        "outputId": "c273d227-4591-41c5-e1d6-7fd4412dbf17",
        "colab": {
          "base_uri": "https://localhost:8080/"
        }
      },
      "source": [
        "'''\n",
        "ex_005\n",
        "Faça um programa que leia um número inteiro e\n",
        "mostre na tela o seu sucessor e seu antecessor\n",
        "'''\n",
        "\n",
        "n = int(input(\"Digite um número inteiro: \"))\n",
        "s = int(n + 1)\n",
        "a = int(n - 1)\n",
        "print(\"O número {} tem como sucessor {} e antecessor {} \".format(n, s, a))\n"
      ],
      "execution_count": 1,
      "outputs": [
        {
          "output_type": "stream",
          "text": [
            "Digite um número inteiro: 5\n",
            "O número 5 tem como sucessor 6 e antecessor 4 \n"
          ],
          "name": "stdout"
        }
      ]
    }
  ]
}