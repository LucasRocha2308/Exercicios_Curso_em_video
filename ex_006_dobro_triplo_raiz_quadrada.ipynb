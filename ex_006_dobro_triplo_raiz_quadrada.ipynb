{
  "nbformat": 4,
  "nbformat_minor": 0,
  "metadata": {
    "colab": {
      "name": "ex_006_dobro_triplo_raiz_quadrada.ipynb",
      "provenance": [],
      "collapsed_sections": [],
      "authorship_tag": "ABX9TyMAQmEBg5cvOj73JNJzVc+L",
      "include_colab_link": true
    },
    "kernelspec": {
      "name": "python3",
      "display_name": "Python 3"
    }
  },
  "cells": [
    {
      "cell_type": "markdown",
      "metadata": {
        "id": "view-in-github",
        "colab_type": "text"
      },
      "source": [
        "<a href=\"https://colab.research.google.com/github/rochinha23/Exercicios_Curso_em_video/blob/main/ex_006_dobro_triplo_raiz_quadrada.ipynb\" target=\"_parent\"><img src=\"https://colab.research.google.com/assets/colab-badge.svg\" alt=\"Open In Colab\"/></a>"
      ]
    },
    {
      "cell_type": "code",
      "metadata": {
        "id": "RdfUVCBGjwdo",
        "outputId": "ee660852-b54b-4941-a238-2a062dc24637",
        "colab": {
          "base_uri": "https://localhost:8080/"
        }
      },
      "source": [
        "'''\n",
        "ex_006\n",
        "Crie um algoritmo que leia um número e mostre o seu dobro, triplo e raiz quadrada\n",
        "'''\n",
        "\n",
        "n = float(input(\"Digite um número: \"))\n",
        "\n",
        "dobro = n * 2\n",
        "triplo = n * 3\n",
        "raiz_q = n ** (1/2)\n",
        "\n",
        "print(\"O dobro do número {} é {}\\no triplo é {} \\ne a raiz quadrada é {:.2f}\".format(n, dobro,triplo,raiz_q))"
      ],
      "execution_count": 4,
      "outputs": [
        {
          "output_type": "stream",
          "text": [
            "Digite um número: 5\n",
            "O dobro do número 5.0 é 10.0\n",
            "o triplo é 15.0 \n",
            "e a raiz quadrada é 2.24\n"
          ],
          "name": "stdout"
        }
      ]
    }
  ]
}