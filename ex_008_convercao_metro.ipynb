{
  "nbformat": 4,
  "nbformat_minor": 0,
  "metadata": {
    "colab": {
      "name": "ex_008_convercao_metro.ipynb",
      "provenance": [],
      "collapsed_sections": [],
      "authorship_tag": "ABX9TyMMFdbtFeJ+w+74kraZ7NHh",
      "include_colab_link": true
    },
    "kernelspec": {
      "name": "python3",
      "display_name": "Python 3"
    }
  },
  "cells": [
    {
      "cell_type": "markdown",
      "metadata": {
        "id": "view-in-github",
        "colab_type": "text"
      },
      "source": [
        "<a href=\"https://colab.research.google.com/github/rochinha23/Exercicios_Curso_em_video/blob/main/ex_008_convercao_metro.ipynb\" target=\"_parent\"><img src=\"https://colab.research.google.com/assets/colab-badge.svg\" alt=\"Open In Colab\"/></a>"
      ]
    },
    {
      "cell_type": "markdown",
      "metadata": {
        "id": "hV8aQl1onKTq"
      },
      "source": [
        ""
      ]
    },
    {
      "cell_type": "code",
      "metadata": {
        "id": "DB7S1YC1mebx",
        "outputId": "fc20549c-6fa9-4c3a-edaf-c919a214dbaa",
        "colab": {
          "base_uri": "https://localhost:8080/"
        }
      },
      "source": [
        "\"\"\"\" \n",
        "ex_008\n",
        "Escreva um programa que leia um valor em metros\n",
        "e o exiba convertido em centimetros e milimetros \n",
        "\"\"\"\n",
        "\n",
        "m = float(input(\"Digite o valor do metro: \"))\n",
        "\n",
        "c = m * 100\n",
        "mil = m * 1000\n",
        "\n",
        "print(\"{} metros convertido vale: {} centimetro e {} milimetros\".format(m,c,mil))\n"
      ],
      "execution_count": 1,
      "outputs": [
        {
          "output_type": "stream",
          "text": [
            "Digite o valor do metro: 5\n",
            "5.0 metros convertido vale: 500.0 centimetro e 5000.0 milimetros\n"
          ],
          "name": "stdout"
        }
      ]
    }
  ]
}