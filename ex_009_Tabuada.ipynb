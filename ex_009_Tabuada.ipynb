{
  "nbformat": 4,
  "nbformat_minor": 0,
  "metadata": {
    "colab": {
      "name": "ex_009_Tabuada.ipynb",
      "provenance": [],
      "collapsed_sections": [],
      "authorship_tag": "ABX9TyNalJnXmxwwLmADMnUvQ24J",
      "include_colab_link": true
    },
    "kernelspec": {
      "name": "python3",
      "display_name": "Python 3"
    }
  },
  "cells": [
    {
      "cell_type": "markdown",
      "metadata": {
        "id": "view-in-github",
        "colab_type": "text"
      },
      "source": [
        "<a href=\"https://colab.research.google.com/github/rochinha23/Exercicios_Curso_em_video/blob/main/ex_009_Tabuada.ipynb\" target=\"_parent\"><img src=\"https://colab.research.google.com/assets/colab-badge.svg\" alt=\"Open In Colab\"/></a>"
      ]
    },
    {
      "cell_type": "code",
      "metadata": {
        "id": "BBpJqYTjocZw",
        "outputId": "73c87c66-fb2f-4c8f-cdff-fa517cc69020",
        "colab": {
          "base_uri": "https://localhost:8080/"
        }
      },
      "source": [
        "\"\"\"\n",
        "ex_009 \n",
        "Faça um programa que leia um número inteiro qualquer\n",
        "e mostre na tela a sua tabuada\n",
        "\"\"\"\n",
        "\n",
        "n = int(input(\"Digite um número inteiro para ver sua tabela: \"))\n",
        "\n",
        "n0 = n * 0\n",
        "n1 = n * 1\n",
        "n2 = n * 2\n",
        "n3 = n * 3\n",
        "n4 = n * 4\n",
        "n5 = n * 5\n",
        "n6 = n * 6\n",
        "n7 = n * 7\n",
        "n8 = n * 8\n",
        "n9 = n * 9\n",
        "n10 = n * 10\n",
        "\n",
        "print(\"A tabuada do número {} é: \".format(n))\n",
        "print(\"{} * 0  = {}\".format(n, n0))\n",
        "print(\"{} * 1  = {}\".format(n, n1))\n",
        "print(\"{} * 2  = {}\".format(n, n2))\n",
        "print(\"{} * 3  = {}\".format(n, n3))\n",
        "print(\"{} * 4  = {}\".format(n, n4))\n",
        "print(\"{} * 5  = {}\".format(n, n5))\n",
        "print(\"{} * 6  = {}\".format(n, n6))\n",
        "print(\"{} * 7  = {}\".format(n, n7))\n",
        "print(\"{} * 8  = {}\".format(n, n8))\n",
        "print(\"{} * 9  = {}\".format(n, n9))\n",
        "print(\"{} * 10 = {}\".format(n, n10))\n"
      ],
      "execution_count": 1,
      "outputs": [
        {
          "output_type": "stream",
          "text": [
            "Digite um número inteiro para ver sua tabela: 5\n",
            "A tabuada do número 5 é: \n",
            "5 * 0  = 0\n",
            "5 * 1  = 5\n",
            "5 * 2  = 10\n",
            "5 * 3  = 15\n",
            "5 * 4  = 20\n",
            "5 * 5  = 25\n",
            "5 * 6  = 30\n",
            "5 * 7  = 35\n",
            "5 * 8  = 40\n",
            "5 * 9  = 45\n",
            "5 * 10 = 50\n"
          ],
          "name": "stdout"
        }
      ]
    }
  ]
}