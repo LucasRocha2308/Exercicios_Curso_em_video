{
  "nbformat": 4,
  "nbformat_minor": 0,
  "metadata": {
    "colab": {
      "name": "ex_010_converte_real_em_dolar.ipynb",
      "provenance": [],
      "collapsed_sections": [],
      "authorship_tag": "ABX9TyPMU54QOXQjDedJ7ZCqMc4o",
      "include_colab_link": true
    },
    "kernelspec": {
      "name": "python3",
      "display_name": "Python 3"
    }
  },
  "cells": [
    {
      "cell_type": "markdown",
      "metadata": {
        "id": "view-in-github",
        "colab_type": "text"
      },
      "source": [
        "<a href=\"https://colab.research.google.com/github/rochinha23/Exercicios_Curso_em_video/blob/main/ex_010_converte_real_em_dolar.ipynb\" target=\"_parent\"><img src=\"https://colab.research.google.com/assets/colab-badge.svg\" alt=\"Open In Colab\"/></a>"
      ]
    },
    {
      "cell_type": "code",
      "metadata": {
        "id": "fq1KoRw-sHbx",
        "outputId": "a429864d-c20b-48d6-c33e-c4aaa2561913",
        "colab": {
          "base_uri": "https://localhost:8080/"
        }
      },
      "source": [
        "'''\n",
        "ex_010\n",
        "Crie um programa que leia quanto dinheiro uma pessoa tem na carteira e mostre quantos \n",
        "Dólares ela pode comprar.\n",
        "\n",
        "considere US$1.00 = R$3.27\n",
        "'''\n",
        "dinheiro = float(input('Quanto dinheiro você tem? '))\n",
        "\n",
        "dolar = dinheiro / 3.27\n",
        "\n",
        "print('Você tem R$ {} equivalente a US$ {:.2f}'.format(dinheiro, dolar))\n"
      ],
      "execution_count": 1,
      "outputs": [
        {
          "output_type": "stream",
          "text": [
            "Quanto dinheiro você tem? 50\n",
            "Você tem R$ 50.0 equivalente a US$ 15.29\n"
          ],
          "name": "stdout"
        }
      ]
    }
  ]
}