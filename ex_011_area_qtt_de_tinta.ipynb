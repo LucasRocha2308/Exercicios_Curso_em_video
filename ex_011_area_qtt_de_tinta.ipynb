{
  "nbformat": 4,
  "nbformat_minor": 0,
  "metadata": {
    "colab": {
      "name": "ex_011_area_qtt_de_tinta.ipynb",
      "provenance": [],
      "collapsed_sections": [],
      "authorship_tag": "ABX9TyPNGMa24y5RXvab9misYqHH",
      "include_colab_link": true
    },
    "kernelspec": {
      "name": "python3",
      "display_name": "Python 3"
    }
  },
  "cells": [
    {
      "cell_type": "markdown",
      "metadata": {
        "id": "view-in-github",
        "colab_type": "text"
      },
      "source": [
        "<a href=\"https://colab.research.google.com/github/rochinha23/Exercicios_Curso_em_video/blob/main/ex_011_area_qtt_de_tinta.ipynb\" target=\"_parent\"><img src=\"https://colab.research.google.com/assets/colab-badge.svg\" alt=\"Open In Colab\"/></a>"
      ]
    },
    {
      "cell_type": "markdown",
      "metadata": {
        "id": "yFX6G3DOuYmL"
      },
      "source": [
        "'''\n",
        "ex_011\n",
        "\n",
        "Faça um programa que leia a largura e a altura de uma parede\n",
        "em metros, calcule a sua área e a quantidade de tinta necessária\n",
        "para pintá-la, sabendo que cada litro de tinta, pinta uma área de 2m**2\n",
        "'''"
      ]
    },
    {
      "cell_type": "code",
      "metadata": {
        "id": "bmgVa6Ffu8Hy",
        "outputId": "356c6985-d0d1-4e2e-9dfe-e502c68e99df",
        "colab": {
          "base_uri": "https://localhost:8080/"
        }
      },
      "source": [
        "largura = float(input(\"Qual a largura da parede em metros? \"))\n",
        "altura = float(input(\"Qual a altura da parede em metros? \"))\n",
        "\n",
        "area = largura*altura\n",
        "tinta = area / 2\n",
        "\n",
        "print(\"A área da parede é de {} m**2 precisando de {} litros de tinta para pintá-la \".format(area, tinta))\n"
      ],
      "execution_count": 1,
      "outputs": [
        {
          "output_type": "stream",
          "text": [
            "Qual a largura da parede em metros? 5\n",
            "Qual a altura da parede em metros? 6\n",
            "A área da parede é de 30.0 m**2 precisando de 15.0 litros de tinta para pintá-la \n"
          ],
          "name": "stdout"
        }
      ]
    }
  ]
}