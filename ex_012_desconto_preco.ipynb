{
  "nbformat": 4,
  "nbformat_minor": 0,
  "metadata": {
    "colab": {
      "name": "ex_012_desconto_preco.ipynb",
      "provenance": [],
      "collapsed_sections": [],
      "authorship_tag": "ABX9TyOAEKgjDc9xVY78y2EhDIzJ",
      "include_colab_link": true
    },
    "kernelspec": {
      "name": "python3",
      "display_name": "Python 3"
    }
  },
  "cells": [
    {
      "cell_type": "markdown",
      "metadata": {
        "id": "view-in-github",
        "colab_type": "text"
      },
      "source": [
        "<a href=\"https://colab.research.google.com/github/rochinha23/Exercicios_Curso_em_video/blob/main/ex_012_desconto_preco.ipynb\" target=\"_parent\"><img src=\"https://colab.research.google.com/assets/colab-badge.svg\" alt=\"Open In Colab\"/></a>"
      ]
    },
    {
      "cell_type": "markdown",
      "metadata": {
        "id": "GgwP0qGrGQc6"
      },
      "source": [
        "'''\n",
        "ex_012\n",
        "\n",
        "Faça um algoritmo que leia o preço de um produto e mostre seu\n",
        "novo preço, com 5% de desconto.\n",
        "'''\n"
      ]
    },
    {
      "cell_type": "code",
      "metadata": {
        "id": "4DkTUiZ7Gar-",
        "outputId": "af12e5b9-e8b5-4650-ca86-66971874122c",
        "colab": {
          "base_uri": "https://localhost:8080/"
        }
      },
      "source": [
        "preco = float(input(\"Qual o preço do produto? \"))\n",
        "novo_preco = preco - (preco*0.05)\n",
        "print ('O preço do produto é {} reais com desconto de 5% fica {} reais'.format(preco, novo_preco))\n"
      ],
      "execution_count": 1,
      "outputs": [
        {
          "output_type": "stream",
          "text": [
            "Qual o preço do produto? 5\n",
            "O preço do produto é 5.0 reais com desconto de 5% fica 4.75 reais\n"
          ],
          "name": "stdout"
        }
      ]
    }
  ]
}