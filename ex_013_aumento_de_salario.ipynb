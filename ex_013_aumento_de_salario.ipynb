{
  "nbformat": 4,
  "nbformat_minor": 0,
  "metadata": {
    "colab": {
      "name": "ex_013_aumento_de_salario.ipynb",
      "provenance": [],
      "collapsed_sections": [],
      "authorship_tag": "ABX9TyMzm2XVFZM22FbJLaDQJ9K6",
      "include_colab_link": true
    },
    "kernelspec": {
      "name": "python3",
      "display_name": "Python 3"
    }
  },
  "cells": [
    {
      "cell_type": "markdown",
      "metadata": {
        "id": "view-in-github",
        "colab_type": "text"
      },
      "source": [
        "<a href=\"https://colab.research.google.com/github/rochinha23/Exercicios_Curso_em_video/blob/main/ex_013_aumento_de_salario.ipynb\" target=\"_parent\"><img src=\"https://colab.research.google.com/assets/colab-badge.svg\" alt=\"Open In Colab\"/></a>"
      ]
    },
    {
      "cell_type": "markdown",
      "metadata": {
        "id": "yAAaFcEXHLfd"
      },
      "source": [
        "ex_013\n",
        "\n",
        "Faça um algoritmo que leia o salario de um funcionario e \n",
        "mostre seu novo salario, com 15% de aumento. "
      ]
    },
    {
      "cell_type": "code",
      "metadata": {
        "id": "MbweSWF3HUJF",
        "outputId": "0d229adc-88f0-4e71-bd5f-03aa473304ca",
        "colab": {
          "base_uri": "https://localhost:8080/"
        }
      },
      "source": [
        "salario = float(input('Qual o salario do funcionario? '))\n",
        "salario_novo = salario*(1.15)\n",
        "print ('O atual salario do funcionario é {} reais, com aumento de 15% ficará {} reais'.format(salario, salario_novo))\n"
      ],
      "execution_count": 2,
      "outputs": [
        {
          "output_type": "stream",
          "text": [
            "Qual o salario do funcionario? 1000\n",
            "O atual salario do funcionario é 1000.0 reais, \n",
            "com aumento de 15% ficará 1150.0 reais\n"
          ],
          "name": "stdout"
        }
      ]
    }
  ]
}