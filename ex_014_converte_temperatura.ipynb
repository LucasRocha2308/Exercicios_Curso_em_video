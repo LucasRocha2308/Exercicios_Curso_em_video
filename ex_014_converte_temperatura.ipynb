{
  "nbformat": 4,
  "nbformat_minor": 0,
  "metadata": {
    "colab": {
      "name": "ex_014_converte_temperatura.ipynb",
      "provenance": [],
      "authorship_tag": "ABX9TyOU5PVicv/NL4fR9hw3f7fk",
      "include_colab_link": true
    },
    "kernelspec": {
      "name": "python3",
      "display_name": "Python 3"
    }
  },
  "cells": [
    {
      "cell_type": "markdown",
      "metadata": {
        "id": "view-in-github",
        "colab_type": "text"
      },
      "source": [
        "<a href=\"https://colab.research.google.com/github/rochinha23/Exercicios_Curso_em_video/blob/main/ex_014_converte_temperatura.ipynb\" target=\"_parent\"><img src=\"https://colab.research.google.com/assets/colab-badge.svg\" alt=\"Open In Colab\"/></a>"
      ]
    },
    {
      "cell_type": "markdown",
      "metadata": {
        "id": "FrcUojJRJBNa"
      },
      "source": [
        "ex_014\n",
        "\n",
        "Escreva um programa que converta uma temperatura digitada em graus ºC e converta para graus ºF.\n"
      ]
    },
    {
      "cell_type": "code",
      "metadata": {
        "id": "NTz0UkbcJ_ft",
        "outputId": "335c3c61-77e0-478b-c64a-61e07631d017",
        "colab": {
          "base_uri": "https://localhost:8080/"
        }
      },
      "source": [
        "C = float(input('Qual a temperatura em Celsius? '))\n",
        "\n",
        "F = 1.8*C + 32\n",
        "\n",
        "print ('O valor de {}ºC convertido vale {}ºF'.format(C, F))"
      ],
      "execution_count": 2,
      "outputs": [
        {
          "output_type": "stream",
          "text": [
            "Qual a temperatura em Celsius? 25\n",
            "O valor de 25.0ºC convertido vale 77.0ºF\n"
          ],
          "name": "stdout"
        }
      ]
    }
  ]
}