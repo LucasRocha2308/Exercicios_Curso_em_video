{
  "nbformat": 4,
  "nbformat_minor": 0,
  "metadata": {
    "colab": {
      "name": "ex_015_preco_a_pagar.ipynb",
      "provenance": [],
      "collapsed_sections": [],
      "authorship_tag": "ABX9TyNioo2jSjoKmAVhFq+4EAsx",
      "include_colab_link": true
    },
    "kernelspec": {
      "name": "python3",
      "display_name": "Python 3"
    }
  },
  "cells": [
    {
      "cell_type": "markdown",
      "metadata": {
        "id": "view-in-github",
        "colab_type": "text"
      },
      "source": [
        "<a href=\"https://colab.research.google.com/github/rochinha23/Exercicios_Curso_em_video/blob/main/ex_015_preco_a_pagar.ipynb\" target=\"_parent\"><img src=\"https://colab.research.google.com/assets/colab-badge.svg\" alt=\"Open In Colab\"/></a>"
      ]
    },
    {
      "cell_type": "markdown",
      "metadata": {
        "id": "lkIFVQOEKrwn"
      },
      "source": [
        "ex_015\n",
        "\n",
        "Escreva um programa que pergunte a quantidade de Km percorridos por\n",
        "um carro alugado e a quantidade de dias pelos quais ele foi alugado. \n",
        "Calcule o preço a pagar. Sabendo que o carro custa 60 reais por dia\n",
        "e 0.15 centavos por km rodado."
      ]
    },
    {
      "cell_type": "code",
      "metadata": {
        "id": "YR6WZgV_MDiO",
        "outputId": "730b2ffc-f161-4887-ddcf-cdbd6d7e21ee",
        "colab": {
          "base_uri": "https://localhost:8080/"
        }
      },
      "source": [
        "km = float(input('Qual foi a quantidade de Km percorridos pelo carro?'))\n",
        "dia = int(input('Quantos dias o carro ficou alugado? '))\n",
        "\n",
        "preco = ( 60 * dia ) + (0.15 * km)\n",
        "\n",
        "print ('O preço a pagar pelo aluguel do carro é de: {:.2f} reais'.format(preco))\n"
      ],
      "execution_count": 1,
      "outputs": [
        {
          "output_type": "stream",
          "text": [
            "Qual foi a quantidade de Km percorridos pelo carro?100\n",
            "Quantos dias o carro ficou alugado? 5\n",
            "O preço a pagar pelo aluguel do carro é de: 315.00 reais\n"
          ],
          "name": "stdout"
        }
      ]
    },
    {
      "cell_type": "markdown",
      "metadata": {
        "id": "zQr3bfJTK0NQ"
      },
      "source": [
        ""
      ]
    }
  ]
}