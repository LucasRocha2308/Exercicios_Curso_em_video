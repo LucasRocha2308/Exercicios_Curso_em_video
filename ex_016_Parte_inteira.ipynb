{
  "nbformat": 4,
  "nbformat_minor": 0,
  "metadata": {
    "colab": {
      "name": "ex_016_Parte_inteira.ipynb",
      "provenance": [],
      "collapsed_sections": [],
      "authorship_tag": "ABX9TyNoqMcUGsO5fQeyZiBarLsJ",
      "include_colab_link": true
    },
    "kernelspec": {
      "name": "python3",
      "display_name": "Python 3"
    }
  },
  "cells": [
    {
      "cell_type": "markdown",
      "metadata": {
        "id": "view-in-github",
        "colab_type": "text"
      },
      "source": [
        "<a href=\"https://colab.research.google.com/github/rochinha23/Exercicios_Curso_em_video/blob/main/ex_016_Parte_inteira.ipynb\" target=\"_parent\"><img src=\"https://colab.research.google.com/assets/colab-badge.svg\" alt=\"Open In Colab\"/></a>"
      ]
    },
    {
      "cell_type": "markdown",
      "metadata": {
        "id": "_HuyoXNROuCi"
      },
      "source": [
        "ex_016\n",
        "\n",
        "Crie um programa que leia um número real qualquer \n",
        "pelo teclado e mostre na tela a sua porção inteira\n"
      ]
    },
    {
      "cell_type": "code",
      "metadata": {
        "id": "8S4FEE_bPBq0",
        "outputId": "ec15edf0-f3b4-4b4c-a425-099c2ffa1079",
        "colab": {
          "base_uri": "https://localhost:8080/"
        }
      },
      "source": [
        "import math\n",
        "num = float(input(\"Digite um valor\"))\n",
        "print('O valor foi {} e a sua porção inteira é {}'.format(num, math.trunc(num)))\n"
      ],
      "execution_count": 2,
      "outputs": [
        {
          "output_type": "stream",
          "text": [
            "Digite um valor6.25\n",
            "O valor foi 6.25 e a sua porção inteira é 6\n"
          ],
          "name": "stdout"
        }
      ]
    }
  ]
}