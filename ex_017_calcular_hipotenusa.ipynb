{
  "nbformat": 4,
  "nbformat_minor": 0,
  "metadata": {
    "colab": {
      "name": "ex_017_calcular_hipotenusa.ipynb",
      "provenance": [],
      "collapsed_sections": [],
      "authorship_tag": "ABX9TyNrAhHAG1zrg8CJZV/YP9dK",
      "include_colab_link": true
    },
    "kernelspec": {
      "name": "python3",
      "display_name": "Python 3"
    }
  },
  "cells": [
    {
      "cell_type": "markdown",
      "metadata": {
        "id": "view-in-github",
        "colab_type": "text"
      },
      "source": [
        "<a href=\"https://colab.research.google.com/github/rochinha23/Exercicios_Curso_em_video/blob/main/ex_017_calcular_hipotenusa.ipynb\" target=\"_parent\"><img src=\"https://colab.research.google.com/assets/colab-badge.svg\" alt=\"Open In Colab\"/></a>"
      ]
    },
    {
      "cell_type": "markdown",
      "metadata": {
        "id": "qhrWYJV0P9lN"
      },
      "source": [
        "ex_017\n",
        "\n",
        "Faça um programa que leia o comprimento do cateto oposto\n",
        "e do cateto adjacente de um triangulo retangulo. calcule\n",
        "e mostre o comprimento da hipotenusa.\n"
      ]
    },
    {
      "cell_type": "code",
      "metadata": {
        "id": "r4RVBO6hQlZS",
        "outputId": "3d9eb0f8-1587-4f9c-a11d-b1a03f1f17bd",
        "colab": {
          "base_uri": "https://localhost:8080/"
        }
      },
      "source": [
        "import math\n",
        "\n",
        "co = float(input('Digite o valor do cateto oposto: '))\n",
        "ca = float(input('Digite o valor do cateto adjacente: '))\n",
        "\n",
        "hp = math.hypot(co, ca)\n",
        "\n",
        "print('O comprimento da hipotenusa é {}'.format(hp))"
      ],
      "execution_count": 1,
      "outputs": [
        {
          "output_type": "stream",
          "text": [
            "Digite o valor do cateto oposto: 3\n",
            "Digite o valor do cateto adjacente: 4\n",
            "O comprimento da hipotenusa é 5.0\n"
          ],
          "name": "stdout"
        }
      ]
    }
  ]
}