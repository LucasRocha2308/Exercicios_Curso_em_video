{
  "nbformat": 4,
  "nbformat_minor": 0,
  "metadata": {
    "colab": {
      "name": "ex_018_angulo.ipynb",
      "provenance": [],
      "collapsed_sections": [],
      "authorship_tag": "ABX9TyMe0tn+qBOQ7S6RoMtAJJl1",
      "include_colab_link": true
    },
    "kernelspec": {
      "name": "python3",
      "display_name": "Python 3"
    }
  },
  "cells": [
    {
      "cell_type": "markdown",
      "metadata": {
        "id": "view-in-github",
        "colab_type": "text"
      },
      "source": [
        "<a href=\"https://colab.research.google.com/github/rochinha23/Exercicios_Curso_em_video/blob/main/ex_018_angulo.ipynb\" target=\"_parent\"><img src=\"https://colab.research.google.com/assets/colab-badge.svg\" alt=\"Open In Colab\"/></a>"
      ]
    },
    {
      "cell_type": "markdown",
      "metadata": {
        "id": "9Sx5391-cQC3"
      },
      "source": [
        "ex018\n",
        "\n",
        " Faça um programa que leia um angulo qualquer e mostre na tela:\n",
        " o valor do seno, cosseno e tangente desse angulo."
      ]
    },
    {
      "cell_type": "code",
      "metadata": {
        "id": "VpMQQwP7gM9O",
        "outputId": "9400961f-9f27-4c31-9be9-387e681f9d72",
        "colab": {
          "base_uri": "https://localhost:8080/"
        }
      },
      "source": [
        "import math\n",
        "angulo = float(input('Digite o valor de um angulo: '))\n",
        "\n",
        "sen = math.sin(angulo)\n",
        "cos = math.cos(angulo)\n",
        "tan = math.tan(angulo) \n",
        "\n",
        "print (f'O valor do angulo  é {angulo}, seu seno {sen:.2f}, cosseno {cos:.2f} e tangente {tan:.2f}')"
      ],
      "execution_count": 3,
      "outputs": [
        {
          "output_type": "stream",
          "text": [
            "Digite o valor de um angulo: 45\n",
            "O valor do angulo  é 45.0, seu seno 0.85, cosseno 0.53 e tangente 1.62\n"
          ],
          "name": "stdout"
        }
      ]
    }
  ]
}