{
  "nbformat": 4,
  "nbformat_minor": 0,
  "metadata": {
    "colab": {
      "name": "ex_019_sortear_aluno.ipynb",
      "provenance": [],
      "collapsed_sections": [],
      "authorship_tag": "ABX9TyPJgo+sheh9jnFkGBqjvANc",
      "include_colab_link": true
    },
    "kernelspec": {
      "name": "python3",
      "display_name": "Python 3"
    }
  },
  "cells": [
    {
      "cell_type": "markdown",
      "metadata": {
        "id": "view-in-github",
        "colab_type": "text"
      },
      "source": [
        "<a href=\"https://colab.research.google.com/github/rochinha23/Exercicios_Curso_em_video/blob/main/ex_019_sortear_aluno.ipynb\" target=\"_parent\"><img src=\"https://colab.research.google.com/assets/colab-badge.svg\" alt=\"Open In Colab\"/></a>"
      ]
    },
    {
      "cell_type": "markdown",
      "metadata": {
        "id": "k-VuPXsiiT7F"
      },
      "source": [
        "ex019\n",
        "\n",
        "Um professor quer sortear um dos seus quatro alunos para\n",
        "apagar o quadro. Faça um programa que ajude ele, lendo o nome \n",
        "deles e escrevendo o nome do escolhido."
      ]
    },
    {
      "cell_type": "code",
      "metadata": {
        "id": "2nPbja1-ih4p",
        "outputId": "a8cbb10a-3205-4246-eba0-55cab11b23c6",
        "colab": {
          "base_uri": "https://localhost:8080/"
        }
      },
      "source": [
        "import random\n",
        "\n",
        "n1 = str(input('Digite o nome do primeiro aluno: '))\n",
        "n2 = str(input('Digite o nome do segundo aluno: '))\n",
        "n3 = str(input('Digite o nome do terceiro aluno: '))\n",
        "n4 = str(input('Digite o nome do quatro aluno: '))\n",
        "\n",
        "lista = [n1, n2, n3, n4]\n",
        "sorteio = random.choice(lista)\n",
        "\n",
        "print ('O aluno sorteado foi {}'.format(sorteio))"
      ],
      "execution_count": 1,
      "outputs": [
        {
          "output_type": "stream",
          "text": [
            "Digite o nome do primeiro aluno: lucas\n",
            "Digite o nome do segundo aluno: mai\n",
            "Digite o nome do terceiro aluno: erick\n",
            "Digite o nome do quatro aluno: leo\n",
            "O aluno sorteado foi erick\n"
          ],
          "name": "stdout"
        }
      ]
    }
  ]
}