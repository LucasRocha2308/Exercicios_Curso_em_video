{
  "nbformat": 4,
  "nbformat_minor": 0,
  "metadata": {
    "colab": {
      "name": "ex_020_sortear_apresentacao.ipynb",
      "provenance": [],
      "collapsed_sections": [],
      "authorship_tag": "ABX9TyOC67Wt+rPkZNLyCw92IaG5",
      "include_colab_link": true
    },
    "kernelspec": {
      "name": "python3",
      "display_name": "Python 3"
    }
  },
  "cells": [
    {
      "cell_type": "markdown",
      "metadata": {
        "id": "view-in-github",
        "colab_type": "text"
      },
      "source": [
        "<a href=\"https://colab.research.google.com/github/rochinha23/Exercicios_Curso_em_video/blob/main/ex_020_sortear_apresentacao.ipynb\" target=\"_parent\"><img src=\"https://colab.research.google.com/assets/colab-badge.svg\" alt=\"Open In Colab\"/></a>"
      ]
    },
    {
      "cell_type": "markdown",
      "metadata": {
        "id": "JSA83s_yjVqE"
      },
      "source": [
        "ex020\n",
        "\n",
        "O mesmo professor do desafio anterior quer sortear\n",
        "a ordem de apresentações de trabalhos dos alunos.\n",
        "Faça um programa que leia o nome dos quatro alunos\n",
        "e mostre a ordem sorteada."
      ]
    },
    {
      "cell_type": "code",
      "metadata": {
        "id": "HUCyixVdjtPU",
        "outputId": "3aacfe24-39af-4f77-d01d-31b108411bc8",
        "colab": {
          "base_uri": "https://localhost:8080/"
        }
      },
      "source": [
        "import random\n",
        "\n",
        "n1 = str(input('Digite o primeiro nome: '))\n",
        "n2 = str(input('Digite o segundo nome: '))\n",
        "n3 = str(input('Digite o terceiro nome: '))\n",
        "n4 = str(input('Digite o quatro nome: '))\n",
        "\n",
        "dici = [n1, n2, n3, n4]\n",
        "sort = random.shuffle(dici)\n",
        "\n",
        "print ('A ordem sorteada  é: ')\n",
        "print(dici)"
      ],
      "execution_count": 1,
      "outputs": [
        {
          "output_type": "stream",
          "text": [
            "Digite o primeiro nome: lucas\n",
            "Digite o segundo nome: mai\n",
            "Digite o terceiro nome: erick\n",
            "Digite o quatro nome: leo\n",
            "A ordem sorteada  é: \n",
            "['erick', 'mai', 'lucas', 'leo']\n"
          ],
          "name": "stdout"
        }
      ]
    }
  ]
}