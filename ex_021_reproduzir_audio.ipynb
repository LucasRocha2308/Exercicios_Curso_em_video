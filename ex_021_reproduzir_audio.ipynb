{
  "nbformat": 4,
  "nbformat_minor": 0,
  "metadata": {
    "colab": {
      "name": "ex_021_reproduzir_audio.ipynb",
      "provenance": [],
      "collapsed_sections": [],
      "authorship_tag": "ABX9TyPYHCGWWPt/ETxMahp5MClj",
      "include_colab_link": true
    },
    "kernelspec": {
      "name": "python3",
      "display_name": "Python 3"
    }
  },
  "cells": [
    {
      "cell_type": "markdown",
      "metadata": {
        "id": "view-in-github",
        "colab_type": "text"
      },
      "source": [
        "<a href=\"https://colab.research.google.com/github/rochinha23/Exercicios_Curso_em_video/blob/main/ex_021_reproduzir_audio.ipynb\" target=\"_parent\"><img src=\"https://colab.research.google.com/assets/colab-badge.svg\" alt=\"Open In Colab\"/></a>"
      ]
    },
    {
      "cell_type": "markdown",
      "metadata": {
        "id": "7qBGUTfYkZX4"
      },
      "source": [
        "ex_021\n",
        "\n",
        "Faça um programa em Python que abra e reproduza\n",
        "o audio de um arquivo MP3."
      ]
    },
    {
      "cell_type": "code",
      "metadata": {
        "id": "dgGP1H8akuIm"
      },
      "source": [
        "import pygame  #biblioteca com muitas funcionalidades\n",
        "pygame.init()  #iniciando a biblioteca\n",
        "pygame.mixer.music.load('ex021.mp3') #pegando a musica, colocando com o nome do arquivo\n",
        "pygame.mixer.music.play() #colocando para tocar a musica\n",
        "pygame.event.wait() #deixando tocar e finalizando depois que musica acabar\n"
      ],
      "execution_count": null,
      "outputs": []
    }
  ]
}