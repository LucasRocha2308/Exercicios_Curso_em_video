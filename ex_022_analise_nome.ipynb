{
  "nbformat": 4,
  "nbformat_minor": 0,
  "metadata": {
    "colab": {
      "name": "ex_022_analise_nome.ipynb",
      "provenance": [],
      "collapsed_sections": [],
      "authorship_tag": "ABX9TyMlyaKbQMJHFY0+TIfRW16i",
      "include_colab_link": true
    },
    "kernelspec": {
      "name": "python3",
      "display_name": "Python 3"
    }
  },
  "cells": [
    {
      "cell_type": "markdown",
      "metadata": {
        "id": "view-in-github",
        "colab_type": "text"
      },
      "source": [
        "<a href=\"https://colab.research.google.com/github/rochinha23/Exercicios_Curso_em_video/blob/main/ex_022_analise_nome.ipynb\" target=\"_parent\"><img src=\"https://colab.research.google.com/assets/colab-badge.svg\" alt=\"Open In Colab\"/></a>"
      ]
    },
    {
      "cell_type": "markdown",
      "metadata": {
        "id": "NNizM39vlmo2"
      },
      "source": [
        "ex_022\n",
        "\n",
        "Crie um programa que leia o nome complete de uma pessoa e mostre:\n",
        "- O nome com todas as letras maiusculas\n",
        "- O nome com todas minusculas.\n",
        "- Quantas letras ao todo(sem considerar espaços)\n",
        "- Quantas letras tem o primeiro nome."
      ]
    },
    {
      "cell_type": "code",
      "metadata": {
        "id": "Oo-4v9QDlqjJ",
        "outputId": "76b93704-2b98-47fa-c85f-0c47a3d175b5",
        "colab": {
          "base_uri": "https://localhost:8080/"
        }
      },
      "source": [
        "nome = str(input('Digite seu nome completo: '))\n",
        "print(nome.upper())\n",
        "print(nome.lower())\n",
        "lista = nome.split()\n",
        "nome =''.join(lista)\n",
        "print(len(nome))\n",
        "print(len(lista[0]))\n"
      ],
      "execution_count": 1,
      "outputs": [
        {
          "output_type": "stream",
          "text": [
            "Digite seu nome completo: Lucas Rocha da Silva\n",
            "LUCAS ROCHA DA SILVA\n",
            "lucas rocha da silva\n",
            "17\n",
            "5\n"
          ],
          "name": "stdout"
        }
      ]
    }
  ]
}