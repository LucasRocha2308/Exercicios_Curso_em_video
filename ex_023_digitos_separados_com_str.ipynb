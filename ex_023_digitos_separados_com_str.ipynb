{
  "nbformat": 4,
  "nbformat_minor": 0,
  "metadata": {
    "colab": {
      "name": "ex_023_digitos_separados_com_str.ipynb",
      "provenance": [],
      "collapsed_sections": [],
      "authorship_tag": "ABX9TyMOYM7SaGWhfop/SRcqoU1x",
      "include_colab_link": true
    },
    "kernelspec": {
      "name": "python3",
      "display_name": "Python 3"
    }
  },
  "cells": [
    {
      "cell_type": "markdown",
      "metadata": {
        "id": "view-in-github",
        "colab_type": "text"
      },
      "source": [
        "<a href=\"https://colab.research.google.com/github/rochinha23/Exercicios_Curso_em_video/blob/main/ex_023_digitos_separados_com_str.ipynb\" target=\"_parent\"><img src=\"https://colab.research.google.com/assets/colab-badge.svg\" alt=\"Open In Colab\"/></a>"
      ]
    },
    {
      "cell_type": "markdown",
      "metadata": {
        "id": "XwOeWZszmb4U"
      },
      "source": [
        "ex_023-com_ str\n",
        "\n",
        "Faça um programa que leia um número de 0 a 9999 e \n",
        "mostre na tela cada um dos digitos separados."
      ]
    },
    {
      "cell_type": "code",
      "metadata": {
        "id": "Vf3k7UYHm2_R",
        "outputId": "dd5680ae-98cb-44d2-c433-b9cf81758d2b",
        "colab": {
          "base_uri": "https://localhost:8080/"
        }
      },
      "source": [
        "n = str(input('Digite um número de 0000 a 9999: '))\n",
        "\n",
        "print('unidade: ', n[3])\n",
        "print('dezena: ', n[2])\n",
        "print('centena: ',n[1])\n",
        "print('milhar: ',n[0])"
      ],
      "execution_count": 2,
      "outputs": [
        {
          "output_type": "stream",
          "text": [
            "Digite um número de 0000 a 9999: 0050\n",
            "unidade:  0\n",
            "dezena:  5\n",
            "centena:  0\n",
            "milhar:  0\n"
          ],
          "name": "stdout"
        }
      ]
    }
  ]
}