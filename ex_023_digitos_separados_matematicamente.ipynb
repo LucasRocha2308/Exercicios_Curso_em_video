{
  "nbformat": 4,
  "nbformat_minor": 0,
  "metadata": {
    "colab": {
      "name": "ex_023_digitos_separados_matematicamente.ipynb",
      "provenance": [],
      "collapsed_sections": [],
      "authorship_tag": "ABX9TyPRqpb31DWWTnwNjzWgtGZe",
      "include_colab_link": true
    },
    "kernelspec": {
      "name": "python3",
      "display_name": "Python 3"
    }
  },
  "cells": [
    {
      "cell_type": "markdown",
      "metadata": {
        "id": "view-in-github",
        "colab_type": "text"
      },
      "source": [
        "<a href=\"https://colab.research.google.com/github/rochinha23/Exercicios_Curso_em_video/blob/main/ex_023_digitos_separados_matematicamente.ipynb\" target=\"_parent\"><img src=\"https://colab.research.google.com/assets/colab-badge.svg\" alt=\"Open In Colab\"/></a>"
      ]
    },
    {
      "cell_type": "markdown",
      "metadata": {
        "id": "4XNaGv4Rnm_5"
      },
      "source": [
        "ex023 - matematica\n",
        "\n",
        "Faça um programa que leia um número de 0 a 9999 e \n",
        "mostre na tela cada um dos digitos separados."
      ]
    },
    {
      "cell_type": "code",
      "metadata": {
        "id": "sgaN8HEgn2k2",
        "outputId": "04958c09-c922-4056-947e-2ed93566cb66",
        "colab": {
          "base_uri": "https://localhost:8080/"
        }
      },
      "source": [
        "n = int(input('Digite um número de 0000 a 9999: '))\n",
        "u = n//1 % 10\n",
        "d = n//10 % 10\n",
        "c = n//100 % 10\n",
        "m = n//1000 % 10 \n",
        "print('unidade: {}'.format(u))\n",
        "print('dezena: {}'.format(d))\n",
        "print('centena: {}'.format(c))\n",
        "print('milhar: {}'.format(m))"
      ],
      "execution_count": 3,
      "outputs": [
        {
          "output_type": "stream",
          "text": [
            "Digite um número de 0000 a 9999: 10\n",
            "unidade: 0\n",
            "dezena: 1\n",
            "centena: 0\n",
            "milhar: 0\n"
          ],
          "name": "stdout"
        }
      ]
    }
  ]
}