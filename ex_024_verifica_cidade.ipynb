{
  "nbformat": 4,
  "nbformat_minor": 0,
  "metadata": {
    "colab": {
      "name": "ex_024_verifica_cidade.ipynb",
      "provenance": [],
      "collapsed_sections": [],
      "authorship_tag": "ABX9TyPjFi5Qb7Bu1E8WX/Y9D0jD",
      "include_colab_link": true
    },
    "kernelspec": {
      "name": "python3",
      "display_name": "Python 3"
    }
  },
  "cells": [
    {
      "cell_type": "markdown",
      "metadata": {
        "id": "view-in-github",
        "colab_type": "text"
      },
      "source": [
        "<a href=\"https://colab.research.google.com/github/rochinha23/Exercicios_Curso_em_video/blob/main/ex_024_verifica_cidade.ipynb\" target=\"_parent\"><img src=\"https://colab.research.google.com/assets/colab-badge.svg\" alt=\"Open In Colab\"/></a>"
      ]
    },
    {
      "cell_type": "markdown",
      "metadata": {
        "id": "d07nRAzIpKEY"
      },
      "source": [
        "ex024\n",
        "\n",
        "Crie um programa que leia o nome de uma cidade e diga \n",
        "se ela começa ou não com o nome \"SANTO\""
      ]
    },
    {
      "cell_type": "code",
      "metadata": {
        "id": "saoYhDSVpUxZ",
        "outputId": "498e6afa-14ce-4434-b440-bc2e4c0c3628",
        "colab": {
          "base_uri": "https://localhost:8080/"
        }
      },
      "source": [
        "cidade = str(input('Digite o nome de uma cidade: ')).strip()\n",
        "print(cidade[:5].upper() == 'SANTO')"
      ],
      "execution_count": 1,
      "outputs": [
        {
          "output_type": "stream",
          "text": [
            "Digite o nome de uma cidade: santo amaro\n",
            "True\n"
          ],
          "name": "stdout"
        }
      ]
    }
  ]
}