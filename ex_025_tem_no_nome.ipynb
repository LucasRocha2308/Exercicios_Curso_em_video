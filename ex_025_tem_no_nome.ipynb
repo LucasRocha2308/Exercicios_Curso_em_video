{
  "nbformat": 4,
  "nbformat_minor": 0,
  "metadata": {
    "colab": {
      "name": "ex_025_tem_no_nome.ipynb",
      "provenance": [],
      "collapsed_sections": [],
      "authorship_tag": "ABX9TyPQcjTkKfZZug1pBqovhBWj",
      "include_colab_link": true
    },
    "kernelspec": {
      "name": "python3",
      "display_name": "Python 3"
    }
  },
  "cells": [
    {
      "cell_type": "markdown",
      "metadata": {
        "id": "view-in-github",
        "colab_type": "text"
      },
      "source": [
        "<a href=\"https://colab.research.google.com/github/rochinha23/Exercicios_Curso_em_video/blob/main/ex_025_tem_no_nome.ipynb\" target=\"_parent\"><img src=\"https://colab.research.google.com/assets/colab-badge.svg\" alt=\"Open In Colab\"/></a>"
      ]
    },
    {
      "cell_type": "markdown",
      "metadata": {
        "id": "HUID8XEDqSJE"
      },
      "source": [
        "ex025\n",
        "\n",
        "Crie um programa que leia o nome de uma pessoa e diga\n",
        "se ela tem \"SILVA\" no nome."
      ]
    },
    {
      "cell_type": "code",
      "metadata": {
        "id": "vX78tLGWrO41",
        "outputId": "95ecc141-ca5d-4f95-c623-6347c655fec8",
        "colab": {
          "base_uri": "https://localhost:8080/"
        }
      },
      "source": [
        "nome = str(input('Digite seu nome: ')).strip()\n",
        "print('Seu nome tem Silva? {}'.format('SILVA' in nome.upper()))"
      ],
      "execution_count": 1,
      "outputs": [
        {
          "output_type": "stream",
          "text": [
            "Digite seu nome: matheus silva\n",
            "Seu nome tem Silva? True\n"
          ],
          "name": "stdout"
        }
      ]
    }
  ]
}