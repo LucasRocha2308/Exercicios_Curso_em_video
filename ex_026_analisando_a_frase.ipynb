{
  "nbformat": 4,
  "nbformat_minor": 0,
  "metadata": {
    "colab": {
      "name": "ex_026_analisando_a_frase.ipynb",
      "provenance": [],
      "collapsed_sections": [],
      "authorship_tag": "ABX9TyOxrOkin3E5WS5rydLTRBHN",
      "include_colab_link": true
    },
    "kernelspec": {
      "name": "python3",
      "display_name": "Python 3"
    }
  },
  "cells": [
    {
      "cell_type": "markdown",
      "metadata": {
        "id": "view-in-github",
        "colab_type": "text"
      },
      "source": [
        "<a href=\"https://colab.research.google.com/github/rochinha23/Exercicios_Curso_em_video/blob/main/ex_026_analisando_a_frase.ipynb\" target=\"_parent\"><img src=\"https://colab.research.google.com/assets/colab-badge.svg\" alt=\"Open In Colab\"/></a>"
      ]
    },
    {
      "cell_type": "markdown",
      "metadata": {
        "id": "kvY4PL9hsM41"
      },
      "source": [
        "ex_26\n",
        "\n",
        "Faça um programa que leia uma frase pelo teclado e mostre:\n",
        "\n",
        "- Quantas vezes aparece a letra \"A\"\n",
        "- Em que posição ela aparece a primeira vez.\n",
        "- Em que posição ela aparece a úlltima vez."
      ]
    },
    {
      "cell_type": "code",
      "metadata": {
        "id": "sLxMHP_9svb3",
        "outputId": "f55e690b-fbfd-4b01-cf7c-c5d4662dd1db",
        "colab": {
          "base_uri": "https://localhost:8080/"
        }
      },
      "source": [
        "frase = str(input('Digite uma frase: '))\n",
        "encontrar_A = frase.upper().count(\"A\")\n",
        "encontrar_A1 = (frase.upper().find('A')+1)\n",
        "encontrar2 = (frase.upper().rfind('A')+1)\n",
        "print (f'Quantas vezes aparece a letra A: {encontrar_A}')\n",
        "print (f'Em que posição a letra A aparece a 1ª vez: {encontrar_A1}')\n",
        "print (f'Em que posição a letra A pela ultima vez:{encontrar2}')"
      ],
      "execution_count": 3,
      "outputs": [
        {
          "output_type": "stream",
          "text": [
            "Digite uma frase: testando o programa\n",
            "Quantas vezes aparece a letra A: 3\n",
            "Em que posição a letra A aparece a 1ª vez: 5\n",
            "Em que posição a letra A pela ultima vez:19\n"
          ],
          "name": "stdout"
        }
      ]
    }
  ]
}