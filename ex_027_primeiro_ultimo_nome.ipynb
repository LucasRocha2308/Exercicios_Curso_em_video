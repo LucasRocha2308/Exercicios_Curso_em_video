{
  "nbformat": 4,
  "nbformat_minor": 0,
  "metadata": {
    "colab": {
      "name": "ex_027_primeiro_ultimo_nome.ipynb",
      "provenance": [],
      "collapsed_sections": [],
      "authorship_tag": "ABX9TyOD4gNFlKQ676LWKuGpDPuO",
      "include_colab_link": true
    },
    "kernelspec": {
      "name": "python3",
      "display_name": "Python 3"
    }
  },
  "cells": [
    {
      "cell_type": "markdown",
      "metadata": {
        "id": "view-in-github",
        "colab_type": "text"
      },
      "source": [
        "<a href=\"https://colab.research.google.com/github/rochinha23/Exercicios_Curso_em_video/blob/main/ex_027_primeiro_ultimo_nome.ipynb\" target=\"_parent\"><img src=\"https://colab.research.google.com/assets/colab-badge.svg\" alt=\"Open In Colab\"/></a>"
      ]
    },
    {
      "cell_type": "markdown",
      "metadata": {
        "id": "sVty-G-u7eAv"
      },
      "source": [
        "ex_027\n",
        "\n",
        "Faça um programa que leia o nome completo de uma pessoa.\n",
        "mostrando em seguida o primeiro e o último nome \n",
        "separadamente\n"
      ]
    },
    {
      "cell_type": "code",
      "metadata": {
        "id": "BpuU0EcG79Mw"
      },
      "source": [
        "nome = str(input('Digite seu nome completo: ')).strip()\n",
        "primeiro = nome.split()\n",
        "print('Primeiro= {}'.format(primeiro[0]))\n",
        "ultimo = nome.split()\n",
        "print(último= {}'.format(ultimo[-1]))"
      ],
      "execution_count": null,
      "outputs": []
    }
  ]
}