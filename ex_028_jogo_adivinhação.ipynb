{
  "nbformat": 4,
  "nbformat_minor": 0,
  "metadata": {
    "colab": {
      "name": "ex_028_jogo_adivinhação.ipynb",
      "provenance": [],
      "collapsed_sections": [],
      "authorship_tag": "ABX9TyO1zyK7pp1ePaKT4Bl3PV0n",
      "include_colab_link": true
    },
    "kernelspec": {
      "name": "python3",
      "display_name": "Python 3"
    }
  },
  "cells": [
    {
      "cell_type": "markdown",
      "metadata": {
        "id": "view-in-github",
        "colab_type": "text"
      },
      "source": [
        "<a href=\"https://colab.research.google.com/github/rochinha23/Exercicios_Curso_em_video/blob/main/ex_028_jogo_adivinha%C3%A7%C3%A3o.ipynb\" target=\"_parent\"><img src=\"https://colab.research.google.com/assets/colab-badge.svg\" alt=\"Open In Colab\"/></a>"
      ]
    },
    {
      "cell_type": "markdown",
      "metadata": {
        "id": "Cfljy62V_W0e"
      },
      "source": [
        "ex_028\n",
        "\n",
        "Escreva um programa que faça o computador \"pensar\" em \n",
        "um número inteiro entre 0 e 5 e peça para o usuário \n",
        "tentar descobrir qual foi o número escolhido pelo \n",
        "computador.\n",
        "O programa deverão escrever na tela \n",
        "se o usuário venceu ou perdeu."
      ]
    },
    {
      "cell_type": "code",
      "metadata": {
        "id": "nEUm4n2-_3u1",
        "outputId": "b282abb2-5025-4ce0-baf9-37abbad4a0d5",
        "colab": {
          "base_uri": "https://localhost:8080/"
        }
      },
      "source": [
        "num = int(input('Qual número entre 0 a 5 o pc esta \"pensando\"? '))\n",
        "\n",
        "if num == 3:\n",
        "    print('você venceu' )\n",
        "else:\n",
        "    print('você perdeu') "
      ],
      "execution_count": 1,
      "outputs": [
        {
          "output_type": "stream",
          "text": [
            "Qual número entre 0 a 5 o pc esta \"pensando\"? 3\n",
            "você venceu\n"
          ],
          "name": "stdout"
        }
      ]
    }
  ]
}