{
  "nbformat": 4,
  "nbformat_minor": 0,
  "metadata": {
    "colab": {
      "name": "ex_029_multa.ipynb",
      "provenance": [],
      "collapsed_sections": [],
      "authorship_tag": "ABX9TyOr1+NB2hNr7VOwhbxOr8ml",
      "include_colab_link": true
    },
    "kernelspec": {
      "name": "python3",
      "display_name": "Python 3"
    }
  },
  "cells": [
    {
      "cell_type": "markdown",
      "metadata": {
        "id": "view-in-github",
        "colab_type": "text"
      },
      "source": [
        "<a href=\"https://colab.research.google.com/github/rochinha23/Exercicios_Curso_em_video/blob/main/ex_029_multa.ipynb\" target=\"_parent\"><img src=\"https://colab.research.google.com/assets/colab-badge.svg\" alt=\"Open In Colab\"/></a>"
      ]
    },
    {
      "cell_type": "markdown",
      "metadata": {
        "id": "rgwnX0xbAzfP"
      },
      "source": [
        "ex_029\n",
        "\n",
        "Escreva um programa que leia a velocidade de um carro.\n",
        "\n",
        "Se ele ultrapassar 80km/h, mostre \n",
        "uma mensagem dizendo que ele foi multado.\n",
        "A multa vai custar R$7.00 por cada km acima do limite"
      ]
    },
    {
      "cell_type": "code",
      "metadata": {
        "id": "wsPKQZloBFc2",
        "outputId": "5b6b3c30-3ced-4f3b-c146-30f24312b438",
        "colab": {
          "base_uri": "https://localhost:8080/"
        }
      },
      "source": [
        "vel = float(input('Qual a velocidade do carro? '))\n",
        "\n",
        "if vel > 80:\n",
        "    multa = vel - 80\n",
        "    vMulta = multa*7\n",
        "    print('Você foi multado em {:.2f} reais'.format(vMulta))\n",
        "else:\n",
        "    print('Você não foi multado')"
      ],
      "execution_count": 1,
      "outputs": [
        {
          "output_type": "stream",
          "text": [
            "Qual a velocidade do carro? 79\n",
            "Você não foi multado\n"
          ],
          "name": "stdout"
        }
      ]
    }
  ]
}