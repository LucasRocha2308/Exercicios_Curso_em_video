{
  "nbformat": 4,
  "nbformat_minor": 0,
  "metadata": {
    "colab": {
      "name": "ex_030_par_impar.ipynb",
      "provenance": [],
      "collapsed_sections": [],
      "authorship_tag": "ABX9TyN25FjqYb0NVUyO3QmaQPsA",
      "include_colab_link": true
    },
    "kernelspec": {
      "name": "python3",
      "display_name": "Python 3"
    }
  },
  "cells": [
    {
      "cell_type": "markdown",
      "metadata": {
        "id": "view-in-github",
        "colab_type": "text"
      },
      "source": [
        "<a href=\"https://colab.research.google.com/github/rochinha23/Exercicios_Curso_em_video/blob/main/ex_030_par_impar.ipynb\" target=\"_parent\"><img src=\"https://colab.research.google.com/assets/colab-badge.svg\" alt=\"Open In Colab\"/></a>"
      ]
    },
    {
      "cell_type": "markdown",
      "metadata": {
        "id": "dRuYAHVYB0z4"
      },
      "source": [
        "ex_030\n",
        "\n",
        "Crie um programa que leia um número inteiro e mostre\n",
        "na tela se ele é PAR ou IMPAR."
      ]
    },
    {
      "cell_type": "code",
      "metadata": {
        "id": "BeFJOEx-Caqq",
        "outputId": "8493b6d7-88ee-4bca-9a89-5fd35ad99c0c",
        "colab": {
          "base_uri": "https://localhost:8080/"
        }
      },
      "source": [
        "num = int(input('Digite um número: '))\n",
        "\n",
        "if num%2 == 0:\n",
        "    print('O número {} é PAR'.format(num))\n",
        "else:\n",
        "    print('O número {} é IMPAR'.format(num))"
      ],
      "execution_count": 1,
      "outputs": [
        {
          "output_type": "stream",
          "text": [
            "Digite um número: 8\n",
            "O número 8 é PAR\n"
          ],
          "name": "stdout"
        }
      ]
    }
  ]
}