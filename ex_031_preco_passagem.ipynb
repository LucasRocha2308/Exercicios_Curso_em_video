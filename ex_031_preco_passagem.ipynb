{
  "nbformat": 4,
  "nbformat_minor": 0,
  "metadata": {
    "colab": {
      "name": "ex_031_preco_passagem.ipynb",
      "provenance": [],
      "collapsed_sections": [],
      "authorship_tag": "ABX9TyNBvbC3rZ7lYDxKCaF+tSBK",
      "include_colab_link": true
    },
    "kernelspec": {
      "name": "python3",
      "display_name": "Python 3"
    }
  },
  "cells": [
    {
      "cell_type": "markdown",
      "metadata": {
        "id": "view-in-github",
        "colab_type": "text"
      },
      "source": [
        "<a href=\"https://colab.research.google.com/github/rochinha23/Exercicios_Curso_em_video/blob/main/ex_031_preco_passagem.ipynb\" target=\"_parent\"><img src=\"https://colab.research.google.com/assets/colab-badge.svg\" alt=\"Open In Colab\"/></a>"
      ]
    },
    {
      "cell_type": "markdown",
      "metadata": {
        "id": "mIj9SIDskLs7"
      },
      "source": [
        "ex_031\n",
        "\n",
        "Desenvolva um programa que pergunte a distancia de uma \n",
        "viagem em km. Calcule o preço da passagem, \n",
        "cobrando 0.50 centavos por km para viagens de até 200km e 0.45 centavos\n",
        "para viagens mais longas."
      ]
    },
    {
      "cell_type": "code",
      "metadata": {
        "id": "6QOUe--akgYr",
        "outputId": "cbaf0f3a-f7e5-4a20-c3af-f22bcc727369",
        "colab": {
          "base_uri": "https://localhost:8080/"
        }
      },
      "source": [
        "dist = float(input('qual a distancia de uma viagem em km? '))\n",
        "if dist <=200:\n",
        "    preco = dist*0.50\n",
        "    print('O preço da passagem será {:.2f} reais'.format(preco))\n",
        "else:\n",
        "    preco = dist*0.45\n",
        "    print('O preço da passagem será {:.2f} reais'.format(preco))"
      ],
      "execution_count": 2,
      "outputs": [
        {
          "output_type": "stream",
          "text": [
            "qual a distancia de uma viagem em km? 250\n",
            "O preço da passagem será 112.50 reais\n"
          ],
          "name": "stdout"
        }
      ]
    }
  ]
}