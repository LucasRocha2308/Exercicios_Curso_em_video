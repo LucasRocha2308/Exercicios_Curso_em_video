{
  "nbformat": 4,
  "nbformat_minor": 0,
  "metadata": {
    "colab": {
      "name": "ex_032_ano_bissexto.ipynb",
      "provenance": [],
      "collapsed_sections": [],
      "authorship_tag": "ABX9TyOSQY5n67qoAT3dny3Lkkds",
      "include_colab_link": true
    },
    "kernelspec": {
      "name": "python3",
      "display_name": "Python 3"
    }
  },
  "cells": [
    {
      "cell_type": "markdown",
      "metadata": {
        "id": "view-in-github",
        "colab_type": "text"
      },
      "source": [
        "<a href=\"https://colab.research.google.com/github/rochinha23/Exercicios_Curso_em_video/blob/main/ex_032_ano_bissexto.ipynb\" target=\"_parent\"><img src=\"https://colab.research.google.com/assets/colab-badge.svg\" alt=\"Open In Colab\"/></a>"
      ]
    },
    {
      "cell_type": "code",
      "metadata": {
        "id": "J7-L5RsztdZz"
      },
      "source": [
        ""
      ],
      "execution_count": null,
      "outputs": []
    },
    {
      "cell_type": "markdown",
      "metadata": {
        "id": "a-Psnjm04DY7"
      },
      "source": [
        "ex_032\n",
        "\n",
        "Faça um programa que leia um ano qualquer \n",
        "e mostre se ele é BISSEXTO."
      ]
    },
    {
      "cell_type": "code",
      "metadata": {
        "id": "aLfInJNs4IK1",
        "outputId": "8e45d81a-4f35-43c4-bd5d-42ec7c97ee4b",
        "colab": {
          "base_uri": "https://localhost:8080/"
        }
      },
      "source": [
        "ano = int(input('Digite um ano: '))\n",
        "\n",
        "if ano%4 == 0 or ano%400 == 0:\n",
        "    print('O ano é bissexto ')\n",
        "else:\n",
        "    print('O ano não é bissexto ')"
      ],
      "execution_count": 1,
      "outputs": [
        {
          "output_type": "stream",
          "text": [
            "Digite um ano: 1900\n",
            "O ano é bissexto \n"
          ],
          "name": "stdout"
        }
      ]
    }
  ]
}