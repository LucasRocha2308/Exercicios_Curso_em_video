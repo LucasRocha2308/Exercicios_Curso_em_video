{
  "nbformat": 4,
  "nbformat_minor": 0,
  "metadata": {
    "colab": {
      "name": "ex_033_maior_menor.ipynb",
      "provenance": [],
      "collapsed_sections": [],
      "authorship_tag": "ABX9TyMX5QvbWBOqO3dPgJSgjbCF",
      "include_colab_link": true
    },
    "kernelspec": {
      "name": "python3",
      "display_name": "Python 3"
    }
  },
  "cells": [
    {
      "cell_type": "markdown",
      "metadata": {
        "id": "view-in-github",
        "colab_type": "text"
      },
      "source": [
        "<a href=\"https://colab.research.google.com/github/rochinha23/Exercicios_Curso_em_video/blob/main/ex_033_maior_menor.ipynb\" target=\"_parent\"><img src=\"https://colab.research.google.com/assets/colab-badge.svg\" alt=\"Open In Colab\"/></a>"
      ]
    },
    {
      "cell_type": "markdown",
      "metadata": {
        "id": "i2ZPPuSX5MFN"
      },
      "source": [
        "ex_033\n",
        "\n",
        "Faça um programa que leia três números e mostre \n",
        "qual é o maior e qual é o menor."
      ]
    },
    {
      "cell_type": "code",
      "metadata": {
        "id": "oiirlYfu5QPU",
        "outputId": "1fa3b8f5-3a3b-443e-830e-c9227d4b0ba6",
        "colab": {
          "base_uri": "https://localhost:8080/"
        }
      },
      "source": [
        "n1 = float(input('digite o primeiro número: '))\n",
        "n2 = float(input('digite o segundo número: '))\n",
        "n3 = float(input('digite o terceiro número: '))\n",
        "\n",
        "if n1 > n2 and n1>n3 and n2 > n3:\n",
        "    print('O {} é o maior e o {} é o menor'.format(n1,n3))\n",
        "elif n1 > n2 and n1>n3 and n3>n2:\n",
        "    print('O {} é o maior e o {} é o menor'.format(n1,n2))\n",
        "elif n2 > n1 and n2>n3 and n1>n3:\n",
        "    print('O {} é o maior e o {} é o menor'.format(n2,n3))\n",
        "elif n2 > n1 and n2>n3 and n3>n1:\n",
        "    print('O {} é o maior e o {} é o menor'.format(n2,n1))\n",
        "elif n3 > n2 and n3>n1 and n1>n2:\n",
        "    print('O {} é o maior e o {} é o menor'.format(n3,n2))\n",
        "elif n3 > n2 and n3>n1 and n2>n1:\n",
        "    print('O {} é o maior e o {} é o menor'.format(n3,n1))"
      ],
      "execution_count": 1,
      "outputs": [
        {
          "output_type": "stream",
          "text": [
            "digite o primeiro número: 5\n",
            "digite o segundo número: 6\n",
            "digite o terceiro número: 9\n",
            "O 9.0 é o maior e o 5.0 é o menor\n"
          ],
          "name": "stdout"
        }
      ]
    }
  ]
}