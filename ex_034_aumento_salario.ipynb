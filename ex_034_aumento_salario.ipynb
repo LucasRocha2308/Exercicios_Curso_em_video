{
  "nbformat": 4,
  "nbformat_minor": 0,
  "metadata": {
    "colab": {
      "name": "ex_034_aumento_salario.ipynb",
      "provenance": [],
      "collapsed_sections": [],
      "authorship_tag": "ABX9TyMSp7vQxsgxMTisOojDpYzE",
      "include_colab_link": true
    },
    "kernelspec": {
      "name": "python3",
      "display_name": "Python 3"
    }
  },
  "cells": [
    {
      "cell_type": "markdown",
      "metadata": {
        "id": "view-in-github",
        "colab_type": "text"
      },
      "source": [
        "<a href=\"https://colab.research.google.com/github/rochinha23/Exercicios_Curso_em_video/blob/main/ex_034_aumento_salario.ipynb\" target=\"_parent\"><img src=\"https://colab.research.google.com/assets/colab-badge.svg\" alt=\"Open In Colab\"/></a>"
      ]
    },
    {
      "cell_type": "markdown",
      "metadata": {
        "id": "aCEYqaIE6NCc"
      },
      "source": [
        "ex_034\n",
        "\n",
        "Escreva um programa que pergunte o salário de um \n",
        "funcionário e calcule o valor do seu aumento.\n",
        "\n",
        "Para salários superiores a R$1.250,00. calcule um \n",
        "aumento de 10%\n",
        "Para os inferiores ou iguais, o aumento é de 15%."
      ]
    },
    {
      "cell_type": "code",
      "metadata": {
        "id": "CAPjaIGS6q6r",
        "outputId": "e96af0bf-27e2-47ae-eeb0-df8fb0ff80cd",
        "colab": {
          "base_uri": "https://localhost:8080/"
        }
      },
      "source": [
        "salario = float(input('Qual o valor do salário? '))\n",
        "\n",
        "if salario > 1250:\n",
        "    aumento = salario*1.10\n",
        "    print('O valor do salario com aumento é {:.2f}'.format(aumento))\n",
        "else:\n",
        "    aumento = salario*1.15\n",
        "    print('O valor do salario com aumento é {:.2f}'.format(aumento))"
      ],
      "execution_count": 1,
      "outputs": [
        {
          "output_type": "stream",
          "text": [
            "Qual o valor do salário? 1500\n",
            "O valor do salario com aumento é 1650.00\n"
          ],
          "name": "stdout"
        }
      ]
    }
  ]
}