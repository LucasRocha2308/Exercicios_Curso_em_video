{
  "nbformat": 4,
  "nbformat_minor": 0,
  "metadata": {
    "colab": {
      "name": "ex_035_forma_triangulo.ipynb",
      "provenance": [],
      "collapsed_sections": [],
      "authorship_tag": "ABX9TyPw8KWgJeYDYKtkq5TH0QSG",
      "include_colab_link": true
    },
    "kernelspec": {
      "name": "python3",
      "display_name": "Python 3"
    }
  },
  "cells": [
    {
      "cell_type": "markdown",
      "metadata": {
        "id": "view-in-github",
        "colab_type": "text"
      },
      "source": [
        "<a href=\"https://colab.research.google.com/github/rochinha23/Exercicios_Curso_em_video/blob/main/ex_035_forma_triangulo.ipynb\" target=\"_parent\"><img src=\"https://colab.research.google.com/assets/colab-badge.svg\" alt=\"Open In Colab\"/></a>"
      ]
    },
    {
      "cell_type": "markdown",
      "metadata": {
        "id": "5OKN0RdX9I5F"
      },
      "source": [
        "ex_035\n",
        "\n",
        "Desenvolva um programa que leia o comprimento de três\n",
        "retas e diga ao usuario se elas podem ou não formar um\n",
        "triãngulo."
      ]
    },
    {
      "cell_type": "code",
      "metadata": {
        "id": "86lOXckf9M66",
        "outputId": "ce173d11-7ddc-4ab8-e929-b79bb195f202",
        "colab": {
          "base_uri": "https://localhost:8080/"
        }
      },
      "source": [
        "a = float(input('Digite o 1º comprimento da reta: '))\n",
        "b = float(input('Digite o 2º comprimento da reta: '))\n",
        "c = float(input('Digite o 3º comprimento da reta: '))\n",
        "\n",
        "if a < b + c and b < a + c and c < a + b:\n",
        "    print('Os segmentos acima podem formar triangulo')\n",
        "else:\n",
        "    print('Os segmentos acima não podem formar triangulo')"
      ],
      "execution_count": 1,
      "outputs": [
        {
          "output_type": "stream",
          "text": [
            "Digite o 1º comprimento da reta: 5\n",
            "Digite o 2º comprimento da reta: 6\n",
            "Digite o 3º comprimento da reta: 7\n",
            "Os segmentos acima podem formar triangulo\n"
          ],
          "name": "stdout"
        }
      ]
    }
  ]
}