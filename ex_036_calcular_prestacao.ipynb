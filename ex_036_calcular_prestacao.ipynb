{
  "nbformat": 4,
  "nbformat_minor": 0,
  "metadata": {
    "colab": {
      "name": "ex_036_calcular_prestacao.ipynb",
      "provenance": [],
      "collapsed_sections": [],
      "authorship_tag": "ABX9TyNknflnkUT22Tfi4JIJw4WF",
      "include_colab_link": true
    },
    "kernelspec": {
      "name": "python3",
      "display_name": "Python 3"
    }
  },
  "cells": [
    {
      "cell_type": "markdown",
      "metadata": {
        "id": "view-in-github",
        "colab_type": "text"
      },
      "source": [
        "<a href=\"https://colab.research.google.com/github/rochinha23/Exercicios_Curso_em_video/blob/main/ex_036_calcular_prestacao.ipynb\" target=\"_parent\"><img src=\"https://colab.research.google.com/assets/colab-badge.svg\" alt=\"Open In Colab\"/></a>"
      ]
    },
    {
      "cell_type": "markdown",
      "metadata": {
        "id": "c1pB4CGI91eK"
      },
      "source": [
        "ex_036\n",
        "\n",
        "Escreva um programa para aprovar o emprestimo bancario\n",
        "para a compra de uma casa. O programa vai perguntar o \n",
        "valor da casa, o salario do comprador e em \n",
        "quantos anos ele vai pagar.\n",
        "Calcule o valor da prestação mensal.\n",
        "Sabendo que ela não pode exceder 30% do salario ou \n",
        "então o emprestimo será negado."
      ]
    },
    {
      "cell_type": "code",
      "metadata": {
        "id": "oxd0u3QJ-KvB",
        "outputId": "2277a275-741c-4d11-ac00-5fbe95d1099f",
        "colab": {
          "base_uri": "https://localhost:8080/"
        }
      },
      "source": [
        "valor = float(input('Qual o valor da casa? '))\n",
        "salario = float(input('Qual o salario do comprador? '))\n",
        "anos =int(input('Quantos anos vai pagar a casa? '))\n",
        "\n",
        "prestacao = valor/(12*anos)\n",
        "\n",
        "if prestacao > (0.30*salario):\n",
        "    print('Emprestimo negado')\n",
        "else:\n",
        "    print('Emprestimo aceito')\n",
        "    print('Com prestações de {:.2f} reais por mês'.format(prestacao))"
      ],
      "execution_count": 1,
      "outputs": [
        {
          "output_type": "stream",
          "text": [
            "Qual o valor da casa? 100000\n",
            "Qual o salario do comprador? 5000\n",
            "Quantos anos vai pagar a casa? 6\n",
            "Emprestimo aceito\n",
            "Com prestações de 1388.89 reais por mês\n"
          ],
          "name": "stdout"
        }
      ]
    }
  ]
}