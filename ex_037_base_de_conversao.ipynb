{
  "nbformat": 4,
  "nbformat_minor": 0,
  "metadata": {
    "colab": {
      "name": "ex_037_base_de_conversao.ipynb",
      "provenance": [],
      "collapsed_sections": [],
      "authorship_tag": "ABX9TyOoGRckf+8ikD8icOzS/zi0",
      "include_colab_link": true
    },
    "kernelspec": {
      "name": "python3",
      "display_name": "Python 3"
    }
  },
  "cells": [
    {
      "cell_type": "markdown",
      "metadata": {
        "id": "view-in-github",
        "colab_type": "text"
      },
      "source": [
        "<a href=\"https://colab.research.google.com/github/rochinha23/Exercicios_Curso_em_video/blob/main/ex_037_base_de_conversao.ipynb\" target=\"_parent\"><img src=\"https://colab.research.google.com/assets/colab-badge.svg\" alt=\"Open In Colab\"/></a>"
      ]
    },
    {
      "cell_type": "markdown",
      "metadata": {
        "id": "u2YTZUxbR8Hw"
      },
      "source": [
        "ex_037\n",
        "\n",
        "Escreva um programa que leia um número inteiro qualquer\n",
        "e peça para o usuário escolher qual será a base de \n",
        "conversão:\n",
        "\n",
        "-1 para binario\n",
        "-2 para octal\n",
        "-3 para hexadacimal"
      ]
    },
    {
      "cell_type": "code",
      "metadata": {
        "id": "y_62PkEHSvHh",
        "outputId": "7c5e314a-55ab-4cac-aea6-9af79e3a2b88",
        "colab": {
          "base_uri": "https://localhost:8080/"
        }
      },
      "source": [
        "num = int(input('Digite um número inteiro: '))\n",
        "print('''Escolha uma opção:\n",
        "                   [1] - Converte para Binario \n",
        "                   [2] - Converte para Octal \n",
        "                   [3] - Converte para hexadecimal''')\n",
        "opcao = int(input('Sua opção: '))\n",
        "if opcao == 1:\n",
        "    print('{} convertido para Binario é {}'.format(num, bin(num)))\n",
        "elif opcao == 2:\n",
        "    print('{} convertido para Octal é {}'.format(num, oct(num)))\n",
        "elif opcao == 3:\n",
        "    print('{} convertido para hexadecimal é {}'.format(num, hex(num)))\n",
        "else:\n",
        "    print('Opção invalida. Tente novamente')"
      ],
      "execution_count": 2,
      "outputs": [
        {
          "output_type": "stream",
          "text": [
            "Digite um número inteiro: 100\n",
            "Escolha uma opção:\n",
            "                   [1] - Converte para Binario \n",
            "                   [2] - Converte para Octal \n",
            "                   [3] - Converte para hexadecimal\n",
            "Sua opção: 1\n",
            "100 convertido para Binario é 0b1100100\n"
          ],
          "name": "stdout"
        }
      ]
    }
  ]
}