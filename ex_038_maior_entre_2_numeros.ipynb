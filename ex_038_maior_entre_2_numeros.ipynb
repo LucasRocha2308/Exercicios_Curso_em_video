{
  "nbformat": 4,
  "nbformat_minor": 0,
  "metadata": {
    "colab": {
      "name": "ex_038_maior_entre_2_numeros.ipynb",
      "provenance": [],
      "collapsed_sections": [],
      "authorship_tag": "ABX9TyOyNvGL3otAHDBYnOqD8fgE",
      "include_colab_link": true
    },
    "kernelspec": {
      "name": "python3",
      "display_name": "Python 3"
    }
  },
  "cells": [
    {
      "cell_type": "markdown",
      "metadata": {
        "id": "view-in-github",
        "colab_type": "text"
      },
      "source": [
        "<a href=\"https://colab.research.google.com/github/rochinha23/Exercicios_Curso_em_video/blob/main/ex_038_maior_entre_2_numeros.ipynb\" target=\"_parent\"><img src=\"https://colab.research.google.com/assets/colab-badge.svg\" alt=\"Open In Colab\"/></a>"
      ]
    },
    {
      "cell_type": "markdown",
      "metadata": {
        "id": "vpP3r_tyWIve"
      },
      "source": [
        "ex_038\n",
        "\n",
        "Escreva um programa que leia dois números inteiros e \n",
        "compare-os, mostrando na tela uma mensagem:\n",
        "- O primeiro valor é maior\n",
        "- O segundo valor é maior\n",
        "- Não existe valor maior, os dois são iguais"
      ]
    },
    {
      "cell_type": "code",
      "metadata": {
        "id": "OlJenKocWLv6",
        "outputId": "b655e357-15c3-4262-a021-7a99b31e99dc",
        "colab": {
          "base_uri": "https://localhost:8080/"
        }
      },
      "source": [
        "n1 = int(input('Digite o primeiro numero inteiro:'))\n",
        "n2 = int(input('Digite o segundo numero inteiro: '))\n",
        "\n",
        "if n1>n2:\n",
        "    print ('O primeiro numero eh maior')\n",
        "elif n2>n1:\n",
        "    print('O segundo numero eh maior')\n",
        "else:\n",
        "    print('Nao existe valor maior, os dois sao iguais')"
      ],
      "execution_count": 1,
      "outputs": [
        {
          "output_type": "stream",
          "text": [
            "Digite o primeiro numero inteiro:5\n",
            "Digite o segundo numero inteiro: 6\n",
            "O segundo numero eh maior\n"
          ],
          "name": "stdout"
        }
      ]
    }
  ]
}