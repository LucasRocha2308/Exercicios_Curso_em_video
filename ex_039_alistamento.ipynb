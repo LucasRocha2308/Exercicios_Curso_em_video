{
  "nbformat": 4,
  "nbformat_minor": 0,
  "metadata": {
    "colab": {
      "name": "ex_039_alistamento.ipynb",
      "provenance": [],
      "collapsed_sections": [],
      "authorship_tag": "ABX9TyMA2uRwdYEf8SZUBFEeXNau",
      "include_colab_link": true
    },
    "kernelspec": {
      "name": "python3",
      "display_name": "Python 3"
    }
  },
  "cells": [
    {
      "cell_type": "markdown",
      "metadata": {
        "id": "view-in-github",
        "colab_type": "text"
      },
      "source": [
        "<a href=\"https://colab.research.google.com/github/rochinha23/Exercicios_Curso_em_video/blob/main/ex_039_alistamento.ipynb\" target=\"_parent\"><img src=\"https://colab.research.google.com/assets/colab-badge.svg\" alt=\"Open In Colab\"/></a>"
      ]
    },
    {
      "cell_type": "markdown",
      "metadata": {
        "id": "zq_5iAHlXCmU"
      },
      "source": [
        "ex_039\n",
        "\n",
        "Faca um programa que leia o ano de nascimento de um \n",
        "jovem e informe, de acordo com sua idade:\n",
        "\n",
        "-Se ele ainda vai se alistar ao servico militar.\n",
        "-Se eh a hora de se alistar.\n",
        "-Se ja passou do tempo de alistamento.\n",
        "\n",
        "Seu programa tambem deverá mostrar o \n",
        "tempo que falta ou que passou do alistamento"
      ]
    },
    {
      "cell_type": "code",
      "metadata": {
        "id": "lnsCCwIGX3Pk",
        "outputId": "9dee34f4-8aac-48e4-be85-6e72462838c6",
        "colab": {
          "base_uri": "https://localhost:8080/"
        }
      },
      "source": [
        "ano = int(input('Digite o seu ano de nascimento: '))\n",
        "\n",
        "idade = 2020 - ano\n",
        "\n",
        "if idade < 18:\n",
        "    falta = 18 - idade\n",
        "    print('Ainda vai se alistar, faltam {} anos'.format(falta))\n",
        "elif idade == 18:\n",
        "    print('Eh hora de se alistar' )\n",
        "else:\n",
        "    passou = idade - 18\n",
        "    print('Ja passou {} ano(s) do tempo de alistamento.'.format(passou))"
      ],
      "execution_count": 3,
      "outputs": [
        {
          "output_type": "stream",
          "text": [
            "Digite o seu ano de nascimento: 1996\n",
            "Ja passou 6 ano(s) do tempo de alistamento.\n"
          ],
          "name": "stdout"
        }
      ]
    }
  ]
}