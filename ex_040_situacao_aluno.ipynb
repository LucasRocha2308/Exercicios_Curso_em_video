{
  "nbformat": 4,
  "nbformat_minor": 0,
  "metadata": {
    "colab": {
      "name": "ex_040_situacao_aluno.ipynb",
      "provenance": [],
      "collapsed_sections": [],
      "authorship_tag": "ABX9TyNz3zg5+MR0cUXk29Im5J8F",
      "include_colab_link": true
    },
    "kernelspec": {
      "name": "python3",
      "display_name": "Python 3"
    }
  },
  "cells": [
    {
      "cell_type": "markdown",
      "metadata": {
        "id": "view-in-github",
        "colab_type": "text"
      },
      "source": [
        "<a href=\"https://colab.research.google.com/github/rochinha23/Exercicios_Curso_em_video/blob/main/ex_040_situacao_aluno.ipynb\" target=\"_parent\"><img src=\"https://colab.research.google.com/assets/colab-badge.svg\" alt=\"Open In Colab\"/></a>"
      ]
    },
    {
      "cell_type": "markdown",
      "metadata": {
        "id": "rHUq9AK_Zc65"
      },
      "source": [
        "ex_040\n",
        "\n",
        "Crie um programa que leia duas notas de um aluno\n",
        "e calcule sua média, mostrando uma mensagem no final, \n",
        "de acordo com a media atingida:\n",
        "\n",
        "- Média abaixo de 5.0:\n",
        "REPROVADO\n",
        "\n",
        "- Média entre 5.0 e 6.9:\n",
        "RECUPERAÇÃO\n",
        "\n",
        "- Média 7.0 ou superior:\n",
        "APROVADO"
      ]
    },
    {
      "cell_type": "code",
      "metadata": {
        "id": "erpJm8n9ZkSY",
        "outputId": "76d3176c-c6e5-4bd1-e640-3785ed44f54b",
        "colab": {
          "base_uri": "https://localhost:8080/"
        }
      },
      "source": [
        "nota1 = float(input('Digite a primeira nota: '))\n",
        "nota2 = float(input('Digite a segunda nota: '))\n",
        "\n",
        "media = (nota1 + nota2)/2\n",
        "\n",
        "print('A média é {:.2f}: '.format(media))\n",
        "if media < 5.0:\n",
        "    print(' Você foi REPROVADO')\n",
        "elif media >= 5.0 and media <= 6.9:\n",
        "    print('Você esta em RECUPERAÇÃO')\n",
        "else:\n",
        "    print('Você foi APROVADO')\n"
      ],
      "execution_count": 1,
      "outputs": [
        {
          "output_type": "stream",
          "text": [
            "Digite a primeira nota: 6.7\n",
            "Digite a segunda nota: 6.9\n",
            "A média é 6.80: \n",
            "Você esta em RECUPERAÇÃO\n"
          ],
          "name": "stdout"
        }
      ]
    }
  ]
}