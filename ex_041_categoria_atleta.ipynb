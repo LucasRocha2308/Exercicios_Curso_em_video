{
  "nbformat": 4,
  "nbformat_minor": 0,
  "metadata": {
    "colab": {
      "name": "ex_041_categoria_atleta.ipynb",
      "provenance": [],
      "collapsed_sections": [],
      "authorship_tag": "ABX9TyPNuCUq2FOQEJXs19NGySAu",
      "include_colab_link": true
    },
    "kernelspec": {
      "name": "python3",
      "display_name": "Python 3"
    }
  },
  "cells": [
    {
      "cell_type": "markdown",
      "metadata": {
        "id": "view-in-github",
        "colab_type": "text"
      },
      "source": [
        "<a href=\"https://colab.research.google.com/github/rochinha23/Exercicios_Curso_em_video/blob/main/ex_041_categoria_atleta.ipynb\" target=\"_parent\"><img src=\"https://colab.research.google.com/assets/colab-badge.svg\" alt=\"Open In Colab\"/></a>"
      ]
    },
    {
      "cell_type": "markdown",
      "metadata": {
        "id": "y3kLBM5GbJfV"
      },
      "source": [
        "ex_041\n",
        "\n",
        "A Confederação Nacional de Natação precisa de um \n",
        "programa que leia o ano de nascimento de um atleta \n",
        "e mostre sua categoria, de acordo com a idade:\n",
        "\n",
        "- Até 9 anos: MIRIM\n",
        "- Até 14 anos: INFANTIL\n",
        "- Até 19 anos: JUNIOR\n",
        "- Até 20 anos: SENIOR\n",
        "-Acima: MASTER"
      ]
    },
    {
      "cell_type": "code",
      "metadata": {
        "id": "8nzxX4G3bW54",
        "outputId": "117db5b0-151d-4842-be6d-abb8bb518d52",
        "colab": {
          "base_uri": "https://localhost:8080/"
        }
      },
      "source": [
        "ano = int(input('Qual o ano de nascimento do atleta? '))\n",
        "\n",
        "idade = 2020 - ano\n",
        "\n",
        "if idade <9:\n",
        "    print('MIRIM')\n",
        "elif idade <= 14:\n",
        "    print('INFANTIL')\n",
        "elif idade <=19:\n",
        "    print('JUNIOR')\n",
        "elif idade <=20:\n",
        "    print('SENIOR')\n",
        "else:\n",
        "    print('MASTER')"
      ],
      "execution_count": 1,
      "outputs": [
        {
          "output_type": "stream",
          "text": [
            "Qual o ano de nascimento do atleta? 1998\n",
            "MASTER\n"
          ],
          "name": "stdout"
        }
      ]
    }
  ]
}