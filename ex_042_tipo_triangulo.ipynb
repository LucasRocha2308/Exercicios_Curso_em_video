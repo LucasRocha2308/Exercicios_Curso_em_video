{
  "nbformat": 4,
  "nbformat_minor": 0,
  "metadata": {
    "colab": {
      "name": "ex_042_tipo_triangulo.ipynb",
      "provenance": [],
      "collapsed_sections": [],
      "authorship_tag": "ABX9TyNb7Iky892Z4NwEcS53oGX5",
      "include_colab_link": true
    },
    "kernelspec": {
      "name": "python3",
      "display_name": "Python 3"
    }
  },
  "cells": [
    {
      "cell_type": "markdown",
      "metadata": {
        "id": "view-in-github",
        "colab_type": "text"
      },
      "source": [
        "<a href=\"https://colab.research.google.com/github/rochinha23/Exercicios_Curso_em_video/blob/main/ex_042_tipo_triangulo.ipynb\" target=\"_parent\"><img src=\"https://colab.research.google.com/assets/colab-badge.svg\" alt=\"Open In Colab\"/></a>"
      ]
    },
    {
      "cell_type": "markdown",
      "metadata": {
        "id": "8bl0O_aXcZzR"
      },
      "source": [
        "EX_042\n",
        "\n",
        " Refaça o DESAFIO 035 dos triangulos, acrescentado o\n",
        "recurso de mostrar que tipo de triangulo será forma:\n",
        "\n",
        "- Equilatero: todos os lados iguais\n",
        "- Isósceles: dois lados iguais\n",
        "- Escaleno: todos os lados diferentes"
      ]
    },
    {
      "cell_type": "code",
      "metadata": {
        "id": "3SgrQgrOcmYo",
        "outputId": "b21b00a9-2aae-4824-9c1c-f7c28f56d975",
        "colab": {
          "base_uri": "https://localhost:8080/"
        }
      },
      "source": [
        "a = float(input('Digite o 1º comprimento da reta: '))\n",
        "b = float(input('Digite o 2º comprimento da reta: '))\n",
        "c = float(input('Digite o 3º comprimento da reta: '))\n",
        "\n",
        "if a < b + c and b < a + c and c < a + b:\n",
        "    print('Os segmentos acima podem formar triangulo')\n",
        "    if a == b and a == c:\n",
        "        print('Triangulo Equilátero')\n",
        "    elif a == b or a == c or b == c:\n",
        "        print('Triangulo Isósceles')\n",
        "    else:\n",
        "        print('Triangulo Escaleno')\n",
        "else:\n",
        "    print('Os segmentos acima não podem formar triangulo')\n",
        "\n"
      ],
      "execution_count": 1,
      "outputs": [
        {
          "output_type": "stream",
          "text": [
            "Digite o 1º comprimento da reta: 3\n",
            "Digite o 2º comprimento da reta: 4\n",
            "Digite o 3º comprimento da reta: 5\n",
            "Os segmentos acima podem formar triangulo\n",
            "Triangulo Escaleno\n"
          ],
          "name": "stdout"
        }
      ]
    }
  ]
}