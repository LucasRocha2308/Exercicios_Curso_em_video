{
  "nbformat": 4,
  "nbformat_minor": 0,
  "metadata": {
    "colab": {
      "name": "ex_043_Calculo_IMC.ipynb",
      "provenance": [],
      "collapsed_sections": [],
      "authorship_tag": "ABX9TyOGMS11/Nt5ADLMrenpd/W9",
      "include_colab_link": true
    },
    "kernelspec": {
      "name": "python3",
      "display_name": "Python 3"
    }
  },
  "cells": [
    {
      "cell_type": "markdown",
      "metadata": {
        "id": "view-in-github",
        "colab_type": "text"
      },
      "source": [
        "<a href=\"https://colab.research.google.com/github/rochinha23/Exercicios_Curso_em_video/blob/main/ex_043_Calculo_IMC.ipynb\" target=\"_parent\"><img src=\"https://colab.research.google.com/assets/colab-badge.svg\" alt=\"Open In Colab\"/></a>"
      ]
    },
    {
      "cell_type": "markdown",
      "metadata": {
        "id": "neJCTbSQdaAD"
      },
      "source": [
        "ex_043\n",
        "\n",
        " Desenvolva uma lógica que leia o peso e a altura de uma\n",
        "pessoa, calcule seu IMC e mostre seu status, de acordo \n",
        "com a tabela abaixo:\n",
        "\n",
        "-Abaixo de 18.5: Abaixo do peso\n",
        "-Entre 18.5 e 25: Peso ideal\n",
        "-Entre 25 até 30:Sobrepeso\n",
        "-Acima de 40:Obesidade mórbida"
      ]
    },
    {
      "cell_type": "code",
      "metadata": {
        "id": "cUESncx3dhOG",
        "outputId": "f9f4b9dd-9b94-48ea-97b6-61081bebdce0",
        "colab": {
          "base_uri": "https://localhost:8080/"
        }
      },
      "source": [
        "peso = float(input('Qual o peso? '))\n",
        "altura = float(input('Qual a altura? '))\n",
        "\n",
        "IMC = peso/(altura*altura)\n",
        "print('O IMC é {:.2f}'.format(IMC))\n",
        "if IMC < 18.5:\n",
        "    print('Abaixo do peso ')\n",
        "elif IMC >=18.5 and IMC < 25:\n",
        "    print('Peso ideal')\n",
        "elif IMC >= 25 and IMC <30:\n",
        "    print('Sobrepeso')\n",
        "else:\n",
        "    print('Obesidade mórbida')\n"
      ],
      "execution_count": 1,
      "outputs": [
        {
          "output_type": "stream",
          "text": [
            "Qual o peso? 100\n",
            "Qual a altura? 1.80\n",
            "O IMC é 30.86\n",
            "Obesidade mórbida\n"
          ],
          "name": "stdout"
        }
      ]
    }
  ]
}