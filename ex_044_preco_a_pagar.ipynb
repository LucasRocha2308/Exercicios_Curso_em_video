{
  "nbformat": 4,
  "nbformat_minor": 0,
  "metadata": {
    "colab": {
      "name": "ex_044_preco_a_pagar.ipynb",
      "provenance": [],
      "collapsed_sections": [],
      "authorship_tag": "ABX9TyODAUWTDT+qn0NLrcvRSReK",
      "include_colab_link": true
    },
    "kernelspec": {
      "name": "python3",
      "display_name": "Python 3"
    }
  },
  "cells": [
    {
      "cell_type": "markdown",
      "metadata": {
        "id": "view-in-github",
        "colab_type": "text"
      },
      "source": [
        "<a href=\"https://colab.research.google.com/github/rochinha23/Exercicios_Curso_em_video/blob/main/ex_044_preco_a_pagar.ipynb\" target=\"_parent\"><img src=\"https://colab.research.google.com/assets/colab-badge.svg\" alt=\"Open In Colab\"/></a>"
      ]
    },
    {
      "cell_type": "markdown",
      "metadata": {
        "id": "VwkeZOQid9lF"
      },
      "source": [
        "ex_044\n",
        "\n",
        "Elabore um programa que calcule o valor a ser pago por\n",
        "um produto, considerando o seu preço normal e condição\n",
        "de pagamento:\n",
        "\n",
        "- Á vista dinheiro/cheque:10% de desconto\n",
        "- Á vista no cartão:5% de desconto\n",
        "- em até 2x no cartão:preço normal\n",
        "- 3x ou mais no cartão:20% de juros"
      ]
    },
    {
      "cell_type": "code",
      "metadata": {
        "id": "1SkecQE6eBxg",
        "outputId": "42a24e29-1ca5-4a7b-b4b1-2179ce89ee99",
        "colab": {
          "base_uri": "https://localhost:8080/"
        }
      },
      "source": [
        "preco = float(input('Qual o valor do produto? '))\n",
        "\n",
        "print(''' formas de pagamento:\n",
        "- [1] Á vista dinheiro/cheque:10% de desconto\n",
        "- [2] Á vista no cartão:5% de desconto\n",
        "- [3] em até 2x no cartão:preço normal\n",
        "- [4] 3x ou mais no cartão:20% de juros''')\n",
        "\n",
        "forma = int(input('Qual a forma de pagamento? '))\n",
        "\n",
        "if forma == 1:\n",
        "    pagara = preco - (preco*0.10)\n",
        "    print('O valor a ser pago é {:.2f} reais'.format(pagara))\n",
        "elif forma == 2:\n",
        "    pagara = preco - (preco*0.05)\n",
        "    print('O valor a ser pago é {:.2f} reais'.format(pagara))\n",
        "elif forma == 3:\n",
        "    pagara = preco\n",
        "    print('O valor a ser pago é {:.2f} reais'.format(pagara))\n",
        "else:\n",
        "    pagara = preco + (preco*0.20)\n",
        "    print('O valor a ser pago é {:.2f} reais'.format(pagara))\n"
      ],
      "execution_count": 1,
      "outputs": [
        {
          "output_type": "stream",
          "text": [
            "Qual o valor do produto? 1000\n",
            " formas de pagamento:\n",
            "- [1] Á vista dinheiro/cheque:10% de desconto\n",
            "- [2] Á vista no cartão:5% de desconto\n",
            "- [3] em até 2x no cartão:preço normal\n",
            "- [4] 3x ou mais no cartão:20% de juros\n",
            "Qual a forma de pagamento? 2\n",
            "O valor a ser pago é 950.00 reais\n"
          ],
          "name": "stdout"
        }
      ]
    }
  ]
}