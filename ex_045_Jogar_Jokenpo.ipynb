{
  "nbformat": 4,
  "nbformat_minor": 0,
  "metadata": {
    "colab": {
      "name": "ex_045_Jogar_Jokenpo.ipynb",
      "provenance": [],
      "collapsed_sections": [],
      "authorship_tag": "ABX9TyMNgAKa/dy6L9Dd6c7Hq/Xj",
      "include_colab_link": true
    },
    "kernelspec": {
      "name": "python3",
      "display_name": "Python 3"
    }
  },
  "cells": [
    {
      "cell_type": "markdown",
      "metadata": {
        "id": "view-in-github",
        "colab_type": "text"
      },
      "source": [
        "<a href=\"https://colab.research.google.com/github/rochinha23/Exercicios_Curso_em_video/blob/main/ex_045_Jogar_Jokenpo.ipynb\" target=\"_parent\"><img src=\"https://colab.research.google.com/assets/colab-badge.svg\" alt=\"Open In Colab\"/></a>"
      ]
    },
    {
      "cell_type": "markdown",
      "metadata": {
        "id": "qKYWz7O2mmN9"
      },
      "source": [
        "ex_045\n",
        "\n",
        "Crie um programa que faça o computador jogar jokenpô \n",
        "com você."
      ]
    },
    {
      "cell_type": "code",
      "metadata": {
        "id": "Fn4VvOmBmuiz",
        "outputId": "ffc154e7-2345-49cf-e63b-aa44ac83e4d1",
        "colab": {
          "base_uri": "https://localhost:8080/"
        }
      },
      "source": [
        "import random\n",
        "print('''Escolha entre:\n",
        "                 [1] - Pedra\n",
        "                 [2] - Papel\n",
        "                 [3] - Tesoura''')\n",
        "acao = int(input('Qual o número: '))\n",
        "                 \n",
        "lista = [1, 2, 3]\n",
        "sorteio = random.choice(lista)\n",
        "\n",
        "if acao == 1 and sorteio == 2:\n",
        "    print('''Você jogou Pedra\n",
        "E o PC Papel, logo''')\n",
        "    print('Você perdeu')\n",
        "elif acao == 3 and sorteio == 2:\n",
        "    print('''Você jogou Tesoura\n",
        "E o PC Papel, logo''')\n",
        "    print('Você ganhou')\n",
        "elif acao == 2 and sorteio == 2:\n",
        "    print('''Você jogou Papel\n",
        "E o PC Papel, logo''')\n",
        "    print('Empatou')\n",
        "elif acao == 1 and sorteio == 1:\n",
        "    print('''Você jogou Pedra\n",
        "E o PC Pedra, logo''')\n",
        "    print('Empatou')\n",
        "elif acao == 3 and sorteio == 1:\n",
        "    print('''Você jogou Papel\n",
        "E o PC Pedra, logo''')\n",
        "    print('Você perdeu')\n",
        "elif acao == 2 and sorteio == 1:\n",
        "    print('''Você jogou Papel\n",
        "E o PC Pedra, logo''')\n",
        "    print('Você ganhou')\n",
        "elif acao == 1 and sorteio == 3:\n",
        "    print('''Você jogou Pedra\n",
        "E o PC Tesoura, logo''')\n",
        "    print('Você ganhou')\n",
        "elif acao == 3 and sorteio == 3:\n",
        "    print('''Você jogou Tesoura\n",
        "E o PC Tesoura, logo''')\n",
        "    print('Empatou')\n",
        "elif acao == 2 and sorteio == 3:\n",
        "    print('''Você jogou Papel\n",
        "E o PC Tesoura, logo''')\n",
        "    print('Você perdeu')\n"
      ],
      "execution_count": 1,
      "outputs": [
        {
          "output_type": "stream",
          "text": [
            "Escolha entre:\n",
            "                 [1] - Pedra\n",
            "                 [2] - Papel\n",
            "                 [3] - Tesoura\n",
            "Qual o número: 2\n",
            "Você jogou Papel\n",
            "E o PC Pedra, logo\n",
            "Você ganhou\n"
          ],
          "name": "stdout"
        }
      ]
    }
  ]
}