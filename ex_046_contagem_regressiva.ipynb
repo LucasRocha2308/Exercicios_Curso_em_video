{
  "nbformat": 4,
  "nbformat_minor": 0,
  "metadata": {
    "colab": {
      "name": "ex_046_contagem_regressiva.ipynb",
      "provenance": [],
      "collapsed_sections": [],
      "authorship_tag": "ABX9TyPJiVpBH8jGQLKZplUBg8Hi",
      "include_colab_link": true
    },
    "kernelspec": {
      "name": "python3",
      "display_name": "Python 3"
    }
  },
  "cells": [
    {
      "cell_type": "markdown",
      "metadata": {
        "id": "view-in-github",
        "colab_type": "text"
      },
      "source": [
        "<a href=\"https://colab.research.google.com/github/rochinha23/Exercicios_Curso_em_video/blob/main/ex_046_contagem_regressiva.ipynb\" target=\"_parent\"><img src=\"https://colab.research.google.com/assets/colab-badge.svg\" alt=\"Open In Colab\"/></a>"
      ]
    },
    {
      "cell_type": "markdown",
      "metadata": {
        "id": "MjsWXnqWoUDf"
      },
      "source": [
        "ex_046\n",
        "\n",
        "Faça um programa que mostre na tela uma contagem \n",
        "regressiva para o estouro de fogos de artificio, indo\n",
        "de 10 até 0, com uma pausa de 1 segundo entre elas."
      ]
    },
    {
      "cell_type": "code",
      "metadata": {
        "id": "1YkW50OzoZke",
        "outputId": "b122a57b-d825-4e1c-dc93-6269908154c3",
        "colab": {
          "base_uri": "https://localhost:8080/"
        }
      },
      "source": [
        "import time\n",
        "print('O estouro dos fogos acontecerá em:')\n",
        "for c in range(10,-1,-1):\n",
        "    time.sleep(1)\n",
        "    print(c)\n",
        "print('Estourooooooooo')"
      ],
      "execution_count": 1,
      "outputs": [
        {
          "output_type": "stream",
          "text": [
            "O estouro dos fogos acontecerá em:\n",
            "10\n",
            "9\n",
            "8\n",
            "7\n",
            "6\n",
            "5\n",
            "4\n",
            "3\n",
            "2\n",
            "1\n",
            "0\n",
            "Estourooooooooo\n"
          ],
          "name": "stdout"
        }
      ]
    }
  ]
}