{
  "nbformat": 4,
  "nbformat_minor": 0,
  "metadata": {
    "colab": {
      "name": "ex_048_soma_mult3.ipynb",
      "provenance": [],
      "collapsed_sections": [],
      "authorship_tag": "ABX9TyOOZeNpk/l8kLC8b3j/k9vW",
      "include_colab_link": true
    },
    "kernelspec": {
      "name": "python3",
      "display_name": "Python 3"
    }
  },
  "cells": [
    {
      "cell_type": "markdown",
      "metadata": {
        "id": "view-in-github",
        "colab_type": "text"
      },
      "source": [
        "<a href=\"https://colab.research.google.com/github/rochinha23/Exercicios_Curso_em_video/blob/main/ex_048_soma_mult3.ipynb\" target=\"_parent\"><img src=\"https://colab.research.google.com/assets/colab-badge.svg\" alt=\"Open In Colab\"/></a>"
      ]
    },
    {
      "cell_type": "markdown",
      "metadata": {
        "id": "7sz-bps7qDOx"
      },
      "source": [
        "ex_048\n",
        "\n",
        " Faça um programa que calcule a soma entre todos os\n",
        "números impares que são múltiplos de tres e que se \n",
        "encontram no intervalor de 1 até 500."
      ]
    },
    {
      "cell_type": "code",
      "metadata": {
        "id": "gem3er2YqdRp",
        "outputId": "c2b2af68-c616-4815-8cc7-8ca0075bb709",
        "colab": {
          "base_uri": "https://localhost:8080/"
        }
      },
      "source": [
        "s = 0\n",
        "cont = 0\n",
        "'para solucionar a parte do impar'\n",
        "for c  in range (1, 501, 2):\n",
        "    'Para solucionar a parte do multiplo de 3'\n",
        "    if c % 3 == 0:\n",
        "        cont = cont + 1\n",
        "        s= s+ c\n",
        "print('A soma dos {} valores são : {}'.format(cont, s))\n"
      ],
      "execution_count": 1,
      "outputs": [
        {
          "output_type": "stream",
          "text": [
            "A soma dos 83 valores são : 20667\n"
          ],
          "name": "stdout"
        }
      ]
    }
  ]
}