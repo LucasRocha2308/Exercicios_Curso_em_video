{
  "nbformat": 4,
  "nbformat_minor": 0,
  "metadata": {
    "colab": {
      "name": "ex_049_tabuada.ipynb",
      "provenance": [],
      "collapsed_sections": [],
      "authorship_tag": "ABX9TyNh86WZmFgEZlcNS+f/wNqr",
      "include_colab_link": true
    },
    "kernelspec": {
      "name": "python3",
      "display_name": "Python 3"
    }
  },
  "cells": [
    {
      "cell_type": "markdown",
      "metadata": {
        "id": "view-in-github",
        "colab_type": "text"
      },
      "source": [
        "<a href=\"https://colab.research.google.com/github/rochinha23/Exercicios_Curso_em_video/blob/main/ex_049_tabuada.ipynb\" target=\"_parent\"><img src=\"https://colab.research.google.com/assets/colab-badge.svg\" alt=\"Open In Colab\"/></a>"
      ]
    },
    {
      "cell_type": "markdown",
      "metadata": {
        "id": "7E2_hh9O1x9J"
      },
      "source": [
        "ex_049\n",
        "\n",
        "Refaça o desafio 009, mostrando a tabuada de um número\n",
        "que o usuario escolher, só que agora utilizando um \n",
        "laço for"
      ]
    },
    {
      "cell_type": "code",
      "metadata": {
        "id": "I7J7F5-N12dm",
        "outputId": "e1e37d3d-143a-451b-d447-ba3cf331e528",
        "colab": {
          "base_uri": "https://localhost:8080/"
        }
      },
      "source": [
        "num = int(input('Digite um número: '))\n",
        "\n",
        "print('A tabuada do número {} é:'.format(num))\n",
        "\n",
        "for c in range (1,11,1):\n",
        "    print('{} x {} = {}'.format(c,num,num*c))\n",
        "print('fim da tabuada' )\n"
      ],
      "execution_count": 1,
      "outputs": [
        {
          "output_type": "stream",
          "text": [
            "Digite um número: 5\n",
            "A tabuada do número 5 é:\n",
            "1 x 5 = 5\n",
            "2 x 5 = 10\n",
            "3 x 5 = 15\n",
            "4 x 5 = 20\n",
            "5 x 5 = 25\n",
            "6 x 5 = 30\n",
            "7 x 5 = 35\n",
            "8 x 5 = 40\n",
            "9 x 5 = 45\n",
            "10 x 5 = 50\n",
            "fim da tabuada\n"
          ],
          "name": "stdout"
        }
      ]
    }
  ]
}