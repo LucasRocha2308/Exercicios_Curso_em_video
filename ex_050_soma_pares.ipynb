{
  "nbformat": 4,
  "nbformat_minor": 0,
  "metadata": {
    "colab": {
      "name": "ex_050_soma_pares.ipynb",
      "provenance": [],
      "collapsed_sections": [],
      "authorship_tag": "ABX9TyMjg9NrW8bxKi5wl7FywZSM",
      "include_colab_link": true
    },
    "kernelspec": {
      "name": "python3",
      "display_name": "Python 3"
    }
  },
  "cells": [
    {
      "cell_type": "markdown",
      "metadata": {
        "id": "view-in-github",
        "colab_type": "text"
      },
      "source": [
        "<a href=\"https://colab.research.google.com/github/rochinha23/Exercicios_Curso_em_video/blob/main/ex_050_soma_pares.ipynb\" target=\"_parent\"><img src=\"https://colab.research.google.com/assets/colab-badge.svg\" alt=\"Open In Colab\"/></a>"
      ]
    },
    {
      "cell_type": "markdown",
      "metadata": {
        "id": "3LrjtitPDgSG"
      },
      "source": [
        "ex_050\n",
        "\n",
        "Desenvolva um programa que leia seis números inteiros \n",
        "e mostre a soma apenas daqueles que forem pares. Se o \n",
        "valor digitado for impar, desconsidere-o."
      ]
    },
    {
      "cell_type": "code",
      "metadata": {
        "id": "SEOnaHoLDmD7",
        "outputId": "6ab0e444-fc44-43e5-ab50-811ef3ced0f2",
        "colab": {
          "base_uri": "https://localhost:8080/"
        }
      },
      "source": [
        "s = 0\n",
        "cont = 0\n",
        "for c in range (0,6):\n",
        "    num = int(input('Digite um número: '))\n",
        "    if num%2 ==0:\n",
        "        cont = cont + 1\n",
        "        s = s + num\n",
        "print ('A soma dos {} número(s) par(es) digitados é:{} '.format(cont, s))\n"
      ],
      "execution_count": 1,
      "outputs": [
        {
          "output_type": "stream",
          "text": [
            "Digite um número: 6\n",
            "Digite um número: 8\n",
            "Digite um número: 4\n",
            "Digite um número: 3\n",
            "Digite um número: 2\n",
            "Digite um número: 1\n",
            "A soma dos 4 número(s) par(es) digitados é:20 \n"
          ],
          "name": "stdout"
        }
      ]
    }
  ]
}