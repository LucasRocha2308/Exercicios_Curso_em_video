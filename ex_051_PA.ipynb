{
  "nbformat": 4,
  "nbformat_minor": 0,
  "metadata": {
    "colab": {
      "name": "ex_051_PA.ipynb",
      "provenance": [],
      "collapsed_sections": [],
      "authorship_tag": "ABX9TyOunWNIoJol+Pkir5mvMkMN",
      "include_colab_link": true
    },
    "kernelspec": {
      "name": "python3",
      "display_name": "Python 3"
    }
  },
  "cells": [
    {
      "cell_type": "markdown",
      "metadata": {
        "id": "view-in-github",
        "colab_type": "text"
      },
      "source": [
        "<a href=\"https://colab.research.google.com/github/rochinha23/Exercicios_Curso_em_video/blob/main/ex_051_PA.ipynb\" target=\"_parent\"><img src=\"https://colab.research.google.com/assets/colab-badge.svg\" alt=\"Open In Colab\"/></a>"
      ]
    },
    {
      "cell_type": "markdown",
      "metadata": {
        "id": "1R_dpsNdE4HB"
      },
      "source": [
        "ex_051\n",
        "\n",
        "Desenvolva um programa que leia o primeiro termo e a \n",
        "razão de uma PA. No final , mostre os 10 primeiros\n",
        "termos dessa progressão."
      ]
    },
    {
      "cell_type": "code",
      "metadata": {
        "id": "DcLExZ3cE9Hl",
        "outputId": "eb61fb40-f93c-40da-f407-d1bffe311794",
        "colab": {
          "base_uri": "https://localhost:8080/"
        }
      },
      "source": [
        "a1 = float(input('Qual o 1º termo da PA? '))\n",
        "r = float(input('Qual a razão da PA? '))\n",
        "\n",
        "for n in range (1, 11):\n",
        "    an = a1 + (n - 1)*r\n",
        "    print('O termo {:.1f} vale {:.1f}'.format(n,an))\n"
      ],
      "execution_count": 2,
      "outputs": [
        {
          "output_type": "stream",
          "text": [
            "Qual o 1º termo da PA? 5\n",
            "Qual a razão da PA3\n",
            "O termo 1.0 vale 5.0\n",
            "O termo 2.0 vale 8.0\n",
            "O termo 3.0 vale 11.0\n",
            "O termo 4.0 vale 14.0\n",
            "O termo 5.0 vale 17.0\n",
            "O termo 6.0 vale 20.0\n",
            "O termo 7.0 vale 23.0\n",
            "O termo 8.0 vale 26.0\n",
            "O termo 9.0 vale 29.0\n",
            "O termo 10.0 vale 32.0\n"
          ],
          "name": "stdout"
        }
      ]
    }
  ]
}