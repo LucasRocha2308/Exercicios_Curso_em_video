{
  "nbformat": 4,
  "nbformat_minor": 0,
  "metadata": {
    "colab": {
      "name": "ex_052_num_primo.ipynb",
      "provenance": [],
      "collapsed_sections": [],
      "authorship_tag": "ABX9TyNqya08RHqFeKuHQLJWymtj",
      "include_colab_link": true
    },
    "kernelspec": {
      "name": "python3",
      "display_name": "Python 3"
    }
  },
  "cells": [
    {
      "cell_type": "markdown",
      "metadata": {
        "id": "view-in-github",
        "colab_type": "text"
      },
      "source": [
        "<a href=\"https://colab.research.google.com/github/rochinha23/Exercicios_Curso_em_video/blob/main/ex_052_num_primo.ipynb\" target=\"_parent\"><img src=\"https://colab.research.google.com/assets/colab-badge.svg\" alt=\"Open In Colab\"/></a>"
      ]
    },
    {
      "cell_type": "markdown",
      "metadata": {
        "id": "zwnBnxUeHb8C"
      },
      "source": [
        "ex_052\n",
        "\n",
        "Faça um programa que leia um número inteiro e diga \n",
        "se ele é ou não um número primo."
      ]
    },
    {
      "cell_type": "code",
      "metadata": {
        "id": "czsbKKLhHfjf",
        "outputId": "0eb6dbea-b5f4-4d0c-c19c-48a9f9ca844a",
        "colab": {
          "base_uri": "https://localhost:8080/"
        }
      },
      "source": [
        "num = int(input('Digite um valor inteiro: '))\n",
        "\n",
        "tot = 0\n",
        "for c in range (1, num+1):\n",
        "    if num%c == 0:\n",
        "        tot = tot + 1\n",
        "if tot == 2:\n",
        "    print('O número {} é primo'.format(num))\n",
        "else:\n",
        "    print('O número {} não é primo'.format(num))\n"
      ],
      "execution_count": 2,
      "outputs": [
        {
          "output_type": "stream",
          "text": [
            "Digite um valor inteiro: 6\n",
            "O número 6 não é primo\n"
          ],
          "name": "stdout"
        }
      ]
    }
  ]
}