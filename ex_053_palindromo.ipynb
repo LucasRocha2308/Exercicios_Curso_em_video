{
  "nbformat": 4,
  "nbformat_minor": 0,
  "metadata": {
    "colab": {
      "name": "ex_053_palindromo.ipynb",
      "provenance": [],
      "collapsed_sections": [],
      "authorship_tag": "ABX9TyPhghaTgmz4liy+I6OvW28t",
      "include_colab_link": true
    },
    "kernelspec": {
      "name": "python3",
      "display_name": "Python 3"
    }
  },
  "cells": [
    {
      "cell_type": "markdown",
      "metadata": {
        "id": "view-in-github",
        "colab_type": "text"
      },
      "source": [
        "<a href=\"https://colab.research.google.com/github/rochinha23/Exercicios_Curso_em_video/blob/main/ex_053_palindromo.ipynb\" target=\"_parent\"><img src=\"https://colab.research.google.com/assets/colab-badge.svg\" alt=\"Open In Colab\"/></a>"
      ]
    },
    {
      "cell_type": "markdown",
      "metadata": {
        "id": "tHqLs00BrZdW"
      },
      "source": [
        "ex_053\n",
        "\n",
        " Crie um programa que leia uma frase qualquer e diga\n",
        "se ela é um palindromo, desconsiderando os espaços."
      ]
    },
    {
      "cell_type": "code",
      "metadata": {
        "colab": {
          "base_uri": "https://localhost:8080/"
        },
        "id": "jzezwriprgrz",
        "outputId": "9101b8a0-eadf-4881-c50a-0d8f19217e2e"
      },
      "source": [
        "frase = str(input('Digite uma frase: ')).strip().upper()\n",
        "separar = frase.split()\n",
        "juntar = ''.join(separar)\n",
        "inverso = ''\n",
        "\n",
        "for letra in range(len(juntar)-1,-1,-1):\n",
        "    inverso += juntar[letra]\n",
        "if juntar == inverso:\n",
        "    print('''a frase {} \n",
        "    é um palindromo '''.format(frase))\n",
        "else:\n",
        "    print('''A frase {}\n",
        "    não é um palindromo'''.format(frase))"
      ],
      "execution_count": 2,
      "outputs": [
        {
          "output_type": "stream",
          "text": [
            "Digite uma frase: luz azul\n",
            "a frase LUZ AZUL \n",
            "    é um palindromo \n"
          ],
          "name": "stdout"
        }
      ]
    }
  ]
}