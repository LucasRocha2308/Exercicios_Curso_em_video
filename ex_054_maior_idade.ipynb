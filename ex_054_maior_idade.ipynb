{
  "nbformat": 4,
  "nbformat_minor": 0,
  "metadata": {
    "colab": {
      "name": "ex_054_maior_idade.ipynb",
      "provenance": [],
      "collapsed_sections": [],
      "authorship_tag": "ABX9TyN8RjY1iVP3EbL588wc+she",
      "include_colab_link": true
    },
    "kernelspec": {
      "name": "python3",
      "display_name": "Python 3"
    }
  },
  "cells": [
    {
      "cell_type": "markdown",
      "metadata": {
        "id": "view-in-github",
        "colab_type": "text"
      },
      "source": [
        "<a href=\"https://colab.research.google.com/github/rochinha23/Exercicios_Curso_em_video/blob/main/ex_054_maior_idade.ipynb\" target=\"_parent\"><img src=\"https://colab.research.google.com/assets/colab-badge.svg\" alt=\"Open In Colab\"/></a>"
      ]
    },
    {
      "cell_type": "markdown",
      "metadata": {
        "id": "4EBbz6tDsrz0"
      },
      "source": [
        "ex_054\n",
        "\n",
        "Crie um programa que leia o ano de nascimento de\n",
        "sete pessoas.No final, mostre quantas pessoas ainda não\n",
        "atingiram a maioridade e quantas já são maiores."
      ]
    },
    {
      "cell_type": "code",
      "metadata": {
        "id": "oaUk75DytHxA"
      },
      "source": [
        "maior = 0\n",
        "menor = 0\n",
        "\n",
        "for c in range (1, 8):\n",
        "    idade = int(input('Em que ano você nasceu? '))\n",
        "    anos = 2020- idade\n",
        "    if anos >= 21:\n",
        "        maior = maior + 1\n",
        "    else:\n",
        "        menor = menor + 1\n",
        "print ('''{} pessoas são maiores de idade\n",
        "e {} são menores de idade'''.format(maior,menor))\n"
      ],
      "execution_count": null,
      "outputs": []
    }
  ]
}