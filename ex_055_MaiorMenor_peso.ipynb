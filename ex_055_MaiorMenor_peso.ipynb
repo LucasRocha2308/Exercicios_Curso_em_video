{
  "nbformat": 4,
  "nbformat_minor": 0,
  "metadata": {
    "colab": {
      "name": "ex_055_MaiorMenor_peso.ipynb",
      "provenance": [],
      "collapsed_sections": [],
      "authorship_tag": "ABX9TyPedQgWwnDJvO9tr7chDcu3",
      "include_colab_link": true
    },
    "kernelspec": {
      "name": "python3",
      "display_name": "Python 3"
    }
  },
  "cells": [
    {
      "cell_type": "markdown",
      "metadata": {
        "id": "view-in-github",
        "colab_type": "text"
      },
      "source": [
        "<a href=\"https://colab.research.google.com/github/rochinha23/Exercicios_Curso_em_video/blob/main/ex_055_MaiorMenor_peso.ipynb\" target=\"_parent\"><img src=\"https://colab.research.google.com/assets/colab-badge.svg\" alt=\"Open In Colab\"/></a>"
      ]
    },
    {
      "cell_type": "markdown",
      "metadata": {
        "id": "BXFVsESBtql-"
      },
      "source": [
        "ex_055\n",
        "\n",
        "Faça um programa que leia o peso de cinco pessoas. \n",
        "No final, mostre qual foi o maior e o menor peso lidos"
      ]
    },
    {
      "cell_type": "code",
      "metadata": {
        "colab": {
          "base_uri": "https://localhost:8080/"
        },
        "id": "IZx3zfwQuCkI",
        "outputId": "7520ec0c-c5df-408a-b3d4-aadf961d5a57"
      },
      "source": [
        "lista = []\n",
        "for i in range (1, 6):\n",
        "    peso = float(input('Digite um peso? '))\n",
        "    lista.append(peso) \n",
        "print('O maior peso é {:.2f} e o menor {:.2f}'.format(max(lista),min(lista)))\n"
      ],
      "execution_count": 2,
      "outputs": [
        {
          "output_type": "stream",
          "text": [
            "Digite um peso? 80\n",
            "Digite um peso? 70\n",
            "Digite um peso? 65\n",
            "Digite um peso? 88\n",
            "Digite um peso? 55\n",
            "O maior peso é 88.00 e o menor 55.00\n"
          ],
          "name": "stdout"
        }
      ]
    }
  ]
}