{
  "nbformat": 4,
  "nbformat_minor": 0,
  "metadata": {
    "colab": {
      "name": "ex_056_analise_de_dados.ipynb",
      "provenance": [],
      "collapsed_sections": [],
      "authorship_tag": "ABX9TyOginIHJgHvebU+SW2QytPZ",
      "include_colab_link": true
    },
    "kernelspec": {
      "name": "python3",
      "display_name": "Python 3"
    }
  },
  "cells": [
    {
      "cell_type": "markdown",
      "metadata": {
        "id": "view-in-github",
        "colab_type": "text"
      },
      "source": [
        "<a href=\"https://colab.research.google.com/github/rochinha23/Exercicios_Curso_em_video/blob/main/ex_056_analise_de_dados.ipynb\" target=\"_parent\"><img src=\"https://colab.research.google.com/assets/colab-badge.svg\" alt=\"Open In Colab\"/></a>"
      ]
    },
    {
      "cell_type": "markdown",
      "metadata": {
        "id": "0yQ7Db-1upd4"
      },
      "source": [
        "ex_056\n",
        "\n",
        "Desenvolva um programa que leia o nome, idade e sexo\n",
        "de 4 pessoas. No final do programa, mostre:\n",
        "\n",
        "- A média de idade do grupo\n",
        "- Qual é o nome do homem mais velho\n",
        "- Quantas mulheres têm menos de 20 anos."
      ]
    },
    {
      "cell_type": "code",
      "metadata": {
        "colab": {
          "base_uri": "https://localhost:8080/"
        },
        "id": "7Ol7ukwIuur8",
        "outputId": "b330ed60-b653-4966-df5c-ab393d5e4ffb"
      },
      "source": [
        "somaidade = 0\n",
        "mediaidade = 0\n",
        "maioridadehomem = 0\n",
        "nomevelho = ''\n",
        "mulher = 0\n",
        "for i in range(1,5):\n",
        "    print('---------{}ª PESSOA--------'.format(i))\n",
        "    nome = str(input('Qual é seu nome? '))\n",
        "    idade = int(input('Qual sua idade? '))\n",
        "    sexo = str(input('Qual seu sexo [M/F]? ')).strip().upper()\n",
        "    somaidade += idade\n",
        "    if i == 1 and sexo == 'M':\n",
        "        maioridadehomem = idade\n",
        "        nomevelho = nome\n",
        "    if sexo == 'M' and idade > maioridadehomem:\n",
        "        maioridadehomem = idade\n",
        "        nomevelho = nome\n",
        "    if sexo == 'F' and idade<20:\n",
        "        mulher += 1\n",
        "mediaidade = somaidade/4\n",
        "print('A media de idade é {}'.format(mediaidade))\n",
        "print('O nome do homem mais velho é {} com {} anos'.format(nomevelho,maioridadehomem))\n",
        "print('{} mulheres tem idade abaixo de 20 anos'.format(mulher))\n",
        "\n"
      ],
      "execution_count": 4,
      "outputs": [
        {
          "output_type": "stream",
          "text": [
            "---------1ª PESSOA--------\n",
            "Qual é seu nome? Lucas\n",
            "Qual sua idade? 48\n",
            "Qual seu sexo [M/F]? M\n",
            "---------2ª PESSOA--------\n",
            "Qual é seu nome? Mai\n",
            "Qual sua idade? 38\n",
            "Qual seu sexo [M/F]? F\n",
            "---------3ª PESSOA--------\n",
            "Qual é seu nome? Rafa\n",
            "Qual sua idade? 25\n",
            "Qual seu sexo [M/F]? M\n",
            "---------4ª PESSOA--------\n",
            "Qual é seu nome? Joana\n",
            "Qual sua idade? 29\n",
            "Qual seu sexo [M/F]? F\n",
            "A media de idade é 35.0\n",
            "O nome do homem mais velho é Lucas com 48 anos\n",
            "0 mulheres tem idade abaixo de 20 anos\n"
          ],
          "name": "stdout"
        }
      ]
    }
  ]
}