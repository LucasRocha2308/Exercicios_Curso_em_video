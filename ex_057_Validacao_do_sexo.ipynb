{
  "nbformat": 4,
  "nbformat_minor": 0,
  "metadata": {
    "colab": {
      "name": "ex_057_Validacao_do_sexo.ipynb",
      "provenance": [],
      "collapsed_sections": [],
      "authorship_tag": "ABX9TyMx9h1a/z4rpdNLyN6yJuA+",
      "include_colab_link": true
    },
    "kernelspec": {
      "name": "python3",
      "display_name": "Python 3"
    }
  },
  "cells": [
    {
      "cell_type": "markdown",
      "metadata": {
        "id": "view-in-github",
        "colab_type": "text"
      },
      "source": [
        "<a href=\"https://colab.research.google.com/github/rochinha23/Exercicios_Curso_em_video/blob/main/ex_057_Validacao_do_sexo.ipynb\" target=\"_parent\"><img src=\"https://colab.research.google.com/assets/colab-badge.svg\" alt=\"Open In Colab\"/></a>"
      ]
    },
    {
      "cell_type": "markdown",
      "metadata": {
        "id": "IdWAYNNSxsL5"
      },
      "source": [
        "ex_057\n",
        "\n",
        " Faça um programa que leia o sexo de uma pessoa, mas \n",
        "só aceite os valores 'M' ou 'F'. Caso esteja errado,\n",
        "peça a digitação novamente até ter um valor correto."
      ]
    },
    {
      "cell_type": "code",
      "metadata": {
        "colab": {
          "base_uri": "https://localhost:8080/"
        },
        "id": "aJreWlBjxwUf",
        "outputId": "6bea5bc7-c8b9-4d90-b8a0-cf360b5daff8"
      },
      "source": [
        "sexo = 0\n",
        "\n",
        "while sexo != 'M' and sexo != 'F':\n",
        "    sexo = str(input('Qual seu sexo? [M] [F] '))\n",
        "    \n",
        "print ('Seu sexo é {}'.format(sexo))"
      ],
      "execution_count": 1,
      "outputs": [
        {
          "output_type": "stream",
          "text": [
            "Qual seu sexo? [M] [F] m\n",
            "Qual seu sexo? [M] [F] f\n",
            "Qual seu sexo? [M] [F] M\n",
            "Seu sexo é M\n"
          ],
          "name": "stdout"
        }
      ]
    }
  ]
}