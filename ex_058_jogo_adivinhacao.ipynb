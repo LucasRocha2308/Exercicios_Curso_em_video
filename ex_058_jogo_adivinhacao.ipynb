{
  "nbformat": 4,
  "nbformat_minor": 0,
  "metadata": {
    "colab": {
      "name": "ex_058_jogo_adivinhacao.ipynb",
      "provenance": [],
      "collapsed_sections": [],
      "authorship_tag": "ABX9TyMvNCnIzzguDI1WsOSFpERj",
      "include_colab_link": true
    },
    "kernelspec": {
      "name": "python3",
      "display_name": "Python 3"
    }
  },
  "cells": [
    {
      "cell_type": "markdown",
      "metadata": {
        "id": "view-in-github",
        "colab_type": "text"
      },
      "source": [
        "<a href=\"https://colab.research.google.com/github/rochinha23/Exercicios_Curso_em_video/blob/main/ex_058_jogo_adivinhacao.ipynb\" target=\"_parent\"><img src=\"https://colab.research.google.com/assets/colab-badge.svg\" alt=\"Open In Colab\"/></a>"
      ]
    },
    {
      "cell_type": "markdown",
      "metadata": {
        "id": "_AnLmyGBytRV"
      },
      "source": [
        "ex_058\n",
        "\n",
        "Melhore o jogo do DESAFIO 028 onde o computador vai\n",
        "'pensar' em um número entre 0 e 10. Só que agora o \n",
        "jogador vai tentar adivinhar até acertar, mostrando\n",
        "no final quantos palpites forem necessario para vencer."
      ]
    },
    {
      "cell_type": "code",
      "metadata": {
        "colab": {
          "base_uri": "https://localhost:8080/"
        },
        "id": "6LWsy6mqy12L",
        "outputId": "29d5c601-ff09-424f-e644-3dc29ea3fc4d"
      },
      "source": [
        "cont = 0\n",
        "palpite = 0\n",
        "while palpite != 7:\n",
        "    palpite = int(input('Adivinhe um número(0 e 10) '))\n",
        "    cont += 1\n",
        "print('Você acertou depois de {} tentativas'.format(cont))\n"
      ],
      "execution_count": 1,
      "outputs": [
        {
          "output_type": "stream",
          "text": [
            "Adivinhe um número(0 e 10) 6\n",
            "Adivinhe um número(0 e 10) 4\n",
            "Adivinhe um número(0 e 10) 5\n",
            "Adivinhe um número(0 e 10) 7\n",
            "Você acertou depois de 4 tentativas\n"
          ],
          "name": "stdout"
        }
      ]
    }
  ]
}