{
  "nbformat": 4,
  "nbformat_minor": 0,
  "metadata": {
    "colab": {
      "name": "ex_059_menu.ipynb",
      "provenance": [],
      "collapsed_sections": [],
      "authorship_tag": "ABX9TyOXQLT3VNpxLKA+Bi8+9JVU",
      "include_colab_link": true
    },
    "kernelspec": {
      "name": "python3",
      "display_name": "Python 3"
    }
  },
  "cells": [
    {
      "cell_type": "markdown",
      "metadata": {
        "id": "view-in-github",
        "colab_type": "text"
      },
      "source": [
        "<a href=\"https://colab.research.google.com/github/rochinha23/Exercicios_Curso_em_video/blob/main/ex_059_menu.ipynb\" target=\"_parent\"><img src=\"https://colab.research.google.com/assets/colab-badge.svg\" alt=\"Open In Colab\"/></a>"
      ]
    },
    {
      "cell_type": "markdown",
      "metadata": {
        "id": "nq9SKmpZ0DPx"
      },
      "source": [
        "ex_059\n",
        "\n",
        "Crie um programa que leia dois valores e mostre um menu\n",
        "na tela:\n",
        "[1] somar\n",
        "[2] multiplicar\n",
        "[3] maior\n",
        "[4] novos números\n",
        "[5] sair do programa\n",
        "\n",
        "Seu programa deverá realizar a operação solicitada em \n",
        "cada caso."
      ]
    },
    {
      "cell_type": "code",
      "metadata": {
        "colab": {
          "base_uri": "https://localhost:8080/"
        },
        "id": "M6p9_E5n0JWe",
        "outputId": "c81f6e11-a200-4554-a8bd-17a5dabb6907"
      },
      "source": [
        "num1 = int(input('Digite um número: '))\n",
        "num2 = int(input('Digite outro número: '))\n",
        "digito = 0\n",
        "\n",
        "while digito != 5:\n",
        "    print('''Opção:\n",
        "[1] somar\n",
        "[2] multiplicar\n",
        "[3] maior\n",
        "[4] novos números\n",
        "[5] sair do programa ''')\n",
        "    digito = int(input('Qual a opção: '))\n",
        "    if digito == 1:\n",
        "        soma = num1 + num2\n",
        "        print('A soma é {}'.format(soma))\n",
        "    elif digito == 2:\n",
        "        mult = num1 * num2\n",
        "        print('A multiplicação é {}'.format(mult))\n",
        "    elif digito == 3:\n",
        "        if num1>num2:\n",
        "            print('O nº {} é maior que {}'.format(num1,num2))\n",
        "        elif num2>num1:\n",
        "            print('O nº {} é maior que {}'.format(num2,num1))\n",
        "        else:\n",
        "            print('Os números são iguais')\n",
        "    elif digito == 4:\n",
        "        print('Informe os números novamento: ')\n",
        "        num1 = int(input('Digite um número: '))\n",
        "        num2 = int(input('Digite outro número: '))\n",
        "    elif digito == 5:\n",
        "        print('Finalizando...')\n",
        "    else:\n",
        "        print('Opção invalida. Tente novamente')\n",
        "    print('=-='*10)\n",
        "print('Saiu do programa')    \n",
        "        \n"
      ],
      "execution_count": 3,
      "outputs": [
        {
          "output_type": "stream",
          "text": [
            "Digite um número: 6\n",
            "Digite outro número: 9\n",
            "Opção:\n",
            "[1] somar\n",
            "[2] multiplicar\n",
            "[3] maior\n",
            "[4] novos números\n",
            "[5] sair do programa \n",
            "Qual a opção: 1\n",
            "A soma é 15\n",
            "=-==-==-==-==-==-==-==-==-==-=\n",
            "Opção:\n",
            "[1] somar\n",
            "[2] multiplicar\n",
            "[3] maior\n",
            "[4] novos números\n",
            "[5] sair do programa \n",
            "Qual a opção: 2\n",
            "A multiplicação é 54\n",
            "=-==-==-==-==-==-==-==-==-==-=\n",
            "Opção:\n",
            "[1] somar\n",
            "[2] multiplicar\n",
            "[3] maior\n",
            "[4] novos números\n",
            "[5] sair do programa \n",
            "Qual a opção: 3\n",
            "O nº 9 é maior que 6\n",
            "=-==-==-==-==-==-==-==-==-==-=\n",
            "Opção:\n",
            "[1] somar\n",
            "[2] multiplicar\n",
            "[3] maior\n",
            "[4] novos números\n",
            "[5] sair do programa \n",
            "Qual a opção: 4\n",
            "Informe os números novamento: \n",
            "Digite um número: 8\n",
            "Digite outro número: 7\n",
            "=-==-==-==-==-==-==-==-==-==-=\n",
            "Opção:\n",
            "[1] somar\n",
            "[2] multiplicar\n",
            "[3] maior\n",
            "[4] novos números\n",
            "[5] sair do programa \n",
            "Qual a opção: 5\n",
            "Finalizando...\n",
            "=-==-==-==-==-==-==-==-==-==-=\n",
            "Saiu do programa\n"
          ],
          "name": "stdout"
        }
      ]
    }
  ]
}