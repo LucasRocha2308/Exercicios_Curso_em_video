{
  "nbformat": 4,
  "nbformat_minor": 0,
  "metadata": {
    "colab": {
      "name": "ex_060_fatorial.ipynb",
      "provenance": [],
      "collapsed_sections": [],
      "authorship_tag": "ABX9TyMw1xs2gQDwm8DOQ3y5o7Yn",
      "include_colab_link": true
    },
    "kernelspec": {
      "name": "python3",
      "display_name": "Python 3"
    }
  },
  "cells": [
    {
      "cell_type": "markdown",
      "metadata": {
        "id": "view-in-github",
        "colab_type": "text"
      },
      "source": [
        "<a href=\"https://colab.research.google.com/github/rochinha23/Exercicios_Curso_em_video/blob/main/ex_060_fatorial.ipynb\" target=\"_parent\"><img src=\"https://colab.research.google.com/assets/colab-badge.svg\" alt=\"Open In Colab\"/></a>"
      ]
    },
    {
      "cell_type": "markdown",
      "metadata": {
        "id": "euwmGSmH1k6o"
      },
      "source": [
        "ex_060\n",
        "\n",
        "Faça um programa que leia um número qualquer e mostre\n",
        "o seu fatorial."
      ]
    },
    {
      "cell_type": "code",
      "metadata": {
        "colab": {
          "base_uri": "https://localhost:8080/"
        },
        "id": "HHBP7iqA1n69",
        "outputId": "f06959cb-406a-4299-8a4a-6d788c494e3e"
      },
      "source": [
        "num = int(input('Digite um número: '))\n",
        "c = num\n",
        "f = 1\n",
        "print('Calculando {}! = '.format(num), end='')\n",
        "while c > 0:\n",
        "    print('{}'.format(c), end='')\n",
        "    print(' x 'if c > 1 else ' = ', end='')\n",
        "    f = f * c\n",
        "    c = c - 1\n",
        "print('{}'.format(f))"
      ],
      "execution_count": 1,
      "outputs": [
        {
          "output_type": "stream",
          "text": [
            "Digite um número: 6\n",
            "Calculando 6! = 6 x 5 x 4 x 3 x 2 x 1 = 720\n"
          ],
          "name": "stdout"
        }
      ]
    }
  ]
}