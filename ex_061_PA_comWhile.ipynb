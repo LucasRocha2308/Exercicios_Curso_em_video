{
  "nbformat": 4,
  "nbformat_minor": 0,
  "metadata": {
    "colab": {
      "name": "ex_061_PA_comWhile.ipynb",
      "provenance": [],
      "collapsed_sections": [],
      "authorship_tag": "ABX9TyNPaXwdLgzJ6zGzKPqpAc0U",
      "include_colab_link": true
    },
    "kernelspec": {
      "name": "python3",
      "display_name": "Python 3"
    }
  },
  "cells": [
    {
      "cell_type": "markdown",
      "metadata": {
        "id": "view-in-github",
        "colab_type": "text"
      },
      "source": [
        "<a href=\"https://colab.research.google.com/github/rochinha23/Exercicios_Curso_em_video/blob/main/ex_061_PA_comWhile.ipynb\" target=\"_parent\"><img src=\"https://colab.research.google.com/assets/colab-badge.svg\" alt=\"Open In Colab\"/></a>"
      ]
    },
    {
      "cell_type": "markdown",
      "metadata": {
        "id": "WYIxspoKjI-2"
      },
      "source": [
        "ex_061\n",
        "\n",
        "Refaça o DESAFIO 051, lendo o primeiro termo e a razão \n",
        "de uma PA, mostrando os 10 primeiros termos da \n",
        "progressão usando a estrutura while."
      ]
    },
    {
      "cell_type": "code",
      "metadata": {
        "colab": {
          "base_uri": "https://localhost:8080/"
        },
        "id": "sUMYPCYXjhtm",
        "outputId": "bc5ca947-4343-47a7-8632-9660a883c5ad"
      },
      "source": [
        "a1 = int(input('Digite o primeiro termo: '))\n",
        "r = int(input('Digite a razão: '))\n",
        "c = 1\n",
        "\n",
        "while c <= 10:\n",
        "    an = a1 + (c - 1)*r\n",
        "    print('{} ->'.format(an),end = ' ')\n",
        "    c = c + 1\n",
        "print('FIM')"
      ],
      "execution_count": 1,
      "outputs": [
        {
          "output_type": "stream",
          "text": [
            "Digite o primeiro termo: 5\n",
            "Digite a razão: 4\n",
            "5 -> 9 -> 13 -> 17 -> 21 -> 25 -> 29 -> 33 -> 37 -> 41 -> FIM\n"
          ],
          "name": "stdout"
        }
      ]
    }
  ]
}