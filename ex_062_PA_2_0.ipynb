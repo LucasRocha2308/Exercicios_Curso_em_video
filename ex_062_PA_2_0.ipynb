{
  "nbformat": 4,
  "nbformat_minor": 0,
  "metadata": {
    "colab": {
      "name": "ex_062_PA_2.0.ipynb",
      "provenance": [],
      "collapsed_sections": [],
      "authorship_tag": "ABX9TyOKNnppDgAkxrSINBCUwImH",
      "include_colab_link": true
    },
    "kernelspec": {
      "name": "python3",
      "display_name": "Python 3"
    }
  },
  "cells": [
    {
      "cell_type": "markdown",
      "metadata": {
        "id": "view-in-github",
        "colab_type": "text"
      },
      "source": [
        "<a href=\"https://colab.research.google.com/github/rochinha23/Exercicios_Curso_em_video/blob/main/ex_062_PA_2_0.ipynb\" target=\"_parent\"><img src=\"https://colab.research.google.com/assets/colab-badge.svg\" alt=\"Open In Colab\"/></a>"
      ]
    },
    {
      "cell_type": "markdown",
      "metadata": {
        "id": "x-9pB9cCkUyV"
      },
      "source": [
        "ex_062\n",
        "\n",
        "Melhore o DESAFIO 061, perguntando para o usúario se \n",
        "ele quer mostrar mais alguns termos. O programa encerra\n",
        "quando ele disser que quer mostrar 0 termos."
      ]
    },
    {
      "cell_type": "code",
      "metadata": {
        "colab": {
          "base_uri": "https://localhost:8080/"
        },
        "id": "ZM5pHGA5kY1r",
        "outputId": "13558725-6a46-4d9c-87af-ec2d770cc447"
      },
      "source": [
        "print('Gerador de PA')\n",
        "print('-='*10)\n",
        "primeiro = int(input('Digite o primeiro termo: '))\n",
        "razao = int(input('Digite a razão: '))\n",
        "termo = primeiro\n",
        "cont = 1\n",
        "total = 0\n",
        "mais = 10\n",
        "while mais != 0:\n",
        "    total =total + mais\n",
        "    while cont <= total:\n",
        "        print('{} -> '.format(termo), end='')\n",
        "        termo += razao\n",
        "        cont += 1\n",
        "    print('PAUSE')\n",
        "    mais = int(input('Quantos termos você quer mostrar a mais?'))\n",
        "print('Progressão finalizada com {} termos mostrados'.format(total))\n"
      ],
      "execution_count": 1,
      "outputs": [
        {
          "output_type": "stream",
          "text": [
            "Gerador de PA\n",
            "-=-=-=-=-=-=-=-=-=-=\n",
            "Digite o primeiro termo: 5\n",
            "Digite a razão: 2\n",
            "5 -> 7 -> 9 -> 11 -> 13 -> 15 -> 17 -> 19 -> 21 -> 23 -> PAUSE\n",
            "Quantos termos você quer mostrar a mais?4\n",
            "25 -> 27 -> 29 -> 31 -> PAUSE\n",
            "Quantos termos você quer mostrar a mais?3\n",
            "33 -> 35 -> 37 -> PAUSE\n",
            "Quantos termos você quer mostrar a mais?0\n",
            "Progressão finalizada com 17 termos mostrados\n"
          ],
          "name": "stdout"
        }
      ]
    }
  ]
}