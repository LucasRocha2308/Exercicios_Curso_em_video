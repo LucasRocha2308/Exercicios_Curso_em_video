{
  "nbformat": 4,
  "nbformat_minor": 0,
  "metadata": {
    "colab": {
      "name": "ex_063_Fibonacci.ipynb",
      "provenance": [],
      "collapsed_sections": [],
      "authorship_tag": "ABX9TyMTc2n+pBB1k2hT208XzFpL",
      "include_colab_link": true
    },
    "kernelspec": {
      "name": "python3",
      "display_name": "Python 3"
    }
  },
  "cells": [
    {
      "cell_type": "markdown",
      "metadata": {
        "id": "view-in-github",
        "colab_type": "text"
      },
      "source": [
        "<a href=\"https://colab.research.google.com/github/rochinha23/Exercicios_Curso_em_video/blob/main/ex_063_Fibonacci.ipynb\" target=\"_parent\"><img src=\"https://colab.research.google.com/assets/colab-badge.svg\" alt=\"Open In Colab\"/></a>"
      ]
    },
    {
      "cell_type": "markdown",
      "metadata": {
        "id": "uH4EcdAczT1c"
      },
      "source": [
        "ex_063\n",
        "Escreva um programa que leia um número n \n",
        "inteiro qualquer e mostre na tela os n primeiros \n",
        "elementos de uma sequencia de fibonacci.\n",
        "ex: 0->1->1->2->3->5->8"
      ]
    },
    {
      "cell_type": "code",
      "metadata": {
        "colab": {
          "base_uri": "https://localhost:8080/"
        },
        "id": "mlxRM06ZzZcO",
        "outputId": "97bf1b4c-e494-42fb-d38a-e179198a339a"
      },
      "source": [
        "print('-'*30)\n",
        "print('Sequencia de Fibonacci')\n",
        "print('-'*30)\n",
        "n = int(input('Digite um número: '))\n",
        "t1 = 0\n",
        "t2 = 1\n",
        "print('{} -> {}'.format(t1, t2), end =' ')\n",
        "i=3\n",
        "while i <= n:\n",
        "    t3 = t1 + t2\n",
        "    print(' -> {}'.format(t3), end =' ')\n",
        "    t1 = t2\n",
        "    t2 = t3\n",
        "    i = i + 1\n",
        "print('-> FIM')\n"
      ],
      "execution_count": 1,
      "outputs": [
        {
          "output_type": "stream",
          "text": [
            "------------------------------\n",
            "Sequencia de Fibonacci\n",
            "------------------------------\n",
            "Digite um número: 7\n",
            "0 -> 1  -> 1  -> 2  -> 3  -> 5  -> 8 -> FIM\n"
          ],
          "name": "stdout"
        }
      ]
    }
  ]
}