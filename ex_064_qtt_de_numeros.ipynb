{
  "nbformat": 4,
  "nbformat_minor": 0,
  "metadata": {
    "colab": {
      "name": "ex_064_qtt_de_numeros.ipynb",
      "provenance": [],
      "collapsed_sections": [],
      "authorship_tag": "ABX9TyOBOAZqg3cB+zRSNozMZ1FG",
      "include_colab_link": true
    },
    "kernelspec": {
      "name": "python3",
      "display_name": "Python 3"
    }
  },
  "cells": [
    {
      "cell_type": "markdown",
      "metadata": {
        "id": "view-in-github",
        "colab_type": "text"
      },
      "source": [
        "<a href=\"https://colab.research.google.com/github/rochinha23/Exercicios_Curso_em_video/blob/main/ex_064_qtt_de_numeros.ipynb\" target=\"_parent\"><img src=\"https://colab.research.google.com/assets/colab-badge.svg\" alt=\"Open In Colab\"/></a>"
      ]
    },
    {
      "cell_type": "markdown",
      "metadata": {
        "id": "FA0DfHys0ulX"
      },
      "source": [
        "ex_064\n",
        "\n",
        " Crie um programa que leia vários números inteiros pelo\n",
        "teclado. O programa só vai parar quando o usuario \n",
        "digitar o valor 999, que é a condição de parada. No\n",
        "final, mostre quantos números foram digitados e qual foi\n",
        "a soma entre eles (desconsiderando o flag)."
      ]
    },
    {
      "cell_type": "code",
      "metadata": {
        "colab": {
          "base_uri": "https://localhost:8080/"
        },
        "id": "wn9S5DCI1T4l",
        "outputId": "de0c3b91-c589-4e5c-bd64-027913406d31"
      },
      "source": [
        "num = 0\n",
        "cont = 0\n",
        "soma = 0\n",
        "while num != 999:\n",
        "    soma += num\n",
        "    cont += 1\n",
        "    num = int(input('Digite um número inteiro: [999 para sair] '))\n",
        "print('Forem digitados {} numeros, somados da {}'.format((cont - 1), soma))\n",
        "print ('FIM')\n"
      ],
      "execution_count": 1,
      "outputs": [
        {
          "output_type": "stream",
          "text": [
            "Digite um número inteiro: 5\n",
            "Digite um número inteiro: 6\n",
            "Digite um número inteiro: 9\n",
            "Digite um número inteiro: 7\n",
            "Digite um número inteiro: 999\n",
            "Forem digitados 4 numeros, somados da 27\n",
            "FIM\n"
          ],
          "name": "stdout"
        }
      ]
    }
  ]
}