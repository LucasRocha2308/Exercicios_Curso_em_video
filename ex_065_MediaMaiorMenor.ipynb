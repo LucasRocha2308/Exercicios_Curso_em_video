{
  "nbformat": 4,
  "nbformat_minor": 0,
  "metadata": {
    "colab": {
      "name": "ex_065_MediaMaiorMenor.ipynb",
      "provenance": [],
      "collapsed_sections": [],
      "authorship_tag": "ABX9TyM73SYQze6XLvIXiAr2G8bJ",
      "include_colab_link": true
    },
    "kernelspec": {
      "name": "python3",
      "display_name": "Python 3"
    }
  },
  "cells": [
    {
      "cell_type": "markdown",
      "metadata": {
        "id": "view-in-github",
        "colab_type": "text"
      },
      "source": [
        "<a href=\"https://colab.research.google.com/github/rochinha23/Exercicios_Curso_em_video/blob/main/ex_065_MediaMaiorMenor.ipynb\" target=\"_parent\"><img src=\"https://colab.research.google.com/assets/colab-badge.svg\" alt=\"Open In Colab\"/></a>"
      ]
    },
    {
      "cell_type": "markdown",
      "metadata": {
        "id": "8_5hsKnH27T-"
      },
      "source": [
        "ex_065\n",
        "\n",
        " Crie um programa que leia vários números inteiros pelo\n",
        "teclado. No final da execução, mostre a média entre\n",
        "todos os valores e qual foi o maior e o menor valores \n",
        "lidos. O programa deve perguntar ao usuário se ele quer\n",
        "ou não continuar a digitar valores."
      ]
    },
    {
      "cell_type": "code",
      "metadata": {
        "colab": {
          "base_uri": "https://localhost:8080/"
        },
        "id": "dmVvV4i32_c_",
        "outputId": "6a752216-93b7-45c9-f6f9-b3aeac1b0742"
      },
      "source": [
        "num = 0\n",
        "continuar = 0\n",
        "cont = 0\n",
        "soma = 0\n",
        "lista = []\n",
        "while continuar != 'N' :\n",
        "    num = int(input('Digite um número inteiro: '))\n",
        "    continuar = str(input('Você quer continuar?[S][N] ')).upper()\n",
        "    cont += 1\n",
        "    soma += num\n",
        "    lista.append(num)\n",
        "print('Foram digitados {} numeros, que somados da {}, com media {}'.format(cont, soma, soma/cont))    \n",
        "print('O Maior numero é {}, e o menor {}'.format(max(lista), min(lista)))       \n"
      ],
      "execution_count": 1,
      "outputs": [
        {
          "output_type": "stream",
          "text": [
            "Digite um número inteiro: 6\n",
            "Você quer continuar?[S][N] s\n",
            "Digite um número inteiro: 8\n",
            "Você quer continuar?[S][N] s\n",
            "Digite um número inteiro: 4\n",
            "Você quer continuar?[S][N] n\n",
            "Foram digitados 3 somando da 18, com media 6.0\n",
            "Maior 8, menor 4\n"
          ],
          "name": "stdout"
        }
      ]
    }
  ]
}