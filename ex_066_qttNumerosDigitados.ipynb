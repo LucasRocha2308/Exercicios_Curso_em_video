{
  "nbformat": 4,
  "nbformat_minor": 0,
  "metadata": {
    "colab": {
      "name": "ex_066_qttNumerosDigitados.ipynb",
      "provenance": [],
      "collapsed_sections": [],
      "authorship_tag": "ABX9TyOs0pQOph0JQBJsf8KvoZNj",
      "include_colab_link": true
    },
    "kernelspec": {
      "name": "python3",
      "display_name": "Python 3"
    }
  },
  "cells": [
    {
      "cell_type": "markdown",
      "metadata": {
        "id": "view-in-github",
        "colab_type": "text"
      },
      "source": [
        "<a href=\"https://colab.research.google.com/github/rochinha23/Exercicios_Curso_em_video/blob/main/ex_066_qttNumerosDigitados.ipynb\" target=\"_parent\"><img src=\"https://colab.research.google.com/assets/colab-badge.svg\" alt=\"Open In Colab\"/></a>"
      ]
    },
    {
      "cell_type": "markdown",
      "metadata": {
        "id": "o1U841Pw4X63"
      },
      "source": [
        "ex_066\n",
        "\n",
        " Crie um programa que leia vários números inteiros pelo\n",
        "teclado. O programa só vai parar quando o usuário \n",
        "digitar o valor 999, que é a condição de parada. No \n",
        "final. mostre quantos números foram digitados e qual\n",
        "foi a soma entre eles(desconsiderando o flag)."
      ]
    },
    {
      "cell_type": "code",
      "metadata": {
        "colab": {
          "base_uri": "https://localhost:8080/"
        },
        "id": "DSSo1hP34ba9",
        "outputId": "331baec9-21fb-4b3d-88ff-67498086d3aa"
      },
      "source": [
        "contador = soma = 0\n",
        "\n",
        "while True:\n",
        "    num = int(input('Digite um valor (999 para parar): '))\n",
        "    if num == 999:\n",
        "        break\n",
        "    contador += 1\n",
        "    soma += num\n",
        "print('Foram digitados {} numeros, somados dão {}'.format(contador,soma))\n"
      ],
      "execution_count": 1,
      "outputs": [
        {
          "output_type": "stream",
          "text": [
            "Digite um valor (999 para parar): 5\n",
            "Digite um valor (999 para parar): 9\n",
            "Digite um valor (999 para parar): 7\n",
            "Digite um valor (999 para parar): 3\n",
            "Digite um valor (999 para parar): 6\n",
            "Digite um valor (999 para parar): 999\n",
            "Foram digitados 5, somados dão 30\n"
          ],
          "name": "stdout"
        }
      ]
    }
  ]
}