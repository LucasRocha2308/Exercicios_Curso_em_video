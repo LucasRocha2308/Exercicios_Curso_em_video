{
  "nbformat": 4,
  "nbformat_minor": 0,
  "metadata": {
    "colab": {
      "name": "ex_067_varias_tabuadas.ipynb",
      "provenance": [],
      "collapsed_sections": [],
      "authorship_tag": "ABX9TyOMinVZc9Wj92ZxXPzQESu9",
      "include_colab_link": true
    },
    "kernelspec": {
      "name": "python3",
      "display_name": "Python 3"
    }
  },
  "cells": [
    {
      "cell_type": "markdown",
      "metadata": {
        "id": "view-in-github",
        "colab_type": "text"
      },
      "source": [
        "<a href=\"https://colab.research.google.com/github/rochinha23/Exercicios_Curso_em_video/blob/main/ex_067_varias_tabuadas.ipynb\" target=\"_parent\"><img src=\"https://colab.research.google.com/assets/colab-badge.svg\" alt=\"Open In Colab\"/></a>"
      ]
    },
    {
      "cell_type": "markdown",
      "metadata": {
        "id": "cA96BeMNdx0P"
      },
      "source": [
        "ex_067\n",
        "\n",
        " Faça um programa que mostre a tabuada de vários \n",
        "números , um de cada vez, para cada valor digitado pelo\n",
        "usuário. O programa será interrompido quando o número \n",
        "solicitado for negativo."
      ]
    },
    {
      "cell_type": "code",
      "metadata": {
        "colab": {
          "base_uri": "https://localhost:8080/"
        },
        "id": "JXjTQob0d22r",
        "outputId": "b580ad51-3045-46fa-e4b0-02864461125a"
      },
      "source": [
        "cont = 1\n",
        "tab = 0\n",
        "while True:\n",
        "    num = int(input('Quer ver a tabuada de qual valor? (Nº negativo para SAIR) '))\n",
        "    cont = 1\n",
        "    if num < 0:\n",
        "        break\n",
        "    while cont <=10:\n",
        "        tab = num*cont\n",
        "        print('{} x {} = {}'.format(num, cont, tab))\n",
        "        cont +=1\n",
        "    print('-'*20)    \n",
        "print('PROGRAMA TABUADA ENCERRADO. Volte sempre!')\n"
      ],
      "execution_count": 2,
      "outputs": [
        {
          "output_type": "stream",
          "text": [
            "Quer ver a tabuada de qual valor? (Nº negativo para SAIR) 6\n",
            "6 x 1 = 6\n",
            "6 x 2 = 12\n",
            "6 x 3 = 18\n",
            "6 x 4 = 24\n",
            "6 x 5 = 30\n",
            "6 x 6 = 36\n",
            "6 x 7 = 42\n",
            "6 x 8 = 48\n",
            "6 x 9 = 54\n",
            "6 x 10 = 60\n",
            "--------------------\n",
            "Quer ver a tabuada de qual valor? (Nº negativo para SAIR) 7\n",
            "7 x 1 = 7\n",
            "7 x 2 = 14\n",
            "7 x 3 = 21\n",
            "7 x 4 = 28\n",
            "7 x 5 = 35\n",
            "7 x 6 = 42\n",
            "7 x 7 = 49\n",
            "7 x 8 = 56\n",
            "7 x 9 = 63\n",
            "7 x 10 = 70\n",
            "--------------------\n",
            "Quer ver a tabuada de qual valor? (Nº negativo para SAIR) -9\n",
            "PROGRAMA TABUADA ENCERRADO. Volte sempre!\n"
          ],
          "name": "stdout"
        }
      ]
    }
  ]
}