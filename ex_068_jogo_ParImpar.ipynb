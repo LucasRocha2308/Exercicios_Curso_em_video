{
  "nbformat": 4,
  "nbformat_minor": 0,
  "metadata": {
    "colab": {
      "name": "ex_068_jogo_ParImpar.ipynb",
      "provenance": [],
      "collapsed_sections": [],
      "authorship_tag": "ABX9TyN9rkMoZLz1PWHovqvdLQm5",
      "include_colab_link": true
    },
    "kernelspec": {
      "name": "python3",
      "display_name": "Python 3"
    }
  },
  "cells": [
    {
      "cell_type": "markdown",
      "metadata": {
        "id": "view-in-github",
        "colab_type": "text"
      },
      "source": [
        "<a href=\"https://colab.research.google.com/github/rochinha23/Exercicios_Curso_em_video/blob/main/ex_068_jogo_ParImpar.ipynb\" target=\"_parent\"><img src=\"https://colab.research.google.com/assets/colab-badge.svg\" alt=\"Open In Colab\"/></a>"
      ]
    },
    {
      "cell_type": "markdown",
      "metadata": {
        "id": "3U3Ty80mgJkA"
      },
      "source": [
        "ex_068\n",
        "\n",
        " Faça um programa que jogue par ou impar com o \n",
        "computador. O jogo só será interrompido quando o jogador \n",
        "PERDER, mostrando o total de vitorias consecutivas que \n",
        "ele conquistou no final do jogo."
      ]
    },
    {
      "cell_type": "code",
      "metadata": {
        "colab": {
          "base_uri": "https://localhost:8080/"
        },
        "id": "miMgdSWDgPCv",
        "outputId": "38afeabb-c198-4207-c048-4b82b3890972"
      },
      "source": [
        "from random import randint\n",
        "\n",
        "computador = randint(0, 10)\n",
        "print('=-'*20)\n",
        "print('VAMOS JOGAR PAR OU IMPAR')\n",
        "print('=-'*20)\n",
        "\n",
        "soma = 0\n",
        "cont = 0\n",
        "escolha = ' '\n",
        "\n",
        "while True:\n",
        "    num = int(input('Diga um valor: '))\n",
        "    computador = randint(0, 10)\n",
        "    while escolha not in 'PI':\n",
        "        escolha = str(input('Par ou Ímpar? [P/I] ')).upper().strip()[0]\n",
        "    soma = num + computador\n",
        "    if (soma%2 == 0) and escolha == 'P':\n",
        "        print('Você jogou {} e o computador {}. Total de {} DEU PAR'.format(num,computador,soma))\n",
        "        print('--'*20)\n",
        "        print('Você VENCEU!')\n",
        "        print('Vamos jogar novamente...')\n",
        "        print('=-'*20)\n",
        "    elif (soma%2 == 0) and escolha == 'I':\n",
        "        print('Você jogou {} e o computador {}. Total de {} DEU PAR'.format(num,computador,soma))\n",
        "        print('--'*20)\n",
        "        print ('Você PERDER!')\n",
        "        print('=-'*20)\n",
        "        break\n",
        "    elif (soma%2 == 1) and escolha == 'P':\n",
        "        print('Você jogou {} e o computador {}. Total de {} DEU ÍMPAR'.format(num,computador,soma))\n",
        "        print('--'*20)\n",
        "        print ('Você PERDER!')\n",
        "        print('=-'*20)\n",
        "        break\n",
        "    elif (soma%2 == 1) and escolha == 'I':\n",
        "        print('Você jogou {} e o computador {}. Total de {} DEU ÍMPAR'.format(num,computador,soma))\n",
        "        print('--'*20)\n",
        "        print('Você VENCEU!')\n",
        "        print('Vamos jogar novamente...')\n",
        "        print('=-'*20)\n",
        "    cont += 1\n",
        "print('GAME OVER! Você venceu {} vezes'.format(cont))   \n",
        "    "
      ],
      "execution_count": 4,
      "outputs": [
        {
          "output_type": "stream",
          "text": [
            "=-=-=-=-=-=-=-=-=-=-=-=-=-=-=-=-=-=-=-=-\n",
            "VAMOS JOGAR PAR OU IMPAR\n",
            "=-=-=-=-=-=-=-=-=-=-=-=-=-=-=-=-=-=-=-=-\n",
            "Diga um valor: 9\n",
            "Par ou Ímpar? [P/I] i\n",
            "Você jogou 9 e o computador 4. Total de 13 DEU ÍMPAR\n",
            "----------------------------------------\n",
            "Você VENCEU!\n",
            "Vamos jogar novamente...\n",
            "=-=-=-=-=-=-=-=-=-=-=-=-=-=-=-=-=-=-=-=-\n",
            "Diga um valor: 6\n",
            "Você jogou 6 e o computador 0. Total de 6 DEU PAR\n",
            "----------------------------------------\n",
            "Você PERDER!\n",
            "=-=-=-=-=-=-=-=-=-=-=-=-=-=-=-=-=-=-=-=-\n",
            "GAME OVER! Você venceu 1 vezes\n"
          ],
          "name": "stdout"
        }
      ]
    }
  ]
}