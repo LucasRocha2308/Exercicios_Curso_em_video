{
  "nbformat": 4,
  "nbformat_minor": 0,
  "metadata": {
    "colab": {
      "name": "ex_069_analise_cadastro.ipynb",
      "provenance": [],
      "collapsed_sections": [],
      "authorship_tag": "ABX9TyNiQDOZdZabIxkDTe58CmP4",
      "include_colab_link": true
    },
    "kernelspec": {
      "name": "python3",
      "display_name": "Python 3"
    }
  },
  "cells": [
    {
      "cell_type": "markdown",
      "metadata": {
        "id": "view-in-github",
        "colab_type": "text"
      },
      "source": [
        "<a href=\"https://colab.research.google.com/github/rochinha23/Exercicios_Curso_em_video/blob/main/ex_069_analise_cadastro.ipynb\" target=\"_parent\"><img src=\"https://colab.research.google.com/assets/colab-badge.svg\" alt=\"Open In Colab\"/></a>"
      ]
    },
    {
      "cell_type": "markdown",
      "metadata": {
        "id": "KfcXXQehh47b"
      },
      "source": [
        "ex_069\n",
        "\n",
        " Crie um programa que leia a idade e o sexo de várias\n",
        "pessoas. A cada pessoa cadastrada, o programa deverá\n",
        "perguntar se o usuário quer ou não continuar. No final,\n",
        "mostre:\n",
        "\n",
        "A) Quantas pessoas tem mais de 18 anos.\n",
        "\n",
        "B) Quantos homens foram cadastrados.\n",
        "\n",
        "C) Quantas mulheres tem menos de 20 anos."
      ]
    },
    {
      "cell_type": "code",
      "metadata": {
        "id": "qsPMjfMAh_iz"
      },
      "source": [
        "print('--'*20)\n",
        "print('CADASTRE UMA PESSOA')\n",
        "print('--'*20)\n",
        "\n",
        "maioridade = 0\n",
        "masculino = 0\n",
        "m20 = 0\n",
        "sexo = ' '\n",
        "continuar = ' '\n",
        "\n",
        "while True:\n",
        "    idade = int(input('Idade: '))\n",
        "    sexo = ' '\n",
        "    continuar = ' '\n",
        "    while sexo not in 'MF' :\n",
        "        sexo = str(input('Sexo: [M/F] ')).upper().strip()[0]\n",
        "    if idade >= 18:\n",
        "        maioridade += 1\n",
        "    if sexo == 'M':\n",
        "        masculino += 1\n",
        "    if idade <= 20 and sexo == 'F':\n",
        "        m20 += 1\n",
        "    print('--'*20)\n",
        "    while continuar not in 'SN':\n",
        "        continuar = str(input('Quer continuar? [S/N] ')).upper().strip()[0]\n",
        "    print('--'*20)\n",
        "    if continuar == 'N':\n",
        "        break\n",
        "print('====== FIM DO PROGRAMA ======')    \n",
        "print('Total de pessoas com mais de 18 anos: {}'.format(maioridade)) \n",
        "print('Ao todo temos {} homens cadastrados'.format(masculino))\n",
        "print('E temos {} mulher(es) com menos de 20 anos'.format(m20))\n"
      ],
      "execution_count": null,
      "outputs": []
    }
  ]
}