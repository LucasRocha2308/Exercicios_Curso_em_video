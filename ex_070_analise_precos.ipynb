{
  "nbformat": 4,
  "nbformat_minor": 0,
  "metadata": {
    "colab": {
      "name": "ex_070_analise_precos.ipynb",
      "provenance": [],
      "collapsed_sections": [],
      "authorship_tag": "ABX9TyPcsVseICLijKXjj2KoQeO4",
      "include_colab_link": true
    },
    "kernelspec": {
      "name": "python3",
      "display_name": "Python 3"
    }
  },
  "cells": [
    {
      "cell_type": "markdown",
      "metadata": {
        "id": "view-in-github",
        "colab_type": "text"
      },
      "source": [
        "<a href=\"https://colab.research.google.com/github/rochinha23/Exercicios_Curso_em_video/blob/main/ex_070_analise_precos.ipynb\" target=\"_parent\"><img src=\"https://colab.research.google.com/assets/colab-badge.svg\" alt=\"Open In Colab\"/></a>"
      ]
    },
    {
      "cell_type": "markdown",
      "metadata": {
        "id": "WeDkBpOMTYV2"
      },
      "source": [
        "ex_070\n",
        "\n",
        " Crie um programa que leia o nome e o preço de vários \n",
        "produtos. O programa deverá perguntar se o usuário vai \n",
        "continuar. No final, mostre:\n",
        "\n",
        "A) Qual é o total gasto na compra.\n",
        "B) Quantos produtos custam mais de R$1000\n",
        "C) Qual é o nome do produto mais barato."
      ]
    },
    {
      "cell_type": "code",
      "metadata": {
        "colab": {
          "base_uri": "https://localhost:8080/"
        },
        "id": "jIFWv7MpTp6M",
        "outputId": "88c6ddf7-6c59-49e5-d13a-4985a0778234"
      },
      "source": [
        "print('--'*20)\n",
        "print('        LOJA SUPER BARATÃO        ')\n",
        "print('--'*20)\n",
        "\n",
        "continuar = ' '\n",
        "total = 0\n",
        "mais1000 = 0\n",
        "menor = 0\n",
        "menorP = ''\n",
        "produtos = 0\n",
        "\n",
        "while True:\n",
        "    nome = str(input('Nome do Produto: '))\n",
        "    preço = float(input('Preço: R$ '))\n",
        "    continuar = ' '\n",
        "    total +=preço\n",
        "    produtos += 1\n",
        "    if preço >= 1000:\n",
        "        mais1000 += 1\n",
        "    if produtos == 1 or preço < menor:\n",
        "        menor = preço\n",
        "        menorP = nome\n",
        "    while continuar not in 'SN':\n",
        "        continuar = str(input('Quer continuar? [S/N]')).strip().upper()[0]\n",
        "    if continuar == 'N':\n",
        "        break\n",
        "    \n",
        "print('-------- FIM DO PROGRAMA --------') \n",
        "print('O total da compra foi R${:.2f}'.format(total))\n",
        "print('Temos {} produtos custando mais de R$1000.00'.format(mais1000))\n",
        "print('O produto mais barato foi {} que custa R${}'.format(menorP,menor))\n"
      ],
      "execution_count": 4,
      "outputs": [
        {
          "output_type": "stream",
          "text": [
            "----------------------------------------\n",
            "        LOJA SUPER BARATÃO        \n",
            "----------------------------------------\n",
            "Nome do Produto: Lapis\n",
            "Preço: R$ 2\n",
            "Quer continuar? [S/N]s\n",
            "Nome do Produto: caneta\n",
            "Preço: R$ 3\n",
            "Quer continuar? [S/N]w\n",
            "Quer continuar? [S/N]s\n",
            "Nome do Produto: carro\n",
            "Preço: R$ 35000\n",
            "Quer continuar? [S/N]n\n",
            "-------- FIM DO PROGRAMA --------\n",
            "O total da compra foi R$35005.00\n",
            "Temos 1 produtos custando mais de R$1000.00\n",
            "O produto mais barato foi Lapis que custa R$2.0\n"
          ],
          "name": "stdout"
        }
      ]
    }
  ]
}