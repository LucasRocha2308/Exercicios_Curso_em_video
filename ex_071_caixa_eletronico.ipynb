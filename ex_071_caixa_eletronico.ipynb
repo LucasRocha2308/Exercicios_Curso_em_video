{
  "nbformat": 4,
  "nbformat_minor": 0,
  "metadata": {
    "colab": {
      "name": "ex_071_caixa_eletronico.ipynb",
      "provenance": [],
      "collapsed_sections": [],
      "authorship_tag": "ABX9TyP6ShWIdX2K/oZFE5+EA57b",
      "include_colab_link": true
    },
    "kernelspec": {
      "name": "python3",
      "display_name": "Python 3"
    }
  },
  "cells": [
    {
      "cell_type": "markdown",
      "metadata": {
        "id": "view-in-github",
        "colab_type": "text"
      },
      "source": [
        "<a href=\"https://colab.research.google.com/github/rochinha23/Exercicios_Curso_em_video/blob/main/ex_071_caixa_eletronico.ipynb\" target=\"_parent\"><img src=\"https://colab.research.google.com/assets/colab-badge.svg\" alt=\"Open In Colab\"/></a>"
      ]
    },
    {
      "cell_type": "markdown",
      "metadata": {
        "id": "V1_tcbQJXKBN"
      },
      "source": [
        "ex_071\n",
        "\n",
        " Crie um programa que simule o funcionamento de um \n",
        "caixa eletrônico. No inicio, pergunte ao usuário qual\n",
        "será o valor a ser sacado (número inteiro) e o programa\n",
        "vai informar quantas cédulas de cada valor serão \n",
        "entregues.\n",
        "\n",
        "OBS:Considere que o caixa possui cédulas de 50 reais, 20 reais,\n",
        "10 reais e 1 real."
      ]
    },
    {
      "cell_type": "code",
      "metadata": {
        "id": "QHH3sWcGXtYK"
      },
      "source": [
        "print('=='*20)\n",
        "print('        BANCO CEV        ')\n",
        "print('=='*20)\n",
        "\n",
        "saque = int(input('Que valor você quer sacar? R$ '))\n",
        "\n",
        "while True:\n",
        "    if saque >= 50:\n",
        "        if saque // 50 != 0:\n",
        "            n50 = (saque// 50)\n",
        "            r50 = (saque%50)\n",
        "            if r50 != 0:\n",
        "                n20 = (r50//20)\n",
        "                r20 = (r50%20)\n",
        "                if r20 != 0:\n",
        "                    n10 = (r20//10)\n",
        "                    r10 = (r20%10)\n",
        "                    if r10 != 0:\n",
        "                        n1 = (r10//1)\n",
        "                        r1 = (r10%1)\n",
        "                        print('{} notas de 50 reais'.format(n50))\n",
        "                        print('{} notas de 20 reais'.format(n20))\n",
        "                        print('{} notas de 10 reais'.format(n10))\n",
        "                        print('{} notas de 1 real'.format(n1))\n",
        "    elif saque < 50 and saque >= 20:\n",
        "        if saque // 20 != 0:\n",
        "            n20 = (saque//20)\n",
        "            r20 = (saque%20)\n",
        "            if r20 != 0:\n",
        "                n10 = (r20//10)\n",
        "                r10 = (r20%10)\n",
        "                if r10 != 0:\n",
        "                    n1 = (r10//1)\n",
        "                    r1 = (r10%1)\n",
        "                    print('{} notas de 20 reais'.format(n20))\n",
        "                    print('{} notas de 10 reais'.format(n10))\n",
        "                    print('{} notas de 1 real'.format(n1))\n",
        "    elif saque < 20 and saque >=10:\n",
        "        if saque // 20 != 0:\n",
        "            n10 = (saque//10)\n",
        "            r10 = (saque%10)\n",
        "            if r10 != 0:\n",
        "                n1 = (r10//1)\n",
        "                r1 = (r10%1)\n",
        "                print('{} notas de 10 reais'.format(n10))\n",
        "                print('{} notas de 1 real'.format(n1)) \n",
        "    elif saque < 10:\n",
        "        if saque // 10 != 0:\n",
        "            n1 = (saque//1)\n",
        "            r1 = (saque%1)\n",
        "            print('{} notas de 1 real'.format(n1))\n",
        "    break\n"
      ],
      "execution_count": null,
      "outputs": []
    }
  ]
}