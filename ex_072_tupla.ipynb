{
  "nbformat": 4,
  "nbformat_minor": 0,
  "metadata": {
    "colab": {
      "name": "ex_072_tupla.ipynb",
      "provenance": [],
      "collapsed_sections": [],
      "authorship_tag": "ABX9TyOB5rKa5RrZRWKmvDsxRsQj",
      "include_colab_link": true
    },
    "kernelspec": {
      "name": "python3",
      "display_name": "Python 3"
    }
  },
  "cells": [
    {
      "cell_type": "markdown",
      "metadata": {
        "id": "view-in-github",
        "colab_type": "text"
      },
      "source": [
        "<a href=\"https://colab.research.google.com/github/rochinha23/Exercicios_Curso_em_video/blob/main/ex_072_tupla.ipynb\" target=\"_parent\"><img src=\"https://colab.research.google.com/assets/colab-badge.svg\" alt=\"Open In Colab\"/></a>"
      ]
    },
    {
      "cell_type": "markdown",
      "metadata": {
        "id": "H5CdbmXDsBcL"
      },
      "source": [
        "ex_072\n",
        "\n",
        " Crie um programa que tenha uma tupla totalmente \n",
        "preenchida com uma contagem por extenso, de zero até\n",
        "vinte.\n",
        " Seu programa deverá ler um número pelo teclado \n",
        "(entre 0 e 20) e mostra-lo por extenso."
      ]
    },
    {
      "cell_type": "code",
      "metadata": {
        "colab": {
          "base_uri": "https://localhost:8080/"
        },
        "id": "qZyYb3m9sCtY",
        "outputId": "1ae1229d-54dc-4257-d604-333ddc923eae"
      },
      "source": [
        "num = int(input('Digite um número entre 0 e 20: '))\n",
        "tupla = ('zero', 'um', 'dois', 'três', 'quatro', \n",
        "'cinco', 'seis', 'sete', 'oito', 'novo', 'dez', 'onze',\n",
        "'doze', 'treze', 'quatorze', 'quinze', 'dezesseis',\n",
        "'dezessete', 'dezoito', 'dezenove', 'vinte')\n",
        "\n",
        "while True:\n",
        "    while (num < 0):\n",
        "        num = int(input('Tente novamente. Digite um número entre 0 e 20: '))\n",
        "    while (num >20):\n",
        "        num = int(input('Tente novamente. Digite um número entre 0 e 20: '))\n",
        "    if (num >=0) and (num <=20):\n",
        "        break\n",
        "print('Você digitou o número {}'.format(tupla[num]))\n",
        "\n"
      ],
      "execution_count": 1,
      "outputs": [
        {
          "output_type": "stream",
          "text": [
            "Digite um número entre 0 e 20: 1\n",
            "Você digitou o número um\n"
          ],
          "name": "stdout"
        }
      ]
    }
  ]
}