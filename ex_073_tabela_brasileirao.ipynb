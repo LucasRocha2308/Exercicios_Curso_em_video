{
  "nbformat": 4,
  "nbformat_minor": 0,
  "metadata": {
    "colab": {
      "name": "ex_073_tabela_brasileirao.ipynb",
      "provenance": [],
      "collapsed_sections": [],
      "authorship_tag": "ABX9TyPFmbAIh5lomwGe0lW7egSk",
      "include_colab_link": true
    },
    "kernelspec": {
      "name": "python3",
      "display_name": "Python 3"
    }
  },
  "cells": [
    {
      "cell_type": "markdown",
      "metadata": {
        "id": "view-in-github",
        "colab_type": "text"
      },
      "source": [
        "<a href=\"https://colab.research.google.com/github/rochinha23/Exercicios_Curso_em_video/blob/main/ex_073_tabela_brasileirao.ipynb\" target=\"_parent\"><img src=\"https://colab.research.google.com/assets/colab-badge.svg\" alt=\"Open In Colab\"/></a>"
      ]
    },
    {
      "cell_type": "markdown",
      "metadata": {
        "id": "Mc_KplLdrVHC"
      },
      "source": [
        "ex_073\n",
        "\n",
        " Crie uma tupla preenchida com os 20 primeiros colocados\n",
        "da Tabela do Campeonato Brasileiro de Futebol de 2017, \n",
        "na ordem de colacação. Depois mostre:\n",
        "A)Apenas os 5 primeiros colocados.\n",
        "B)Os últimos 4 colocados da tabela.\n",
        "C)Uma lista com os times em ordem alfabetica.\n",
        "D)Em que posição na tabela está o time da Chapecoense"
      ]
    },
    {
      "cell_type": "code",
      "metadata": {
        "colab": {
          "base_uri": "https://localhost:8080/"
        },
        "id": "zKuG7nyirawR",
        "outputId": "39f971fe-4f0f-4160-bd61-255561da80ca"
      },
      "source": [
        "print('-='*30)\n",
        "times = ('Corinthians', 'Palmeiras', 'Santos', 'Grêmio',\n",
        "'Cruzeiro', 'Flamengo', 'Vasco', 'Chapecoense',\n",
        "'Atlético Mineiro', 'Botafogo', 'Atlético-PR',\n",
        "'Bahia', 'São Paulo', 'Fluminense', 'Sport', 'Vitoria',\n",
        "'Coritiba', 'Avaí', 'Ponte Preta', 'Atlético-GO')\n",
        "print('Lista de times do Brasileiro: {}'.format(times))\n",
        "print ('-='*30)\n",
        "\n",
        "print('Os 5 primeiros são {}'.format(times[:5]))\n",
        "print('-='*30)\n",
        "print('Os 4 últimos são {}'.format(times[16:20]))\n",
        "print('-='*30)\n",
        "print('Times em ordem alfabética: {}'.format(sorted(times)))\n",
        "print('-='*30)\n",
        "print('O Chapecoense está na {}ª posição'.format(times.index('Chapecoense')+1))\n",
        "\n",
        "\n"
      ],
      "execution_count": 1,
      "outputs": [
        {
          "output_type": "stream",
          "text": [
            "-=-=-=-=-=-=-=-=-=-=-=-=-=-=-=-=-=-=-=-=-=-=-=-=-=-=-=-=-=-=\n",
            "Lista de times do Brasileiro: ('Corinthians', 'Palmeiras', 'Santos', 'Grêmio', 'Cruzeiro', 'Flamengo', 'Vasco', 'Chapecoense', 'Atlético Mineiro', 'Botafogo', 'Atlético-PR', 'Bahia', 'São Paulo', 'Fluminense', 'Sport', 'Vitoria', 'Coritiba', 'Avaí', 'Ponte Preta', 'Atlético-GO')\n",
            "-=-=-=-=-=-=-=-=-=-=-=-=-=-=-=-=-=-=-=-=-=-=-=-=-=-=-=-=-=-=\n",
            "Os 5 primeiros são ('Corinthians', 'Palmeiras', 'Santos', 'Grêmio', 'Cruzeiro')\n",
            "-=-=-=-=-=-=-=-=-=-=-=-=-=-=-=-=-=-=-=-=-=-=-=-=-=-=-=-=-=-=\n",
            "Os 4 últimos são ('Coritiba', 'Avaí', 'Ponte Preta', 'Atlético-GO')\n",
            "-=-=-=-=-=-=-=-=-=-=-=-=-=-=-=-=-=-=-=-=-=-=-=-=-=-=-=-=-=-=\n",
            "Times em ordem alfabética: ['Atlético Mineiro', 'Atlético-GO', 'Atlético-PR', 'Avaí', 'Bahia', 'Botafogo', 'Chapecoense', 'Corinthians', 'Coritiba', 'Cruzeiro', 'Flamengo', 'Fluminense', 'Grêmio', 'Palmeiras', 'Ponte Preta', 'Santos', 'Sport', 'São Paulo', 'Vasco', 'Vitoria']\n",
            "-=-=-=-=-=-=-=-=-=-=-=-=-=-=-=-=-=-=-=-=-=-=-=-=-=-=-=-=-=-=\n",
            "O Chapecoense está na 8ª posição\n"
          ],
          "name": "stdout"
        }
      ]
    }
  ]
}