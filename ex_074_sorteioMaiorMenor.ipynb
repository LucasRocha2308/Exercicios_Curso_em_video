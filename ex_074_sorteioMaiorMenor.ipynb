{
  "nbformat": 4,
  "nbformat_minor": 0,
  "metadata": {
    "colab": {
      "name": "ex_074_sorteioMaiorMenor.ipynb",
      "provenance": [],
      "collapsed_sections": [],
      "authorship_tag": "ABX9TyNvG4tMoPN/wuQauwKaXfXC",
      "include_colab_link": true
    },
    "kernelspec": {
      "name": "python3",
      "display_name": "Python 3"
    }
  },
  "cells": [
    {
      "cell_type": "markdown",
      "metadata": {
        "id": "view-in-github",
        "colab_type": "text"
      },
      "source": [
        "<a href=\"https://colab.research.google.com/github/rochinha23/Exercicios_Curso_em_video/blob/main/ex_074_sorteioMaiorMenor.ipynb\" target=\"_parent\"><img src=\"https://colab.research.google.com/assets/colab-badge.svg\" alt=\"Open In Colab\"/></a>"
      ]
    },
    {
      "cell_type": "markdown",
      "metadata": {
        "id": "vUk1djXPYD_F"
      },
      "source": [
        "ex_074\n",
        "\n",
        " Crie um programa que vai gerar cinco números aleatórios\n",
        "e colocar em uma tupla.\n",
        " Depois disso, mostre a listagem de números gerados e \n",
        "também indique o menor e o maior valor que estão na tupla"
      ]
    },
    {
      "cell_type": "code",
      "metadata": {
        "colab": {
          "base_uri": "https://localhost:8080/"
        },
        "id": "dDIcYXvpYK6B",
        "outputId": "a19940a6-3647-44fe-c121-bf0188637dcd"
      },
      "source": [
        "from random import randint\n",
        "\n",
        "n1 = randint(1, 100)\n",
        "n2 = randint(1, 100)\n",
        "n3 = randint(1, 100)\n",
        "n4 = randint(1, 100)\n",
        "n5 = randint(1, 100)\n",
        "\n",
        "tupla = (n1,n2,n3,n4,n5)\n",
        "\n",
        "print ('Os valores sorteados foram: {} {} {} {} {}'.format(tupla[0],tupla[1],tupla[2],tupla[3],tupla[4]))\n",
        "print('O maior valor sorteado foi {}'.format(max(tupla)))\n",
        "print('O menor valor sorteado foi {}'.format(min(tupla)))\n"
      ],
      "execution_count": 1,
      "outputs": [
        {
          "output_type": "stream",
          "text": [
            "Os valores sorteados foram: 45 33 43 68 2\n",
            "O maior valor sorteado foi 68\n",
            "O menor valor sorteado foi 2\n"
          ],
          "name": "stdout"
        }
      ]
    }
  ]
}