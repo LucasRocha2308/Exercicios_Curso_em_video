{
  "nbformat": 4,
  "nbformat_minor": 0,
  "metadata": {
    "colab": {
      "name": "ex_075_analise_tupla.ipynb",
      "provenance": [],
      "authorship_tag": "ABX9TyMwAphPQ7wi2voVJQ3eH2VR",
      "include_colab_link": true
    },
    "kernelspec": {
      "name": "python3",
      "display_name": "Python 3"
    }
  },
  "cells": [
    {
      "cell_type": "markdown",
      "metadata": {
        "id": "view-in-github",
        "colab_type": "text"
      },
      "source": [
        "<a href=\"https://colab.research.google.com/github/rochinha23/Exercicios_Curso_em_video/blob/main/ex_075_analise_tupla.ipynb\" target=\"_parent\"><img src=\"https://colab.research.google.com/assets/colab-badge.svg\" alt=\"Open In Colab\"/></a>"
      ]
    },
    {
      "cell_type": "markdown",
      "metadata": {
        "id": "_UxDvbIQYvCd"
      },
      "source": [
        "ex_075\n",
        "\n",
        " Desenvolva um programa que leia quatro valores pelo\n",
        "teclado e guarde-os em uma tupla. No final, mostre:\n",
        "\n",
        "A) Quantas vezes apareceu o valor 9.\n",
        "B) Em que posição foi digitado o primeiro valor 3.\n",
        "C) Quais foram os números pares."
      ]
    },
    {
      "cell_type": "code",
      "metadata": {
        "colab": {
          "base_uri": "https://localhost:8080/"
        },
        "id": "JgulJyryYz04",
        "outputId": "49bac5e3-f0a6-4a81-bda5-d61cccdaf9ae"
      },
      "source": [
        "num = (int(input('Digite um número: ')),\n",
        "       int(input('Digite outro número: ')),\n",
        "       int(input('Digite mais um número: ')),\n",
        "       int(input('Digite o último número: ')))\n",
        "print ('Você digitou os valores {}'.format(num))\n",
        "print('O valor 9 apareceu {} vez(es)'.format(num.count(9)))\n",
        "if 3 in num:\n",
        "    print('O valor 3 apareceu na {}ª posição'.format(num.index(3)+1))\n",
        "else:\n",
        "    print('O valor 3 não foi digitado em nenhuma posição')\n",
        "print('Os valores pares digitados foram ', end = '')\n",
        "\n",
        "for c in num:\n",
        "    if c % 2 == 0:\n",
        "        print(c, end=' ')\n"
      ],
      "execution_count": 1,
      "outputs": [
        {
          "output_type": "stream",
          "text": [
            "Digite um número: 6\n",
            "Digite outro número: 3\n",
            "Digite mais um número: 4\n",
            "Digite o último número: 5\n",
            "Você digitou os valores (6, 3, 4, 5)\n",
            "O valor 9 apareceu 0 vez(es)\n",
            "O valor 3 apareceu na 2ª posição\n",
            "Os valores pares digitados foram 6 4 "
          ],
          "name": "stdout"
        }
      ]
    }
  ]
}