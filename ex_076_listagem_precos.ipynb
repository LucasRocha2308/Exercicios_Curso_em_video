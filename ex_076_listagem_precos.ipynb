{
  "nbformat": 4,
  "nbformat_minor": 0,
  "metadata": {
    "colab": {
      "name": "ex_076_listagem_precos.ipynb",
      "provenance": [],
      "collapsed_sections": [],
      "authorship_tag": "ABX9TyMwiHEeUie+sQWyuu4cQHlb",
      "include_colab_link": true
    },
    "kernelspec": {
      "name": "python3",
      "display_name": "Python 3"
    }
  },
  "cells": [
    {
      "cell_type": "markdown",
      "metadata": {
        "id": "view-in-github",
        "colab_type": "text"
      },
      "source": [
        "<a href=\"https://colab.research.google.com/github/rochinha23/Exercicios_Curso_em_video/blob/main/ex_076_listagem_precos.ipynb\" target=\"_parent\"><img src=\"https://colab.research.google.com/assets/colab-badge.svg\" alt=\"Open In Colab\"/></a>"
      ]
    },
    {
      "cell_type": "markdown",
      "metadata": {
        "id": "Gn_J2OkoZihq"
      },
      "source": [
        "ex_076\n",
        "\n",
        " Crie um programa que tenha uma tupla única com nomes de\n",
        "produtos e seus respectivos preços, na sequencia.\n",
        " No final, mostre uma listagem de preços, organizando \n",
        "os dados em forma tabular. "
      ]
    },
    {
      "cell_type": "code",
      "metadata": {
        "colab": {
          "base_uri": "https://localhost:8080/"
        },
        "id": "BfnMlI5rZmQY",
        "outputId": "e10dd474-afd2-42c0-d46a-322c5f807d07"
      },
      "source": [
        "print('-'*42)\n",
        "a = 'LISTAGEM DE PREÇO'\n",
        "print('{:^42}'.format(a))\n",
        "print('-'*42)\n",
        "listagem = ('Lápis', 1.75, \n",
        "            'Borracha', 2.00, \n",
        "            'Caderno',15.90, \n",
        "            'Estojo', 25.00, \n",
        "            'Transferidor', 4.20, \n",
        "            'Composso',9.99, \n",
        "            'Mochila', 120.32, \n",
        "            'Canetas', 22.30, \n",
        "            'Livro', 34.90)\n",
        "for pos in range(0, len(listagem)):\n",
        "    if pos % 2 == 0:\n",
        "        print('{:.<30}'.format(listagem[pos]),end=' ')\n",
        "    else:\n",
        "        print('R$ {:>7.2f}'.format(listagem[pos]))\n",
        "print('-'*42)  "
      ],
      "execution_count": 1,
      "outputs": [
        {
          "output_type": "stream",
          "text": [
            "------------------------------------------\n",
            "            LISTAGEM DE PREÇO             \n",
            "------------------------------------------\n",
            "Lápis......................... R$    1.75\n",
            "Borracha...................... R$    2.00\n",
            "Caderno....................... R$   15.90\n",
            "Estojo........................ R$   25.00\n",
            "Transferidor.................. R$    4.20\n",
            "Composso...................... R$    9.99\n",
            "Mochila....................... R$  120.32\n",
            "Canetas....................... R$   22.30\n",
            "Livro......................... R$   34.90\n",
            "------------------------------------------\n"
          ],
          "name": "stdout"
        }
      ]
    }
  ]
}