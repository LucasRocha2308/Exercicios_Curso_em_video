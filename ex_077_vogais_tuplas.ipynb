{
  "nbformat": 4,
  "nbformat_minor": 0,
  "metadata": {
    "colab": {
      "name": "ex_077_vogais_tuplas.ipynb",
      "provenance": [],
      "collapsed_sections": [],
      "authorship_tag": "ABX9TyMPN0f+elcEBsOkiGap7y+0",
      "include_colab_link": true
    },
    "kernelspec": {
      "name": "python3",
      "display_name": "Python 3"
    }
  },
  "cells": [
    {
      "cell_type": "markdown",
      "metadata": {
        "id": "view-in-github",
        "colab_type": "text"
      },
      "source": [
        "<a href=\"https://colab.research.google.com/github/rochinha23/Exercicios_Curso_em_video/blob/main/ex_077_vogais_tuplas.ipynb\" target=\"_parent\"><img src=\"https://colab.research.google.com/assets/colab-badge.svg\" alt=\"Open In Colab\"/></a>"
      ]
    },
    {
      "cell_type": "markdown",
      "metadata": {
        "id": "TwT5LWtGUcqR"
      },
      "source": [
        "ex_077\n",
        "\n",
        " Crie um programa que tenha uma tupla com várias \n",
        "palavras (não usar acentos).Depois disso, você deve \n",
        "mostrar, para cada palavra, quais são as suas vogais."
      ]
    },
    {
      "cell_type": "code",
      "metadata": {
        "colab": {
          "base_uri": "https://localhost:8080/"
        },
        "id": "C_3bwm7oUns0",
        "outputId": "d72ced5e-b537-4338-a5bb-5257021e68a3"
      },
      "source": [
        "palavras = ('aprender', 'programar', 'linguagem', \n",
        "'python', 'curso', 'gratis', 'estudar', 'praticar',\n",
        "'trabalhar', 'mercado', 'programador', 'futuro')\n",
        "\n",
        "for p in palavras:\n",
        "    print('\\nNa palavra {} temos '.format(p.upper(), end=' '))\n",
        "    for v in p:\n",
        "        if v.lower() in 'aeiou':\n",
        "            print(v,end=' ')"
      ],
      "execution_count": 1,
      "outputs": [
        {
          "output_type": "stream",
          "text": [
            "\n",
            "Na palavra APRENDER temos \n",
            "a e e \n",
            "Na palavra PROGRAMAR temos \n",
            "o a a \n",
            "Na palavra LINGUAGEM temos \n",
            "i u a e \n",
            "Na palavra PYTHON temos \n",
            "o \n",
            "Na palavra CURSO temos \n",
            "u o \n",
            "Na palavra GRATIS temos \n",
            "a i \n",
            "Na palavra ESTUDAR temos \n",
            "e u a \n",
            "Na palavra PRATICAR temos \n",
            "a i a \n",
            "Na palavra TRABALHAR temos \n",
            "a a a \n",
            "Na palavra MERCADO temos \n",
            "e a o \n",
            "Na palavra PROGRAMADOR temos \n",
            "o a a o \n",
            "Na palavra FUTURO temos \n",
            "u u o "
          ],
          "name": "stdout"
        }
      ]
    }
  ]
}