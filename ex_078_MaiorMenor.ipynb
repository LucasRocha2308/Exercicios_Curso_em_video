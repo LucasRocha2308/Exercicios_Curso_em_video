{
  "nbformat": 4,
  "nbformat_minor": 0,
  "metadata": {
    "colab": {
      "name": "ex_078_MaiorMenor.ipynb",
      "provenance": [],
      "collapsed_sections": [],
      "authorship_tag": "ABX9TyPaV+rHzFglx0iTPTOwbkyd",
      "include_colab_link": true
    },
    "kernelspec": {
      "name": "python3",
      "display_name": "Python 3"
    }
  },
  "cells": [
    {
      "cell_type": "markdown",
      "metadata": {
        "id": "view-in-github",
        "colab_type": "text"
      },
      "source": [
        "<a href=\"https://colab.research.google.com/github/rochinha23/Exercicios_Curso_em_video/blob/main/ex_078_MaiorMenor.ipynb\" target=\"_parent\"><img src=\"https://colab.research.google.com/assets/colab-badge.svg\" alt=\"Open In Colab\"/></a>"
      ]
    },
    {
      "cell_type": "markdown",
      "metadata": {
        "id": "UCm7u6spW-D8"
      },
      "source": [
        "ex_078\n",
        "\n",
        " Faça um programa que leia 5 valores numéricos e \n",
        "guarde-os em uma lista.\n",
        " No final, mostre qual foi o maior e o menor valor\n",
        "digitado e as suas respectivas posições na lista."
      ]
    },
    {
      "cell_type": "code",
      "metadata": {
        "colab": {
          "base_uri": "https://localhost:8080/"
        },
        "id": "frKuNnFYXJvx",
        "outputId": "0fbd9bbb-b75b-4cfa-ae8b-b00a2a5fb7c5"
      },
      "source": [
        "lista = []\n",
        "\n",
        "for v in range(0, 5):\n",
        "    valores = int(input('Digite um valor para a posição {}: '.format(v)))\n",
        "    lista.append(valores)\n",
        "maior = max(lista)\n",
        "menor = min(lista)\n",
        "print('-='*30)\n",
        "print ('O maior valor digitado foi {} nas posições '.format(maior),end='')\n",
        "for c, v in enumerate(lista):\n",
        "    if v == maior:\n",
        "        print('{}...'.format(c))\n",
        "print ('O menor valor digitado foi {} nas posições '.format(menor),end='')        \n",
        "for c, v in enumerate(lista):    \n",
        "    if v == menor:\n",
        "        print('{}...'.format(c))\n",
        "\n"
      ],
      "execution_count": 1,
      "outputs": [
        {
          "output_type": "stream",
          "text": [
            "Digite um valor para a posição 0: 5\n",
            "Digite um valor para a posição 1: 6\n",
            "Digite um valor para a posição 2: 2\n",
            "Digite um valor para a posição 3: 3\n",
            "Digite um valor para a posição 4: 7\n",
            "-=-=-=-=-=-=-=-=-=-=-=-=-=-=-=-=-=-=-=-=-=-=-=-=-=-=-=-=-=-=\n",
            "O maior valor digitado foi 7 nas posições 4...\n",
            "O menor valor digitado foi 2 nas posições 2...\n"
          ],
          "name": "stdout"
        }
      ]
    }
  ]
}