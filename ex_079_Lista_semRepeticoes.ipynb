{
  "nbformat": 4,
  "nbformat_minor": 0,
  "metadata": {
    "colab": {
      "name": "ex_079_Lista_semRepeticoes.ipynb",
      "provenance": [],
      "collapsed_sections": [],
      "authorship_tag": "ABX9TyP1xBJbPDx0uDavn31fSTO/",
      "include_colab_link": true
    },
    "kernelspec": {
      "name": "python3",
      "display_name": "Python 3"
    }
  },
  "cells": [
    {
      "cell_type": "markdown",
      "metadata": {
        "id": "view-in-github",
        "colab_type": "text"
      },
      "source": [
        "<a href=\"https://colab.research.google.com/github/rochinha23/Exercicios_Curso_em_video/blob/main/ex_079_Lista_semRepeticoes.ipynb\" target=\"_parent\"><img src=\"https://colab.research.google.com/assets/colab-badge.svg\" alt=\"Open In Colab\"/></a>"
      ]
    },
    {
      "cell_type": "markdown",
      "metadata": {
        "id": "QPKp5-4PYT6Y"
      },
      "source": [
        "ex_079\n",
        "\n",
        " Crie um programa onde o usuário possa digitar vários \n",
        "valores numéricos e cadastre-os em uma lista. Caso o \n",
        "número já exista lá dentro, ele não será adicionado.\n",
        " No final, serão exibidos todos os valores únicos \n",
        "digitados, em ordem crescente."
      ]
    },
    {
      "cell_type": "code",
      "metadata": {
        "colab": {
          "base_uri": "https://localhost:8080/"
        },
        "id": "n13pDEiaYZkO",
        "outputId": "f47bc23b-f943-4a20-fb5d-2e59282cc31f"
      },
      "source": [
        "lista = []\n",
        "while True:\n",
        "    num = int(input('Digite um valor: '))\n",
        "    if num in lista:\n",
        "        print('Valor duplicado! Não vou adicionar...')\n",
        "        lista.append(num)\n",
        "        lista.pop()\n",
        "    else:\n",
        "        lista.append(num)\n",
        "        print('Valor adicionado com sucesso...')\n",
        "    continuar  = str(input('Quer continuar? [S/N] ')).strip().upper()\n",
        "    if continuar == 'N':\n",
        "        break\n",
        "print('-='*30)\n",
        "lista.sort()\n",
        "print('Você digitou os valores{}'.format(lista))\n"
      ],
      "execution_count": 1,
      "outputs": [
        {
          "output_type": "stream",
          "text": [
            "Digite um valor: 6\n",
            "Valor adicionado com sucesso...\n",
            "Quer continuar? [S/N] s\n",
            "Digite um valor: 6\n",
            "Valor duplicado! Não vou adicionar...\n",
            "Quer continuar? [S/N] s\n",
            "Digite um valor: 8\n",
            "Valor adicionado com sucesso...\n",
            "Quer continuar? [S/N] n\n",
            "-=-=-=-=-=-=-=-=-=-=-=-=-=-=-=-=-=-=-=-=-=-=-=-=-=-=-=-=-=-=\n",
            "Você digitou os valores[6, 8]\n"
          ],
          "name": "stdout"
        }
      ]
    }
  ]
}