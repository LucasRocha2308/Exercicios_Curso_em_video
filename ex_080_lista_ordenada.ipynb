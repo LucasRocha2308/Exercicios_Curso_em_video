{
  "nbformat": 4,
  "nbformat_minor": 0,
  "metadata": {
    "colab": {
      "name": "ex_080_lista_ordenada.ipynb",
      "provenance": [],
      "collapsed_sections": [],
      "authorship_tag": "ABX9TyPzfW28vabZnp9caBWpmMqV",
      "include_colab_link": true
    },
    "kernelspec": {
      "name": "python3",
      "display_name": "Python 3"
    }
  },
  "cells": [
    {
      "cell_type": "markdown",
      "metadata": {
        "id": "view-in-github",
        "colab_type": "text"
      },
      "source": [
        "<a href=\"https://colab.research.google.com/github/rochinha23/Exercicios_Curso_em_video/blob/main/ex_080_lista_ordenada.ipynb\" target=\"_parent\"><img src=\"https://colab.research.google.com/assets/colab-badge.svg\" alt=\"Open In Colab\"/></a>"
      ]
    },
    {
      "cell_type": "markdown",
      "metadata": {
        "id": "B_j8qJj9ZWU9"
      },
      "source": [
        "ex_080\n",
        "\n",
        " Crie um programa onde o usuário possa digitar cinco\n",
        "valores numéricos e cadastre-os em uma lista, já na\n",
        "posição correta de inserção(sem usar o sort()).\n",
        " No final, mostre a lista ordenada na tela."
      ]
    },
    {
      "cell_type": "code",
      "metadata": {
        "colab": {
          "base_uri": "https://localhost:8080/"
        },
        "id": "bPDdc0ghZamc",
        "outputId": "0b39cd82-2a86-4138-d433-a6918aa6ebdc"
      },
      "source": [
        "lista = []\n",
        "\n",
        "for n in range (0, 5):\n",
        "    num = int(input('Digite um valor: '))\n",
        "    if n == 0 or num > lista[-1]:\n",
        "        lista.append(num)\n",
        "        print('Adicionando ao final da lista...')\n",
        "    else:\n",
        "        pos = 0\n",
        "        while pos < len(lista):\n",
        "            if num <= lista[pos]:\n",
        "                lista.insert(pos, num)\n",
        "                print('Adicionado na posição {} da lista...'.format(pos))\n",
        "                break\n",
        "            pos += 1\n",
        "print('-='*30)        \n",
        "print('Os valores digitados em ordem foram {}'.format(lista))\n"
      ],
      "execution_count": 1,
      "outputs": [
        {
          "output_type": "stream",
          "text": [
            "Digite um valor: 6\n",
            "Adicionando ao final da lista...\n",
            "Digite um valor: 8\n",
            "Adicionando ao final da lista...\n",
            "Digite um valor: 4\n",
            "Adicionado na posição 0 da lista...\n",
            "Digite um valor: 2\n",
            "Adicionado na posição 0 da lista...\n",
            "Digite um valor: 9\n",
            "Adicionando ao final da lista...\n",
            "-=-=-=-=-=-=-=-=-=-=-=-=-=-=-=-=-=-=-=-=-=-=-=-=-=-=-=-=-=-=\n",
            "Os valores digitados em ordem foram [2, 4, 6, 8, 9]\n"
          ],
          "name": "stdout"
        }
      ]
    }
  ]
}