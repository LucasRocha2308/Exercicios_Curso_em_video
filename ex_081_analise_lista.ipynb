{
  "nbformat": 4,
  "nbformat_minor": 0,
  "metadata": {
    "colab": {
      "name": "ex_081_analise_lista.ipynb",
      "provenance": [],
      "collapsed_sections": [],
      "authorship_tag": "ABX9TyNKQ6ELq3qi0z/mj7CfibqT",
      "include_colab_link": true
    },
    "kernelspec": {
      "name": "python3",
      "display_name": "Python 3"
    }
  },
  "cells": [
    {
      "cell_type": "markdown",
      "metadata": {
        "id": "view-in-github",
        "colab_type": "text"
      },
      "source": [
        "<a href=\"https://colab.research.google.com/github/rochinha23/Exercicios_Curso_em_video/blob/main/ex_081_analise_lista.ipynb\" target=\"_parent\"><img src=\"https://colab.research.google.com/assets/colab-badge.svg\" alt=\"Open In Colab\"/></a>"
      ]
    },
    {
      "cell_type": "markdown",
      "metadata": {
        "id": "_3iIEDANbiPt"
      },
      "source": [
        "ex_081\n",
        "\n",
        " Crie um programa que vai ler vários números e colocar \n",
        "em uma lista.\n",
        " Depois disso, mostre:\n",
        "A) Quantos números foram digitados.\n",
        "\n",
        "B) A lista de valores, ordenado de forma decrecescente.\n",
        "\n",
        "C) Se o valor 5 foi digitado e está ou não na lista."
      ]
    },
    {
      "cell_type": "code",
      "metadata": {
        "colab": {
          "base_uri": "https://localhost:8080/"
        },
        "id": "wvVGmBi1boep",
        "outputId": "a4131c29-293a-4bb2-bedb-6583b88bf1bc"
      },
      "source": [
        "lista = []\n",
        "\n",
        "while True:\n",
        "    num = int(input('Digite um valor: '))\n",
        "    lista.append(num)\n",
        "    continuar = str(input('Quer continuar? [S/N] ')).strip().upper()\n",
        "    if continuar == 'N':\n",
        "        break\n",
        "lista.sort()\n",
        "lista.reverse()\n",
        "print('Você digitou {} elementos'.format(len(lista)))\n",
        "print('Os valores em ordem decrescente são {}'.format(lista))\n",
        "\n",
        "if 5 in lista:\n",
        "    print('O valor 5 faz parte da lista!')\n",
        "else:\n",
        "    print('O valor 5 não faz parte da lista')\n"
      ],
      "execution_count": 1,
      "outputs": [
        {
          "output_type": "stream",
          "text": [
            "Digite um valor: 6\n",
            "Quer continuar? [S/N] s\n",
            "Digite um valor: 8\n",
            "Quer continuar? [S/N] s\n",
            "Digite um valor: 4\n",
            "Quer continuar? [S/N] s\n",
            "Digite um valor: 5\n",
            "Quer continuar? [S/N] s\n",
            "Digite um valor: 4\n",
            "Quer continuar? [S/N] n\n",
            "Você digitou 5 elementos\n",
            "Os valores em ordem decrescente são [8, 6, 5, 4, 4]\n",
            "O valor 5 faz parte da lista!\n"
          ],
          "name": "stdout"
        }
      ]
    }
  ]
}