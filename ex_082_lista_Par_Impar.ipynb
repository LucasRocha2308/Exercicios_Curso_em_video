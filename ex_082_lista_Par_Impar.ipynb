{
  "nbformat": 4,
  "nbformat_minor": 0,
  "metadata": {
    "colab": {
      "name": "ex_082_lista_Par_Impar.ipynb",
      "provenance": [],
      "collapsed_sections": [],
      "authorship_tag": "ABX9TyN5YRzLOTA9ncEn3PazjNQg",
      "include_colab_link": true
    },
    "kernelspec": {
      "name": "python3",
      "display_name": "Python 3"
    }
  },
  "cells": [
    {
      "cell_type": "markdown",
      "metadata": {
        "id": "view-in-github",
        "colab_type": "text"
      },
      "source": [
        "<a href=\"https://colab.research.google.com/github/rochinha23/Exercicios_Curso_em_video/blob/main/ex_082_lista_Par_Impar.ipynb\" target=\"_parent\"><img src=\"https://colab.research.google.com/assets/colab-badge.svg\" alt=\"Open In Colab\"/></a>"
      ]
    },
    {
      "cell_type": "markdown",
      "metadata": {
        "id": "-gUNxnAgkK_G"
      },
      "source": [
        "ex_082\n",
        "\n",
        " Crie um programa que vai ler vários números e colocar \n",
        "em uma lista.\n",
        " Depois disso, crie duas listas extras que vão conter\n",
        "apenas os valores pares e os valores impares digitados,\n",
        "respectivamente.\n",
        " Ao final, mostre o conteúdo dos três listas geradas."
      ]
    },
    {
      "cell_type": "code",
      "metadata": {
        "colab": {
          "base_uri": "https://localhost:8080/"
        },
        "id": "TtHPkeZekO5x",
        "outputId": "3d3dc791-a5a2-4d63-cf2a-e747ab0aff9c"
      },
      "source": [
        "lista = []\n",
        "listaPar = []\n",
        "listaImpar = []\n",
        "\n",
        "while True:\n",
        "    num = int(input('Digite um número: '))\n",
        "    lista.append(num)\n",
        "    continuar = str(input('Quer continuar? [S/N] ')).strip().upper()\n",
        "    if continuar == 'N':\n",
        "        break\n",
        "print('-='*30)\n",
        "print('A lista completa é {} '.format(lista))\n",
        "for n in lista:\n",
        "    if n%2 == 0:\n",
        "        listaPar.append(n)\n",
        "    else:\n",
        "        listaImpar.append(n)\n",
        "print('A lista de pares é {} '.format(listaPar))\n",
        "print('A lista de Ímpares é {} '.format(listaImpar))\n"
      ],
      "execution_count": 1,
      "outputs": [
        {
          "output_type": "stream",
          "text": [
            "Digite um número: 6\n",
            "Quer continuar? [S/N] s\n",
            "Digite um número: 4\n",
            "Quer continuar? [S/N] s\n",
            "Digite um número: 6\n",
            "Quer continuar? [S/N] s\n",
            "Digite um número: 3\n",
            "Quer continuar? [S/N] s\n",
            "Digite um número: 2\n",
            "Quer continuar? [S/N] n\n",
            "-=-=-=-=-=-=-=-=-=-=-=-=-=-=-=-=-=-=-=-=-=-=-=-=-=-=-=-=-=-=\n",
            "A lista completa é [6, 4, 6, 3, 2] \n",
            "A lista de pares é [6, 4, 6, 2] \n",
            "A lista de Ímpares é [3] \n"
          ],
          "name": "stdout"
        }
      ]
    }
  ]
}