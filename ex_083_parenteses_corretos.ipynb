{
  "nbformat": 4,
  "nbformat_minor": 0,
  "metadata": {
    "colab": {
      "name": "ex_083_parenteses_corretos.ipynb",
      "provenance": [],
      "collapsed_sections": [],
      "authorship_tag": "ABX9TyON3ixu9LV2FDyPhyrZVH5X",
      "include_colab_link": true
    },
    "kernelspec": {
      "name": "python3",
      "display_name": "Python 3"
    }
  },
  "cells": [
    {
      "cell_type": "markdown",
      "metadata": {
        "id": "view-in-github",
        "colab_type": "text"
      },
      "source": [
        "<a href=\"https://colab.research.google.com/github/rochinha23/Exercicios_Curso_em_video/blob/main/ex_083_parenteses_corretos.ipynb\" target=\"_parent\"><img src=\"https://colab.research.google.com/assets/colab-badge.svg\" alt=\"Open In Colab\"/></a>"
      ]
    },
    {
      "cell_type": "markdown",
      "metadata": {
        "id": "NAu6tPUx3zOW"
      },
      "source": [
        "ex_083\n",
        "\n",
        " Crie um programa onde o usuário digite uma expressão \n",
        "qualquer que use parênteses. Seu aplicativo deverá \n",
        "analisar se a expressão passada está com os parenteses \n",
        "abertos e fechados na ordem correta."
      ]
    },
    {
      "cell_type": "code",
      "metadata": {
        "colab": {
          "base_uri": "https://localhost:8080/"
        },
        "id": "biWPLby34AUm",
        "outputId": "451a8cbf-0f7e-4c6e-b40a-5b2af3862640"
      },
      "source": [
        "expressao = str(input('Digite uma  expressão: '))\n",
        "lista = []\n",
        "for simb in expressao:\n",
        "    if simb == '(':\n",
        "        lista.append('(')\n",
        "    elif simb == ')':\n",
        "        if len(lista) > 0:\n",
        "            lista.pop()\n",
        "        else:\n",
        "            lista.append(')')\n",
        "            break\n",
        "if len(lista) == 0:\n",
        "    print('Sua expressão está válida')\n",
        "else:\n",
        "    print('Sua expressão está errada')\n"
      ],
      "execution_count": 1,
      "outputs": [
        {
          "output_type": "stream",
          "text": [
            "Digite uma  expressão: (x+1)*(x - (y-4)\n",
            "Sua expressão está errada\n"
          ],
          "name": "stdout"
        }
      ]
    }
  ]
}