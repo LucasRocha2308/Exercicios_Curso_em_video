{
  "nbformat": 4,
  "nbformat_minor": 0,
  "metadata": {
    "colab": {
      "name": "ex_084_Analise_pesos.ipynb",
      "provenance": [],
      "collapsed_sections": [],
      "authorship_tag": "ABX9TyOsKPKQf5WrQfpcND58mtW/",
      "include_colab_link": true
    },
    "kernelspec": {
      "name": "python3",
      "display_name": "Python 3"
    }
  },
  "cells": [
    {
      "cell_type": "markdown",
      "metadata": {
        "id": "view-in-github",
        "colab_type": "text"
      },
      "source": [
        "<a href=\"https://colab.research.google.com/github/rochinha23/Exercicios_Curso_em_video/blob/main/ex_084_Analise_pesos.ipynb\" target=\"_parent\"><img src=\"https://colab.research.google.com/assets/colab-badge.svg\" alt=\"Open In Colab\"/></a>"
      ]
    },
    {
      "cell_type": "markdown",
      "metadata": {
        "id": "2gkqeD8xfP3-"
      },
      "source": [
        "ex_084\n",
        "\n",
        " Faça um programa que leia nome e peso de vários \n",
        "pessoas, guardando tudo em uma lista. No final, mostre:\n",
        "A) Quantas pessoas foram cadastradas.\n",
        "B) Uma listagem com as pessoas mais pesadas.\n",
        "C) Uma listagem com as pessoas mais leves."
      ]
    },
    {
      "cell_type": "code",
      "metadata": {
        "id": "dBoMo8lnfbtL"
      },
      "source": [
        "#declarando as listas\n",
        "NumPeso = []\n",
        "listaJunto = []\n",
        "#inicializando as variaveis de maior e menor\n",
        "maior = menor = 0\n",
        "#loop para receber as inumeras entradas \n",
        "while True:\n",
        "    num = str(input('Nome: '))\n",
        "    NumPeso.append(num)\n",
        "    peso = int(input('Peso: '))\n",
        "    NumPeso.append(peso)\n",
        "#condicional para verificar o maior e menor    \n",
        "    if len(listaJunto) == 0:\n",
        "        maior=menor=NumPeso[1]\n",
        "    else:\n",
        "        if NumPeso[1] > maior:\n",
        "            maior = NumPeso[1]\n",
        "        if NumPeso[1] < menor:\n",
        "            menor = NumPeso[1]\n",
        "#Juntando as listas            \n",
        "    listaJunto.append(NumPeso[:])\n",
        "#Limpando os dados coletados na lista NumPeso\n",
        "    NumPeso.clear()\n",
        "#Verificando se o usuario quer continuar\n",
        "    continuar = str(input('Quer continuar? [S/N] ')).strip().upper()\n",
        "    if continuar == 'N':\n",
        "        break\n",
        "print('Ao todo, você cadastrou {} pessoas'.format(len(listaJunto)))\n",
        "print('O maior peso foi de {}kg. Peso de '.format(maior), end='')\n",
        "#verificando em todos os itens da lista quem tem o maior peso\n",
        "for p in listaJunto:\n",
        "    if p[1] == maior:\n",
        "        print('[{}]'.format(p[0]), end='')\n",
        "print()\n",
        "#verificando quem tem o menor peso\n",
        "print('O menor peso foi de {}kg. Peso de '.format(menor), end='')\n",
        "for p in listaJunto:\n",
        "    if p[1] == menor:\n",
        "        print('[{}]'.format(p[0]),end='')\n",
        "\n"
      ],
      "execution_count": null,
      "outputs": []
    }
  ]
}