{
  "nbformat": 4,
  "nbformat_minor": 0,
  "metadata": {
    "colab": {
      "name": "ex_085_ListaParImpar.ipynb",
      "provenance": [],
      "collapsed_sections": [],
      "authorship_tag": "ABX9TyMra5pWGcmzKzUh5HCDXg91",
      "include_colab_link": true
    },
    "kernelspec": {
      "name": "python3",
      "display_name": "Python 3"
    }
  },
  "cells": [
    {
      "cell_type": "markdown",
      "metadata": {
        "id": "view-in-github",
        "colab_type": "text"
      },
      "source": [
        "<a href=\"https://colab.research.google.com/github/rochinha23/Exercicios_Curso_em_video/blob/main/ex_085_ListaParImpar.ipynb\" target=\"_parent\"><img src=\"https://colab.research.google.com/assets/colab-badge.svg\" alt=\"Open In Colab\"/></a>"
      ]
    },
    {
      "cell_type": "markdown",
      "metadata": {
        "id": "_hO0F8-RfzOP"
      },
      "source": [
        "ex_085\n",
        "\n",
        " Crie um programa onde o usuário possa digitar sete \n",
        "valores numéricos e cadastre-os em uma lista única\n",
        "que mantenha separados os valores impares. No final,\n",
        "mostre os valores pares e impares em ordem crescente."
      ]
    },
    {
      "cell_type": "code",
      "metadata": {
        "id": "_0D3rwAFfz8j"
      },
      "source": [
        "ParImpar = [[], []]\n",
        "\n",
        "for n in range(1, 8):\n",
        "    num = int(input('Digite o {}o. valor: '.format(n)))\n",
        "    if num%2 == 0:\n",
        "        ParImpar[0].append(num)\n",
        "    else:\n",
        "        ParImpar[1].append(num)\n",
        "print ('-='*30)\n",
        "ParImpar[0].sort()\n",
        "ParImpar[1].sort()\n",
        "print('Os valores pares digitados foram: {}'.format(ParImpar[0]))\n",
        "print('Os valores ímpares digitados formam: {} '.format(ParImpar[1]))\n"
      ],
      "execution_count": null,
      "outputs": []
    }
  ]
}